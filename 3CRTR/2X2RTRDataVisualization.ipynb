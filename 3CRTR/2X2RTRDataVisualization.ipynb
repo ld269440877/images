{
 "cells": [
  {
   "cell_type": "code",
   "execution_count": 1,
   "metadata": {
    "ExecuteTime": {
     "end_time": "2019-07-18T01:00:21.303254Z",
     "start_time": "2019-07-18T01:00:20.438252Z"
    }
   },
   "outputs": [
    {
     "name": "stdout",
     "output_type": "stream",
     "text": [
      "Using matplotlib backend: Qt5Agg\n",
      "Populating the interactive namespace from numpy and matplotlib\n"
     ]
    }
   ],
   "source": [
    "import pandas as pd\n",
    "import numpy as np\n",
    "from pandas import DataFrame,Series\n",
    "import os   #检验文件是否存在，避免重复写入\n",
    "import matplotlib.pyplot as plt\n",
    "from mpl_toolkits.mplot3d import Axes3D\n",
    "%pylab\n",
    "# %matplotlib\n",
    "# import Ipynb_importer\n"
   ]
  },
  {
   "cell_type": "markdown",
   "metadata": {},
   "source": [
    "# 碳纳米管半径"
   ]
  },
  {
   "cell_type": "code",
   "execution_count": 2,
   "metadata": {
    "ExecuteTime": {
     "end_time": "2019-07-18T01:00:21.315254Z",
     "start_time": "2019-07-18T01:00:21.307250Z"
    }
   },
   "outputs": [],
   "source": [
    "RR=  {}\n",
    "for m in range(5,37):\n",
    "    n=m\n",
    "    acc = 0.1418\n",
    "    r= 3**0.5 * acc * (n*n + n*m + m*m)**0.5/3.14/2\n",
    "    RR.update({\"(%s,%s)\" % (m,n):\"%.3f\" % (r)})"
   ]
  },
  {
   "cell_type": "code",
   "execution_count": 3,
   "metadata": {
    "ExecuteTime": {
     "end_time": "2019-07-18T01:00:21.335258Z",
     "start_time": "2019-07-18T01:00:21.320254Z"
    }
   },
   "outputs": [],
   "source": [
    "R0=  {}\n",
    "for m in range(8,41):\n",
    "    n=0\n",
    "    acc = 0.1418\n",
    "    r= 3**0.5 * acc * (n*n + n*m + m*m)**0.5/3.14/2\n",
    "    R0.update({\"(%s,%s)\" % (m,n):\"%.3f\" % (r)})"
   ]
  },
  {
   "cell_type": "code",
   "execution_count": 4,
   "metadata": {
    "ExecuteTime": {
     "end_time": "2019-07-18T01:00:21.351250Z",
     "start_time": "2019-07-18T01:00:21.341253Z"
    }
   },
   "outputs": [],
   "source": [
    "for key,value in R0.items():\n",
    "    RR.update({key:value})\n",
    "#     print(key)\n",
    "\n",
    "\n",
    "R = RR"
   ]
  },
  {
   "cell_type": "code",
   "execution_count": 5,
   "metadata": {
    "ExecuteTime": {
     "end_time": "2019-07-18T01:00:21.370251Z",
     "start_time": "2019-07-18T01:00:21.355253Z"
    }
   },
   "outputs": [
    {
     "data": {
      "text/plain": [
       "'F:\\\\_python\\\\python_module\\\\Armchair'"
      ]
     },
     "execution_count": 5,
     "metadata": {},
     "output_type": "execute_result"
    }
   ],
   "source": [
    "pwd"
   ]
  },
  {
   "cell_type": "markdown",
   "metadata": {},
   "source": [
    "# 获取当前目录"
   ]
  },
  {
   "cell_type": "code",
   "execution_count": 6,
   "metadata": {
    "ExecuteTime": {
     "end_time": "2019-07-18T01:00:21.382254Z",
     "start_time": "2019-07-18T01:00:21.375251Z"
    }
   },
   "outputs": [],
   "source": [
    "catalog = os.getcwd()  #获取当前目录"
   ]
  },
  {
   "cell_type": "markdown",
   "metadata": {},
   "source": [
    "# infile_M* 输入要读取的CSV文件"
   ]
  },
  {
   "cell_type": "code",
   "execution_count": 7,
   "metadata": {
    "ExecuteTime": {
     "end_time": "2019-07-18T01:00:21.511251Z",
     "start_time": "2019-07-18T01:00:21.498253Z"
    }
   },
   "outputs": [
    {
     "data": {
      "text/plain": [
       "['M1111S270', '1111', '1111', '1111', '1111']"
      ]
     },
     "execution_count": 7,
     "metadata": {},
     "output_type": "execute_result"
    }
   ],
   "source": [
    "infile_M1= (r\"F:\\_python\\20190602\\M1111S270-1111-1111-1111-1111\\RTR.csv\").replace(r\"\\\\\",r\"\\\\\\\\\")\n",
    "infile_M2 = (r\"F:\\_python\\20190521\\M1111S280-1111-1111-1111-1111\\RTR.csv\").replace(r\"\\\\\",r\"\\\\\\\\\")\n",
    "infile_M3 = (r\"F:\\_python\\20190521\\M1111S290-1111-1111-1111-1111\\RTR.csv\").replace(r\"\\\\\",r\"\\\\\\\\\")\n",
    "infile_M4 = (r\"F:\\_python\\20190521\\M1111S300-1111-1111-1111-1111\\RTR.csv\").replace(r\"\\\\\",r\"\\\\\\\\\")\n",
    "infile_M1.split(\"\\\\\")[-2].split(\"-\")"
   ]
  },
  {
   "cell_type": "markdown",
   "metadata": {},
   "source": [
    "# 电机和转子根据infile_M* 转换成指定格式"
   ]
  },
  {
   "cell_type": "code",
   "execution_count": 8,
   "metadata": {
    "ExecuteTime": {
     "end_time": "2019-07-18T01:00:21.787252Z",
     "start_time": "2019-07-18T01:00:21.776250Z"
    }
   },
   "outputs": [
    {
     "data": {
      "text/plain": [
       "(int, 0, 4, [0, 1, 2, 3, 4])"
      ]
     },
     "execution_count": 8,
     "metadata": {},
     "output_type": "execute_result"
    }
   ],
   "source": [
    "# python创建顺序变量名（将字符串转换成变量）\n",
    "mr = range(5)\n",
    "for i in range(0,len(mr)):\n",
    "    b = 'mr_' + str(i)\n",
    "    exec(b + '= %r' % mr[i])\n",
    "    \n",
    "mr = [mr_0,mr_1,mr_2,mr_3,mr_4]\n",
    "type(mr_1),mr_0,mr_4,mr"
   ]
  },
  {
   "cell_type": "code",
   "execution_count": 9,
   "metadata": {
    "ExecuteTime": {
     "end_time": "2019-07-18T01:00:21.810252Z",
     "start_time": "2019-07-18T01:00:21.792255Z"
    }
   },
   "outputs": [],
   "source": [
    "def Mmr(mr_x):\n",
    "    if len(mr_x) is 2:\n",
    "        mr_x = '(' + mr_x[0] + ',' + mr_x[1] + ')'\n",
    "        return(mr_x)\n",
    "    elif len(mr_x) is 3 :\n",
    "        mr_x = '(' + mr_x[:2] + ',' + mr_x[-1] + ')'\n",
    "        return(mr_x)\n",
    "    elif len(mr_x) is 4 :\n",
    "        mr_x = '(' + mr_x[:2] + ',' + mr_x[2:] + ')'\n",
    "        return(mr_x)\n",
    "    else :\n",
    "        print(\"\\033[1;31;43mError\\033[0m\")  "
   ]
  },
  {
   "cell_type": "code",
   "execution_count": 10,
   "metadata": {
    "ExecuteTime": {
     "end_time": "2019-07-18T01:00:21.829255Z",
     "start_time": "2019-07-18T01:00:21.815251Z"
    }
   },
   "outputs": [],
   "source": [
    "def mr_format(mr):\n",
    "    mr[1] = \"%s\"%Mmr(mr[1])\n",
    "    mr[2] = \"%s\"%Mmr(mr[2])\n",
    "    mr[3] = \"%s\"%Mmr(mr[3])\n",
    "    mr[4] = \"%s\"%Mmr(mr[4])\n",
    "    return mr"
   ]
  },
  {
   "cell_type": "code",
   "execution_count": 11,
   "metadata": {
    "ExecuteTime": {
     "end_time": "2019-07-18T01:00:21.848255Z",
     "start_time": "2019-07-18T01:00:21.834250Z"
    }
   },
   "outputs": [],
   "source": [
    "def stator_format(Mx_stators):\n",
    "    Mx_stators[0] = \"%s\"%Mmr(Mx_stators[0])\n",
    "    Mx_stators[1] = \"%s\"%Mmr(Mx_stators[1])\n",
    "    Mx_stators[2] = \"%s\"%Mmr(Mx_stators[2])\n",
    "    return Mx_stators"
   ]
  },
  {
   "cell_type": "code",
   "execution_count": 12,
   "metadata": {
    "ExecuteTime": {
     "end_time": "2019-07-18T01:00:21.909251Z",
     "start_time": "2019-07-18T01:00:21.855250Z"
    }
   },
   "outputs": [
    {
     "data": {
      "text/plain": [
       "(['M1111S270', '(11,11)', '/', '(11,11)', '/', '(11,11)', '/', '(11,11)'],\n",
       " ['M1111S280', '(11,11)', '/', '(11,11)', '/', '(11,11)', '/', '(11,11)'],\n",
       " ['M1111S290', '(11,11)', '/', '(11,11)', '/', '(11,11)', '/', '(11,11)'],\n",
       " ['M1111S300', '(11,11)', '/', '(11,11)', '/', '(11,11)', '/', '(11,11)'])"
      ]
     },
     "execution_count": 12,
     "metadata": {},
     "output_type": "execute_result"
    }
   ],
   "source": [
    "# 添加 文字text   M1:(5,5)/(5,5)/(5,5)\n",
    "for i in range(4):\n",
    "    if i is 0:\n",
    "        mr = infile_M1.split(\"\\\\\")[-2].split(\"-\")\n",
    "#         print(i,(models_1,M1_stators))\n",
    "        M1 = mr_format(mr)\n",
    "        models_1 = [mr[0],M1[1],\"/\",M1[2],\"/\",M1[3],\"/\",M1[4]]\n",
    "        M1_rr1 = R.get(M1[1])\n",
    "#         models_1[0] = \"M1S1010\"\n",
    "        M1_stators = ((models_1[0].split(\"S\")[-1]+\"_\")*3).split(\"_\")[:3]\n",
    "        M1_stators = stator_format(M1_stators)\n",
    "        M1_sr1 = R.get(M1_stators[0])\n",
    "    elif i is 1:\n",
    "        mr = infile_M2.split(\"\\\\\")[-2].split(\"-\")\n",
    "#         print(i,(models_2,M2_stators))\n",
    "        M2 = mr_format(mr)\n",
    "        models_2 = [mr[0],M2[1],\"/\",M2[2],\"/\",M2[3],\"/\",M2[4]]\n",
    "        M2_rr1 = R.get(M2[1])\n",
    "        M2_stators = ((models_2[0].split(\"S\")[-1]+\"_\")*3).split(\"_\")[:3]\n",
    "        M2_stators = stator_format(M2_stators)\n",
    "        M2_sr1 = R.get(M2_stators[0])\n",
    "    elif i is 2:\n",
    "        mr = infile_M3.split(\"\\\\\")[-2].split(\"-\")\n",
    "#         print(i,(models_3,M3_stators))\n",
    "        M3 = mr_format(mr)\n",
    "        models_3 = [mr[0],M3[1],\"/\",M3[2],\"/\",M3[3],\"/\",M3[4]]\n",
    "        M3_rr1 = R.get(M3[1])\n",
    "        M3_stators = ((models_3[0].split(\"S\")[-1]+\"_\")*3).split(\"_\")[:3]\n",
    "        M3_stators = stator_format(M3_stators)\n",
    "        M3_sr1 = R.get(M3_stators[0])\n",
    "    elif i is 3:\n",
    "        mr = infile_M4.split(\"\\\\\")[-2].split(\"-\")\n",
    "#         print(i,(models_4,M4_stators))\n",
    "        M4  = mr_format(mr)\n",
    "        models_4 = [mr[0],M4[1],\"/\",M4[2],\"/\",M4[3],\"/\",M4[4]]\n",
    "        M4_rr1 = R.get(M4[1])\n",
    "        M4_stators = ((models_4[0].split(\"S\")[-1]+\"_\")*3).split(\"_\")[:3]\n",
    "        M4_stators = stator_format(M4_stators)\n",
    "        M4_sr1 = R.get(M4_stators[0])\n",
    "models_1,models_2,models_3,models_4"
   ]
  },
  {
   "cell_type": "markdown",
   "metadata": {},
   "source": [
    "# 设置图片中text模型编号"
   ]
  },
  {
   "cell_type": "code",
   "execution_count": 13,
   "metadata": {
    "ExecuteTime": {
     "end_time": "2019-07-18T01:00:22.128251Z",
     "start_time": "2019-07-18T01:00:22.123251Z"
    }
   },
   "outputs": [],
   "source": [
    "models_1[0] = \"M1\"\n",
    "models_2[0] = \"M2\"\n",
    "models_3[0] = \"M3\"\n",
    "models_4[0] = \"M4\""
   ]
  },
  {
   "cell_type": "code",
   "execution_count": 14,
   "metadata": {
    "ExecuteTime": {
     "end_time": "2019-07-18T01:00:22.148254Z",
     "start_time": "2019-07-18T01:00:22.138254Z"
    }
   },
   "outputs": [
    {
     "data": {
      "text/plain": [
       "'M1'"
      ]
     },
     "execution_count": 14,
     "metadata": {},
     "output_type": "execute_result"
    }
   ],
   "source": [
    "models_1[0]"
   ]
  },
  {
   "cell_type": "markdown",
   "metadata": {},
   "source": [
    "# 定子与转子间的半径差"
   ]
  },
  {
   "cell_type": "code",
   "execution_count": 15,
   "metadata": {
    "ExecuteTime": {
     "end_time": "2019-07-18T01:00:22.534251Z",
     "start_time": "2019-07-18T01:00:22.524248Z"
    }
   },
   "outputs": [],
   "source": [
    "M1_dr1 = \"%.3f\"%(float(M1_sr1) - float(M1_rr1))\n",
    "M2_dr1 = \"%.3f\"%(float(M2_sr1) - float(M2_rr1))\n",
    "M3_dr1 = \"%.3f\"%(float(M3_sr1) - float(M3_rr1))\n",
    "M4_dr1 = \"%.3f\"%(float(M4_sr1) - float(M4_rr1))"
   ]
  },
  {
   "cell_type": "markdown",
   "metadata": {},
   "source": [
    "# 图片中模型文本格式函数"
   ]
  },
  {
   "cell_type": "code",
   "execution_count": 16,
   "metadata": {
    "ExecuteTime": {
     "end_time": "2019-07-18T01:00:22.710252Z",
     "start_time": "2019-07-18T01:00:22.700251Z"
    }
   },
   "outputs": [],
   "source": [
    "# models text function\n",
    "def model_format(models_x,stators_x):\n",
    "    model_str =models_x[0] + \":\"\n",
    "    space_symbol_1 = \"-\"\n",
    "    space_symbol_2 = \"/\"\n",
    "    rainbow_text(text_x,text_y,[model_str,models_x[1].strip(),space_symbol_1,\n",
    "                                models_x[3].strip(),space_symbol_2,stators_x[0].strip(),space_symbol_1,\n",
    "                                models_x[5].strip(),space_symbol_2,stators_x[1].strip(),space_symbol_1,\n",
    "                                models_x[7].strip(),space_symbol_2,stators_x[2].strip()],\n",
    "             [black_color,motor_color,black_color,\n",
    "              rotor1_color,black_color,stator_color,black_color,\n",
    "              rotor2_color,black_color,stator_color,black_color,\n",
    "              rotor3_color,black_color,stator_color\n",
    "              ],fontdict=font1) \n",
    "    "
   ]
  },
  {
   "cell_type": "code",
   "execution_count": null,
   "metadata": {},
   "outputs": [],
   "source": []
  },
  {
   "cell_type": "markdown",
   "metadata": {},
   "source": [
    "# 设置图片中文本、标签位置、字体大小"
   ]
  },
  {
   "cell_type": "code",
   "execution_count": 17,
   "metadata": {
    "ExecuteTime": {
     "end_time": "2019-07-18T01:00:23.384253Z",
     "start_time": "2019-07-18T01:00:23.374252Z"
    }
   },
   "outputs": [],
   "source": [
    "\n",
    "\n",
    "#———设置字体样式，分别是字体，颜色，宽度，大小\n",
    "\n",
    "\n",
    "# motor_color = \"black\"\n",
    "motor_color = \"red\"\n",
    "rotor1_color = \"#1F77B4\"   #蓝\n",
    "rotor2_color = \"#FF871F\"  #黄 orange\n",
    "rotor3_color = \"#2CA02C\"   #绿\n",
    "black_color  = \"black\"\n",
    "stator_color = \"gray\"     # silver   gray\n",
    "# motor_color = \"orange\"\n",
    "# rotor1_color = \"red\"  \n",
    "# rotor2_color = \"black\"\n",
    "# rotor3_color = \"blue\" \n",
    "text_x = -4200\n",
    "text_y = 1.25\n",
    "text_addx = text_x + 200000\n",
    "text_addy = text_y\n",
    "labelsize = 22\n",
    "text_fontsize = labelsize\n",
    "\n",
    "#———设置字体样式，分别是字体，颜色，宽度，大小\n",
    "font1 ={\"family\" : \"TimesNew Roman\",\n",
    "         \n",
    "        \"weight\" : \"normal\",\n",
    "        \"size\"   : \"16\",\n",
    "        }\n",
    "\n",
    "font2 ={\"family\" : \"TimesNew Roman\",\n",
    "         \"color\" : \"red\",\n",
    "        \"weight\" : \"normal\",\n",
    "        \"size\"   : \"16\",\n",
    "        }\n",
    "font3 ={\"family\" : \"serif\",\n",
    "         \"color\" : \"black\",\n",
    "        \"weight\" : \"bold\",\n",
    "        \"size\"   : \"24\",\n",
    "       }"
   ]
  },
  {
   "cell_type": "markdown",
   "metadata": {},
   "source": [
    "# 读取infile_M*文件为df_M*"
   ]
  },
  {
   "cell_type": "code",
   "execution_count": 18,
   "metadata": {
    "ExecuteTime": {
     "end_time": "2019-07-18T01:00:24.809248Z",
     "start_time": "2019-07-18T01:00:23.665248Z"
    }
   },
   "outputs": [],
   "source": [
    "df_M1 = pd.read_csv(infile_M1)\n",
    "df_M2 = pd.read_csv(infile_M2)\n",
    "df_M3 = pd.read_csv(infile_M3)\n",
    "df_M4 = pd.read_csv(infile_M4)"
   ]
  },
  {
   "cell_type": "code",
   "execution_count": 19,
   "metadata": {
    "ExecuteTime": {
     "end_time": "2019-07-18T01:00:24.819254Z",
     "start_time": "2019-07-18T01:00:24.815253Z"
    }
   },
   "outputs": [],
   "source": [
    "# colors??"
   ]
  },
  {
   "cell_type": "markdown",
   "metadata": {},
   "source": [
    "# 设置坐标的端点值lim     设置坐标标签的间隔点 ticks  颜色   字体大小"
   ]
  },
  {
   "cell_type": "code",
   "execution_count": 20,
   "metadata": {
    "ExecuteTime": {
     "end_time": "2019-07-18T01:00:24.855251Z",
     "start_time": "2019-07-18T01:00:24.833251Z"
    }
   },
   "outputs": [],
   "source": [
    "#设置坐标的端点值lim     设置坐标标签的间隔点 ticks  颜色   字体大小\n",
    "def lim_ticks(colors_tickks):\n",
    "    y_start = -0.25\n",
    "    y_end = 1.5\n",
    "    x_start = -5000\n",
    "    x_end = 110000\n",
    "\n",
    "    plt.xticks([])  #去掉横坐标值\n",
    "    plt.yticks([])  #去掉纵坐标值\n",
    "    plt.ylim(y_start,y_end)\n",
    "    plt.xlim(x_start,x_end)\n",
    "    # 设置坐标轴刻度的字体大小\n",
    "    # matplotlib.axes.Axes.tick_params\n",
    "    ax.tick_params(axis='y',labelsize=labelsize,colors=colors_tickks)# y轴\n",
    "    ax.tick_params(axis='x',labelsize=labelsize, colors=colors_tickks)\n",
    "    # ax.tick_params(axis='x',labelsize=6, colors='b', labeltop=True, labelbottom=False) # x轴\n",
    "    # 设置轴记号\n",
    "    xticks([0, 25000, 50000, 75000, 100000],\n",
    "    [r'$0$', r'$5$', r'$10$', r'$15$', r'$20$'])\n",
    "    # 在指定标记点  标记 y 坐标 的标记（值）\n",
    "    yticks([0, 0.25,0.5,0.75, 1,1.25],\n",
    "           [r'$0.0$', r'$0.25$',r'$0.5$',r'$0.75$', r'$1.$',r'$1.25$']) \n",
    "    ax.set_xticklabels([\"0\",\"5\",\"10\",\"15\",\"20\"],font1)\n",
    "    ax.set_yticklabels([\"0.0\",\"\",\"0.5\",\"\",\"1.0\"],font1)\n",
    "    plt.grid(True)   #  显示标尺"
   ]
  },
  {
   "cell_type": "markdown",
   "metadata": {},
   "source": [
    "# rainbow_text函数 添加 文字text"
   ]
  },
  {
   "cell_type": "code",
   "execution_count": 21,
   "metadata": {
    "ExecuteTime": {
     "end_time": "2019-07-18T01:00:24.879251Z",
     "start_time": "2019-07-18T01:00:24.862254Z"
    }
   },
   "outputs": [],
   "source": [
    "# 添加 文字text   M1:(5,5)/(5,5)/(5,5)\n",
    "import matplotlib.pyplot as plt\n",
    "from matplotlib import transforms  \n",
    "def rainbow_text(x,y,ls,lc,**kw):\n",
    "    \"\"\"\n",
    "    Take a list of strings ``ls`` and colors ``lc`` and place them next to each\n",
    "    other, with text ls[i] being shown in color lc[i].\n",
    "\n",
    "    This example shows how to do both vertical and horizontal text, and will\n",
    "    pass all keyword arguments to plt.text, so you can set the font size,\n",
    "    family, etc.\n",
    "    \"\"\"\n",
    "    t = plt.gca().transData\n",
    "    fig = plt.gcf()\n",
    "    plt.show()\n",
    "\n",
    "    #horizontal version\n",
    "    for s,c in zip(ls,lc):\n",
    "        text = plt.text(x,y,\" \"+s+\" \",color=c, transform=t, **kw)\n",
    "        text.draw(fig.canvas.get_renderer())\n",
    "        ex = text.get_window_extent()\n",
    "        t = transforms.offset_copy(text._transform, x=ex.width-8, units='dots')   # x=ex.width-8  调整字符串间的x轴方向距离\n",
    "\n",
    "    #vertical version\n",
    "#     for s,c in zip(ls,lc):\n",
    "#         text = plt.text(x,y,\" \"+s+\" \",color=c, transform=t,\n",
    "#                 rotation=90,va='bottom',ha='center',**kw)\n",
    "#         text.draw(fig.canvas.get_renderer())\n",
    "#         ex = text.get_window_extent()\n",
    "#         t = transforms.offset_copy(text._transform, y=ex.height, units='dots')\n",
    "\n",
    "\n",
    "# plt.figure()\n",
    "# rainbow_text(0,0.2,\"all:unicorns/poop/rainbows/!/!/!\".split(\"p\"), \n",
    "#         ['red', 'orange', 'brown', 'green', 'blue', 'purple', 'black'],\n",
    "#         size=15)\n",
    "\n",
    "\n",
    "# rainbow_text(0,0.2,[\"M1:\",\"(5,5)\",\"/(5,5)/\",\"(5,5)\"], \n",
    "#         ['red', 'orange', 'brown', 'green', 'blue', 'purple', 'black'],\n",
    "#         size=15)"
   ]
  },
  {
   "cell_type": "markdown",
   "metadata": {},
   "source": [
    "# 画图 保存"
   ]
  },
  {
   "cell_type": "code",
   "execution_count": 22,
   "metadata": {
    "ExecuteTime": {
     "end_time": "2019-07-18T01:00:25.546254Z",
     "start_time": "2019-07-18T01:00:24.884252Z"
    }
   },
   "outputs": [],
   "source": [
    "arange_end  = df_M1.shape[0] \n",
    "figsize=11,9    #设置输出的图片大小\n",
    "fig = plt.figure(figsize=figsize)\n",
    "# ax = fig.add_subplot((111), projection='3d')\n",
    "# ax = fig.add_subplot(3,3,4)\n",
    "line_wid = 0.000000000000000000000001  #图像线条宽度\n",
    "row_picture = 2\n",
    "col_picture = 2"
   ]
  },
  {
   "cell_type": "markdown",
   "metadata": {},
   "source": [
    "## M1"
   ]
  },
  {
   "cell_type": "code",
   "execution_count": 23,
   "metadata": {
    "ExecuteTime": {
     "end_time": "2019-07-18T01:00:27.212251Z",
     "start_time": "2019-07-18T01:00:25.552252Z"
    }
   },
   "outputs": [
    {
     "name": "stderr",
     "output_type": "stream",
     "text": [
      "C:\\ProgramData\\Anaconda3\\lib\\site-packages\\matplotlib\\font_manager.py:1241: UserWarning: findfont: Font family ['TimesNew Roman'] not found. Falling back to DejaVu Sans.\n",
      "  (prop.get_family(), self.defaultFamily[fontext]))\n"
     ]
    }
   ],
   "source": [
    "########################      M1        ##########################################\n",
    "x = np.arange(0,arange_end)\n",
    "ax = fig.add_subplot(row_picture,col_picture,1)\n",
    "ax.scatter(x,df_M1.RTR_1,1,linewidths = line_wid,color=rotor1_color)\n",
    "ax.scatter(x,df_M1.RTR_2,1,linewidths = line_wid,color=rotor2_color)\n",
    "ax.scatter(x,df_M1.RTR_3,1,linewidths = line_wid,color=rotor3_color)\n",
    "# legend(loc='upper left')\n",
    "ax= plt.gca() \n",
    "colors_tickks = \"k\"\n",
    "lim_ticks(colors_tickks)\n",
    "\n",
    "# 设置y轴的标签\n",
    "plt.ylabel('Rotation Transmission Ratios',fontdict=font3)\n",
    "plt.text(text_x,text_y+0.5,\"M1_dr1= %s,M2_dr1 = %s\"%(M1_dr1,M2_dr1),fontdict=font1)\n",
    "plt.text(text_x,text_y+0.3,\"M3_dr1 = %s,M4_dr1 = %s\"%(M3_dr1,M4_dr1),fontdict=font1)\n",
    "#   models_text\n",
    "model_format(models_1,M1_stators) \n",
    "\n",
    "# rainbow_text(text_addx,text_addy,[\"%.3f\" % df_M1.RTR_1[99999],\"%.3f\" % df_M1.RTR_2[99999],\"%.3f\" % df_M1.RTR_3[99999]],\n",
    "#              [rotor1_color,rotor2_color,rotor3_color],size=text_fontsize)    \n",
    "\n",
    "arange_end  = df_M2.shape[0] \n",
    "x = np.arange(0,arange_end)"
   ]
  },
  {
   "cell_type": "markdown",
   "metadata": {},
   "source": [
    "## M2"
   ]
  },
  {
   "cell_type": "code",
   "execution_count": 24,
   "metadata": {
    "ExecuteTime": {
     "end_time": "2019-07-18T01:00:29.287252Z",
     "start_time": "2019-07-18T01:00:27.217252Z"
    }
   },
   "outputs": [],
   "source": [
    "########################      M2         ##########################################\n",
    "ax = fig.add_subplot(row_picture,col_picture,2)\n",
    "ax.scatter(x,df_M2.RTR_1,2,linewidths = line_wid,color=rotor1_color)\n",
    "ax.scatter(x,df_M2.RTR_2,2,linewidths = line_wid,color=rotor2_color)\n",
    "ax.scatter(x,df_M2.RTR_3,2,linewidths = line_wid,color=rotor3_color)\n",
    "ax = plt.gca()\n",
    "colors_tickks = \"k\"\n",
    "lim_ticks(colors_tickks)\n",
    "ax.spines['bottom'].set_color('none')\n",
    "ax.tick_params(axis='y',labelsize=0,colors='w')# y轴\n",
    "# plt.xticks([])  #去掉横坐标值\n",
    "# plt.yticks([])  #去掉纵坐标值\n",
    "\n",
    "#   models_text\n",
    "model_format(models_2,M2_stators) \n",
    "\n",
    "# rainbow_text(text_addx,text_addy,[\"%.3f\" % df_M2.RTR_1[99999],\"%.3f\" % df_M2.RTR_2[99999],\"%.3f\" % df_M2.RTR_3[99999]],\n",
    "#              [rotor1_color,rotor2_color,rotor3_color],size=text_fontsize)    "
   ]
  },
  {
   "cell_type": "markdown",
   "metadata": {},
   "source": [
    "## M3"
   ]
  },
  {
   "cell_type": "code",
   "execution_count": 25,
   "metadata": {
    "ExecuteTime": {
     "end_time": "2019-07-18T01:00:31.273252Z",
     "start_time": "2019-07-18T01:00:29.294252Z"
    }
   },
   "outputs": [
    {
     "data": {
      "text/plain": [
       "Text(0.5, 0, 'Time(ns)')"
      ]
     },
     "execution_count": 25,
     "metadata": {},
     "output_type": "execute_result"
    }
   ],
   "source": [
    "########################      M3         ##########################################\n",
    "ax = fig.add_subplot(row_picture,col_picture,3)\n",
    "ax.scatter(x,df_M3.RTR_1,3,linewidths = line_wid,color=rotor1_color)\n",
    "# ax = fig.add_subplot(3,3,3)\n",
    "ax.scatter(x,df_M3.RTR_2,3,linewidths = line_wid,color=rotor2_color)\n",
    "# ax = fig.add_subplot(3,3,3)\n",
    "ax.scatter(x,df_M3.RTR_3,3,linewidths = line_wid,color=rotor3_color)\n",
    "ax = plt.gca()\n",
    "colors_tickks = \"k\"\n",
    "lim_ticks(colors_tickks)\n",
    "# ax.spines['bottom'].set_color('none')\n",
    "# ax.tick_params(axis='y',labelsize=0,colors='w')# y轴\n",
    "# plt.xticks([])  #去掉横坐标值\n",
    "# plt.yticks([])  #去掉纵坐标值\n",
    "\n",
    "#   models_text\n",
    "model_format(models_3,M3_stators) \n",
    "\n",
    "# 设置x轴的标签\n",
    "plt.xlabel('Time(ns)',fontdict=font3)\n",
    "# rainbow_text(text_addx,text_addy,[\"%.3f\" % df_M3.RTR_1[99999],\"%.3f\" % df_M3.RTR_2[99999],\"%.3f\" % df_M3.RTR_3[99999]],\n",
    "#              [rotor1_color,rotor2_color,rotor3_color],size=text_fontsize)    "
   ]
  },
  {
   "cell_type": "markdown",
   "metadata": {},
   "source": [
    "## M4"
   ]
  },
  {
   "cell_type": "code",
   "execution_count": null,
   "metadata": {
    "ExecuteTime": {
     "end_time": "2019-07-18T01:00:36.482248Z",
     "start_time": "2019-07-18T01:00:31.281251Z"
    }
   },
   "outputs": [],
   "source": [
    "########################      M4         ##########################################\n",
    "ax = fig.add_subplot(row_picture,col_picture,4)\n",
    "ax.scatter(x,df_M4.RTR_1,4,linewidths = line_wid,color=rotor1_color)\n",
    "# ax = fig.add_subplot(3,3,4)\n",
    "ax.scatter(x,df_M4.RTR_2,4,linewidths = line_wid,color=rotor2_color)\n",
    "# ax = fig.add_subplot(3,3,4)\n",
    "ax.scatter(x,df_M4.RTR_3,4,linewidths = line_wid,color=rotor3_color)\n",
    "ax = plt.gca()\n",
    "colors_tickks = \"k\"\n",
    "lim_ticks(colors_tickks)\n",
    "ax.tick_params(axis='y',labelsize=0,colors='w')# y轴\n",
    "# ax.spines['bottom'].set_color('none')\n",
    "# plt.xticks([])  #去掉横坐标值\n",
    "\n",
    "#   models_text\n",
    "model_format(models_4,M4_stators)  \n",
    "\n",
    "# rainbow_text(text_addx,text_addy,[\"%.3f\" % df_M4.RTR_1[99999],\"%.3f\" % df_M4.RTR_2[99999],\"%.3f\" % df_M4.RTR_3[99999]],\n",
    "#              [rotor1_color,rotor2_color,rotor3_color],size=text_fontsize)    \n",
    "\n",
    "### 调整axes边距 九宫格  紧凑\n",
    "plt.subplots_adjust(wspace =0, hspace =0)"
   ]
  },
  {
   "cell_type": "markdown",
   "metadata": {},
   "source": [
    "## 添加一张大的画布将小画布放到这里<br>便于添加横纵坐标轴标签"
   ]
  },
  {
   "cell_type": "code",
   "execution_count": null,
   "metadata": {},
   "outputs": [],
   "source": [
    "fig.add_subplot(111, frameon=False)\n",
    "# hide tick and tick label of the big axes\n",
    "plt.tick_params(labelcolor='none', top='off', bottom='off', left='off', right='off')\n",
    "plt.grid(False)\n",
    "plt.xlabel(\"Time(ns)\",fontdict=font3,labelpad=18)\n",
    "plt.ylabel('Rotation Transmission Ratios',fontdict=font3,labelpad=35)"
   ]
  },
  {
   "cell_type": "markdown",
   "metadata": {},
   "source": [
    "## 保存图片"
   ]
  },
  {
   "cell_type": "code",
   "execution_count": 26,
   "metadata": {
    "ExecuteTime": {
     "end_time": "2019-07-18T01:00:36.482248Z",
     "start_time": "2019-07-18T01:00:31.281251Z"
    },
    "scrolled": false
   },
   "outputs": [],
   "source": [
    "plt.show()\n",
    "plt.savefig(catalog + \"\\\\图2.png\")"
   ]
  },
  {
   "cell_type": "code",
   "execution_count": 27,
   "metadata": {
    "ExecuteTime": {
     "end_time": "2019-07-18T01:00:38.407401Z",
     "start_time": "2019-07-18T01:00:38.394826Z"
    }
   },
   "outputs": [
    {
     "name": "stdout",
     "output_type": "stream",
     "text": [
      "Help on function xlabel in module matplotlib.pyplot:\n",
      "\n",
      "xlabel(xlabel, fontdict=None, labelpad=None, **kwargs)\n",
      "    Set the label for the x-axis.\n",
      "    \n",
      "    Parameters\n",
      "    ----------\n",
      "    xlabel : str\n",
      "        The label text.\n",
      "    \n",
      "    labelpad : scalar, optional, default: None\n",
      "        Spacing in points between the label and the x-axis.\n",
      "    \n",
      "    Other Parameters\n",
      "    ----------------\n",
      "    **kwargs : `.Text` properties\n",
      "        `.Text` properties control the appearance of the label.\n",
      "    \n",
      "    See also\n",
      "    --------\n",
      "    text : for information on how override and the optional args work\n",
      "\n"
     ]
    }
   ],
   "source": [
    "help(plt.xlabel)"
   ]
  },
  {
   "cell_type": "code",
   "execution_count": null,
   "metadata": {},
   "outputs": [],
   "source": []
  },
  {
   "cell_type": "code",
   "execution_count": null,
   "metadata": {},
   "outputs": [],
   "source": []
  },
  {
   "cell_type": "code",
   "execution_count": null,
   "metadata": {},
   "outputs": [],
   "source": []
  }
 ],
 "metadata": {
  "hide_input": false,
  "kernelspec": {
   "display_name": "Python 3",
   "language": "python",
   "name": "python3"
  },
  "language_info": {
   "codemirror_mode": {
    "name": "ipython",
    "version": 3
   },
   "file_extension": ".py",
   "mimetype": "text/x-python",
   "name": "python",
   "nbconvert_exporter": "python",
   "pygments_lexer": "ipython3",
   "version": "3.7.3"
  },
  "toc": {
   "base_numbering": 1,
   "nav_menu": {},
   "number_sections": true,
   "sideBar": true,
   "skip_h1_title": false,
   "title_cell": "Table of Contents",
   "title_sidebar": "Contents",
   "toc_cell": false,
   "toc_position": {
    "height": "calc(100% - 180px)",
    "left": "10px",
    "top": "150px",
    "width": "349px"
   },
   "toc_section_display": true,
   "toc_window_display": true
  },
  "varInspector": {
   "cols": {
    "lenName": 16,
    "lenType": 16,
    "lenVar": 40
   },
   "kernels_config": {
    "python": {
     "delete_cmd_postfix": "",
     "delete_cmd_prefix": "del ",
     "library": "var_list.py",
     "varRefreshCmd": "print(var_dic_list())"
    },
    "r": {
     "delete_cmd_postfix": ") ",
     "delete_cmd_prefix": "rm(",
     "library": "var_list.r",
     "varRefreshCmd": "cat(var_dic_list()) "
    }
   },
   "types_to_exclude": [
    "module",
    "function",
    "builtin_function_or_method",
    "instance",
    "_Feature"
   ],
   "window_display": false
  }
 },
 "nbformat": 4,
 "nbformat_minor": 2
}
