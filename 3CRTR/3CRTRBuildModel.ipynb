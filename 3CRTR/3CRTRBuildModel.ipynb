{
 "cells": [
  {
   "cell_type": "code",
   "execution_count": 89,
   "metadata": {
    "ExecuteTime": {
     "end_time": "2019-07-05T01:27:29.065006Z",
     "start_time": "2019-07-05T01:27:29.030007Z"
    },
    "scrolled": true
   },
   "outputs": [
    {
     "name": "stdout",
     "output_type": "stream",
     "text": [
      "Using matplotlib backend: Qt5Agg\n",
      "Populating the interactive namespace from numpy and matplotlib\n"
     ]
    },
    {
     "name": "stderr",
     "output_type": "stream",
     "text": [
      "C:\\ProgramData\\Anaconda3\\lib\\site-packages\\IPython\\core\\magics\\pylab.py:160: UserWarning: pylab import has clobbered these variables: ['fix', 'e', 'f']\n",
      "`%matplotlib` prevents importing * from pylab and numpy\n",
      "  \"\\n`%matplotlib` prevents importing * from pylab and numpy\"\n"
     ]
    }
   ],
   "source": [
    "import Ipynb_importer    # 直接import (.ipynb)文件包   jupyter notebook解析文件Importing Notebooks.ipynb\n",
    "import pandas as pd\n",
    "import numpy as np\n",
    "from pandas import Series,DataFrame\n",
    "import matplotlib.pyplot as plt\n",
    "from mpl_toolkits.mplot3d import Axes3D\n",
    "%pylab\n",
    "# %load_ext nbtutor\n",
    "import os \n",
    "import shutil\n",
    "import re\n",
    "import time"
   ]
  },
  {
   "cell_type": "raw",
   "metadata": {},
   "source": [
    "x = 3.638\n",
    "y = 12.788\n",
    "two = 2\n",
    "(x**two+y**two)**0.5/10"
   ]
  },
  {
   "cell_type": "code",
   "execution_count": 91,
   "metadata": {
    "ExecuteTime": {
     "end_time": "2019-07-05T01:27:29.145011Z",
     "start_time": "2019-07-05T01:27:29.114005Z"
    }
   },
   "outputs": [
    {
     "data": {
      "text/plain": [
       "'20191014'"
      ]
     },
     "execution_count": 91,
     "metadata": {},
     "output_type": "execute_result"
    }
   ],
   "source": [
    "year = str(datetime.datetime.now().year)\n",
    "month = str(datetime.datetime.now().month)\n",
    "day = str(datetime.datetime.now().day)\n",
    "now_time = year+month+day\n",
    "now_time"
   ]
  },
  {
   "cell_type": "markdown",
   "metadata": {},
   "source": [
    "# [固定目录] （F:\\_python\\python_module）"
   ]
  },
  {
   "cell_type": "code",
   "execution_count": 92,
   "metadata": {
    "ExecuteTime": {
     "end_time": "2019-07-05T01:27:29.188005Z",
     "start_time": "2019-07-05T01:27:29.161008Z"
    },
    "scrolled": true
   },
   "outputs": [
    {
     "data": {
      "text/plain": [
       "'F:\\\\_python\\\\python_module'"
      ]
     },
     "execution_count": 92,
     "metadata": {},
     "output_type": "execute_result"
    }
   ],
   "source": [
    "os.chdir((r\"F:\\_python\\python_module\").replace(r\"\\\\\",r\"\\\\\\\\\"))\n",
    "catalog_0 = os.getcwd()\n",
    "catalog_0"
   ]
  },
  {
   "cell_type": "markdown",
   "metadata": {},
   "source": [
    "# [可变目录] （F:\\_python\\20190516）"
   ]
  },
  {
   "cell_type": "code",
   "execution_count": 93,
   "metadata": {
    "ExecuteTime": {
     "end_time": "2019-07-05T01:27:29.240005Z",
     "start_time": "2019-07-05T01:27:29.201008Z"
    },
    "scrolled": true
   },
   "outputs": [
    {
     "data": {
      "text/plain": [
       "'F:\\\\_python\\\\20191002'"
      ]
     },
     "execution_count": 93,
     "metadata": {},
     "output_type": "execute_result"
    }
   ],
   "source": [
    "# catalog_1_input = (r\"F:\\_python\\20190420\").replace(r\"\\\\\",r\"\\\\\\\\\")\n",
    "# catalog_1_input = (r\"F:\\_python\\20190508\").replace(r\"\\\\\",r\"\\\\\\\\\")\n",
    "# catalog_1_input = (r\"F:\\_python\\20190516\").replace(r\"\\\\\",r\"\\\\\\\\\")\n",
    "\n",
    "# catalog_1_input = (r\"F:\\_python\\20190517\").replace(r\"\\\\\",r\"\\\\\\\\\")\n",
    "# catalog_1_input = (r\"F:\\_python\\20190521\").replace(r\"\\\\\",r\"\\\\\\\\\")\n",
    "# catalog_1_input = (r\"F:\\_python\\20190602\").replace(r\"\\\\\",r\"\\\\\\\\\")\n",
    "# catalog_1_input = (r\"F:\\_python\\20190710\").replace(r\"\\\\\",r\"\\\\\\\\\")\n",
    "catalog_1_input = (r\"F:\\_python\\20191002\").replace(r\"\\\\\",r\"\\\\\\\\\")\n",
    "\n",
    "os.chdir(catalog_1_input)\n",
    "catalog_1 = os.getcwd()  #:获得绝对路径\n",
    "path = catalog_1   \n",
    "catalog_1 "
   ]
  },
  {
   "cell_type": "code",
   "execution_count": 94,
   "metadata": {
    "ExecuteTime": {
     "end_time": "2019-07-05T01:27:29.287007Z",
     "start_time": "2019-07-05T01:27:29.254011Z"
    },
    "scrolled": false
   },
   "outputs": [
    {
     "name": "stdout",
     "output_type": "stream",
     "text": [
      "\u001b[1;31;46m当前程序所在路径：   F:\\_python\\20191002\u001b[0m\n",
      "路径下的文件目录：   ['M11-140-55-140-140', 'M1616S2121-1616-1616-1616-1616', 'M1616S2222-1616-1616-1616-1616']\n"
     ]
    }
   ],
   "source": [
    "# \\033[1;31;40m      # 014578是显示方式（可选），30-37是字体颜色，40m-47m 是字体背景颜色；\n",
    "# \\033[0m           # 恢复终端默认颜色，即取消颜色设置；\n",
    "# print (\"\\033[1;31;40mHello world!\\033[0m\" )\n",
    "path_CatelogsFiles = os.listdir()         #:列出dirname下的目录和文件\n",
    "print(\"\\033[1;31;46m当前程序所在路径：   %s\\033[0m\\n路径下的文件目录：   %s\"%(path,path_CatelogsFiles))"
   ]
  },
  {
   "cell_type": "markdown",
   "metadata": {},
   "source": [
    "# 输入转子M*S**--￥￥--￥￥--￥￥--￥￥"
   ]
  },
  {
   "cell_type": "code",
   "execution_count": 95,
   "metadata": {
    "ExecuteTime": {
     "end_time": "2019-07-05T01:27:46.814320Z",
     "start_time": "2019-07-05T01:27:29.299006Z"
    }
   },
   "outputs": [
    {
     "name": "stdout",
     "output_type": "stream",
     "text": [
      "模型为：M*S%%--￥￥--￥￥--￥￥--￥￥M13-140-80-140-140\n"
     ]
    }
   ],
   "source": [
    "curfilerename = input(\"模型为：M*S%%--￥￥--￥￥--￥￥--￥￥\")"
   ]
  },
  {
   "cell_type": "code",
   "execution_count": 96,
   "metadata": {
    "ExecuteTime": {
     "end_time": "2019-07-05T01:27:46.828312Z",
     "start_time": "2019-07-05T01:27:46.820337Z"
    }
   },
   "outputs": [],
   "source": [
    "curfilerename_temp = curfilerename\n",
    "curfilerename_span0 =  re.search(\"-\",curfilerename_temp).span()[0]\n",
    "curfilerename_temp1 = curfilerename_temp[:curfilerename_span0+1]"
   ]
  },
  {
   "cell_type": "code",
   "execution_count": 97,
   "metadata": {
    "ExecuteTime": {
     "end_time": "2019-07-05T01:27:46.848316Z",
     "start_time": "2019-07-05T01:27:46.837314Z"
    }
   },
   "outputs": [],
   "source": [
    "curfilerename_temp2 = curfilerename_temp[curfilerename_span0+1:]\n",
    "curfilerename_temp3 = \"_\"+curfilerename_temp2.replace(\"-\",\"-_\").replace(\"-\",\"_-\")+\"_\""
   ]
  },
  {
   "cell_type": "code",
   "execution_count": 98,
   "metadata": {
    "ExecuteTime": {
     "end_time": "2019-07-05T01:27:46.871312Z",
     "start_time": "2019-07-05T01:27:46.857313Z"
    }
   },
   "outputs": [],
   "source": [
    "curfilerename = (curfilerename_temp1 + curfilerename_temp3).split(\"-\")"
   ]
  },
  {
   "cell_type": "code",
   "execution_count": 99,
   "metadata": {
    "ExecuteTime": {
     "end_time": "2019-07-05T01:27:46.890310Z",
     "start_time": "2019-07-05T01:27:46.878313Z"
    }
   },
   "outputs": [
    {
     "data": {
      "text/plain": [
       "['M13', '_140_', '_80_', '_140_', '_140_']"
      ]
     },
     "execution_count": 99,
     "metadata": {},
     "output_type": "execute_result"
    }
   ],
   "source": [
    "curfilerename"
   ]
  },
  {
   "cell_type": "markdown",
   "metadata": {},
   "source": [
    "# 输入定子S--%%--%%--%%"
   ]
  },
  {
   "cell_type": "code",
   "execution_count": 100,
   "metadata": {
    "ExecuteTime": {
     "end_time": "2019-07-05T01:27:55.863928Z",
     "start_time": "2019-07-05T01:27:46.897314Z"
    }
   },
   "outputs": [
    {
     "name": "stdout",
     "output_type": "stream",
     "text": [
      "转子123的定子分别为:S--%%--%%--%%S-170-230-230\n"
     ]
    }
   ],
   "source": [
    "stators = input(\"转子123的定子分别为:S--%%--%%--%%\")"
   ]
  },
  {
   "cell_type": "code",
   "execution_count": 101,
   "metadata": {
    "ExecuteTime": {
     "end_time": "2019-07-05T01:27:55.875903Z",
     "start_time": "2019-07-05T01:27:55.869906Z"
    }
   },
   "outputs": [],
   "source": [
    "stators_temp =  stators"
   ]
  },
  {
   "cell_type": "code",
   "execution_count": 102,
   "metadata": {
    "ExecuteTime": {
     "end_time": "2019-07-05T01:27:55.897900Z",
     "start_time": "2019-07-05T01:27:55.880902Z"
    }
   },
   "outputs": [],
   "source": [
    "stators_span0 = re.search(\"-\",stators_temp).span()[0]"
   ]
  },
  {
   "cell_type": "code",
   "execution_count": 103,
   "metadata": {
    "ExecuteTime": {
     "end_time": "2019-07-05T01:27:55.913906Z",
     "start_time": "2019-07-05T01:27:55.904904Z"
    }
   },
   "outputs": [],
   "source": [
    "stators_temp1 = stators_temp[:stators_span0 + 1]"
   ]
  },
  {
   "cell_type": "code",
   "execution_count": 104,
   "metadata": {
    "ExecuteTime": {
     "end_time": "2019-07-05T01:27:55.932904Z",
     "start_time": "2019-07-05T01:27:55.923906Z"
    }
   },
   "outputs": [],
   "source": [
    "stators_temp2 = stators_temp[stators_span0+1:]\n",
    "stators_temp3 = \"_\"+ stators_temp2.replace(\"-\",\"-_\").replace(\"-\",\"_-\")+\"_\""
   ]
  },
  {
   "cell_type": "code",
   "execution_count": 105,
   "metadata": {
    "ExecuteTime": {
     "end_time": "2019-07-05T01:27:55.952903Z",
     "start_time": "2019-07-05T01:27:55.939904Z"
    }
   },
   "outputs": [
    {
     "data": {
      "text/plain": [
       "['S', '_170_', '_230_', '_230_']"
      ]
     },
     "execution_count": 105,
     "metadata": {},
     "output_type": "execute_result"
    }
   ],
   "source": [
    "stators = (stators_temp1 + stators_temp3).split(\"-\")\n",
    "stators"
   ]
  },
  {
   "cell_type": "markdown",
   "metadata": {},
   "source": [
    "# 电机"
   ]
  },
  {
   "cell_type": "code",
   "execution_count": 106,
   "metadata": {
    "ExecuteTime": {
     "end_time": "2019-07-05T01:27:55.981904Z",
     "start_time": "2019-07-05T01:27:55.962903Z"
    }
   },
   "outputs": [],
   "source": [
    "#电机\n",
    "# 扶手椅\n",
    "motor_55 = \"F://_python/Models_two_class/Motor_gro/M_r0.339_55_3.074_260.gro\"\n",
    "motor_66 = \"F://_python/Models_two_class/Motor_gro/M_r0.4078_66_3.074_312.gro\"\n",
    "motor_77 = \"F://_python/Models_two_class/Motor_gro/M_r0.475_77_3.074_364.gro\"\n",
    "motor_88  = \"F://_python/Models_two_class/Motor_gro/M_r0.543_88_3.074_416.gro\"\n",
    "motor_99  = \"F://_python/Models_two_class/Motor_gro/M_r0.610_99_3.074_468.gro\"\n",
    "motor_1010 = \"F://_python/Models_two_class/Motor_gro/M_r0.678_1010_3.074_520.gro\"\n",
    "motor_1111 = \"F://_python/Models_two_class/Motor_gro/M_r0.746_1111_3.074_572.gro\"\n",
    "motor_1212 = \"F://_python/Models_two_class/Motor_gro/M_r0.813_1212_3.074_624.gro\"\n",
    "motor_1313 = \"F://_python/Models_two_class/Motor_gro/M_r0.881_1313_3.074_676.gro\"\n",
    "motor_1414 = \"F://_python/Models_two_class/Motor_gro/M_r0.949_1414_3.074_728.gro\"\n",
    "motor_1515 = \"F://_python/Models_two_class/Motor_gro/M_r1.016_1515_3.074_780.gro\"\n",
    "motor_1616  = \"F://_python/Models_two_class/Motor_gro/M_r1.084_1616_3.074_832.gro\"\n",
    "motor_1717  = \"F://_python/Models_two_class/Motor_gro/M_r1.152_1717_3.074_884.gro\"\n",
    "motor_1818  = \"F://_python/Models_two_class/Motor_gro/M_r1.221_1818_3.074_936.gro\"\n",
    "motor_1919  = \"F://_python/Models_two_class/Motor_gro/M_r1.287_1919_3.074_988.gro\"\n",
    "\n",
    "motor_2020  = \"F://_python/Models_two_class/Motor_gro/M_r1.355_2020_3.074_1040.gro\"\n",
    "\n",
    "motor_2222  = \"F://_python/Models_two_class/Motor_gro/M_r1.490_2222_3.074_1144.gro\"\n",
    "\n",
    "\n",
    "# 锯齿形\n",
    "motor_80 = \"F://_python/Models_two_class/Motor_gro/M_r0.313_80_2.840_224.gro\" \n",
    "motor_90 = \"F://_python/Models_two_class/Motor_gro/M_r0.353_90_2.840_252.gro\"\n",
    "motor_100 = \"F://_python/Models_two_class/Motor_gro/M_r0.3925_100_2.840_280.gro\"\n",
    "motor_110 = \"F://_python/Models_two_class/Motor_gro/M_r0.432_110_3.053_352.gro\"\n",
    "motor_120 = \"F://_python/Models_two_class/Motor_gro/M_r0.4704_120_3.053_384.gro\"\n",
    "motor_130 = \"F://_python/Models_two_class/Motor_gro/M_r0.509_130_3.053_416.gro\"\n",
    "motor_140 = \"F://_python/Models_two_class/Motor_gro/M_r0.548_140_3.053_448.gro\"\n",
    "motor_150 = \"F://_python/Models_two_class/Motor_gro/M_r0.587_150_3.053_480.gro\"\n",
    "motor_160 = \"F://_python/Models_two_class/Motor_gro/M_r0.627_160_3.053_512.gro\"\n",
    "motor_170 = \"F://_python/Models_two_class/Motor_gro/M_r0.665_170_3.053_544.gro\"\n",
    "motor_180 = \"F://_python/Models_two_class/Motor_gro/M_r0.703_180_3.053_576.gro\"\n",
    "motor_190 = \"F://_python/Models_two_class/Motor_gro/M_r0.744_190_3.053_608.gro\"\n",
    "motor_200 = \"F://_python/Models_two_class/Motor_gro/M_r0.783_200_3.053_640.gro\"\n",
    "motor_210 = \"F://_python/Models_two_class/Motor_gro/M_r0.822_210_3.053_672.gro\"\n",
    "motor_220 = \"F://_python/Models_two_class/Motor_gro/M_r0.8607_220_3.053_704.gro\"\n",
    "motor_230 = \"F://_python/Models_two_class/Motor_gro/M_r0.900_230_3.053_736.gro\"\n",
    "motor_240 = \"F://_python/Models_two_class/Motor_gro/M_r0.939_240_3.053_768.gro\"\n",
    "motor_250 = \"F://_python/Models_two_class/Motor_gro/M_r0.978_250_3.053_800.gro\"\n",
    "motor_260 = \"F://_python/Models_two_class/Motor_gro/M_r1.017_260_3.053_832.gro\"\n",
    "motor_270 = \"F://_python/Models_two_class/Motor_gro/M_r1.056_270_3.053_864.gro\"\n",
    "motor_280 = \"F://_python/Models_two_class/Motor_gro/M_r1.095_280_3.053_896.gro\"\n",
    "motor_290 = \"F://_python/Models_two_class/Motor_gro/M_r1.134_290_3.053_928.gro\"\n",
    "motor_300 = \"F://_python/Models_two_class/Motor_gro/M_r1.174_300_3.053_960.gro\"\n",
    "motor_310 = \"F://_python/Models_two_class/Motor_gro/M_r1.209_310_3.053_992.gro\"\n",
    "motor_320 = \"F://_python/Models_two_class/Motor_gro/M_r1.251_320_3.053_1024.gro\"\n",
    "motor_330 = \"F://_python/Models_two_class/Motor_gro/M_r1.291_330_3.053_1056.gro\"\n",
    "motor_340 = \"F://_python/Models_two_class/Motor_gro/M_r1.330_340_3.053_1088.gro\"\n",
    "motor_350 = \"F://_python/Models_two_class/Motor_gro/M_r1.369_350_3.053_1120.gro\"\n",
    "motor_360 = \"F://_python/Models_two_class/Motor_gro/M_r1.408_360_3.053_1152.gro\"\n",
    "\n",
    "motor_380 = \"F://_python/Models_two_class/Motor_gro/M_r1.486_380_3.053_1216.gro\"\n",
    "\n",
    "\n",
    "motor_410 = \"F://_python/Models_two_class/Motor_gro/M_r1.603_410_3.053_1312.gro\"\n",
    "\n",
    "motor_440 = \"F://_python/Models_two_class/Motor_gro/M_r1.721_440_3.053_1408.gro\"\n",
    "\n",
    "\n",
    "motor_470 = \"F://_python/Models_two_class/Motor_gro/M_r1.838_470_3.053_1504.gro\"\n",
    "\n",
    "motor_500 = \"F://_python/Models_two_class/Motor_gro/M_r1.955_500_3.053_1600.gro\"\n",
    "\n",
    "\n",
    "motor_520 = \"F://_python/Models_two_class/Motor_gro/M_r2.034_520_3.053_1664.gro\"\n",
    "\n",
    "motor_600 = \"F://_python/Models_two_class/Motor_gro/M_r2.347_600_3.053_2160.gro\"\n",
    "\n",
    "motor_models = [motor_55,motor_66,motor_77,motor_88,motor_99,\n",
    "                motor_1010,motor_1111,motor_1212,motor_1313,\n",
    "                motor_1414,motor_1515,motor_1616,motor_1717,motor_1818,motor_1919,motor_2020,motor_2222,\n",
    "                motor_80,motor_90,motor_100,motor_110,motor_120,motor_130,\n",
    "                motor_140,motor_150,motor_160,motor_170,motor_180,\n",
    "                motor_190,motor_200,motor_210,motor_220,motor_230,\n",
    "                motor_240,motor_250,motor_260,motor_270,motor_280,motor_290,\n",
    "                motor_300,motor_310,motor_320,motor_330,motor_340,motor_350,motor_360,motor_380,motor_410,\n",
    "                motor_340,motor_470,motor_500,motor_520,motor_600\n",
    "               ]"
   ]
  },
  {
   "cell_type": "markdown",
   "metadata": {},
   "source": [
    "# 转子"
   ]
  },
  {
   "cell_type": "code",
   "execution_count": 107,
   "metadata": {
    "ExecuteTime": {
     "end_time": "2019-07-05T01:27:56.015902Z",
     "start_time": "2019-07-05T01:27:55.991903Z"
    }
   },
   "outputs": [],
   "source": [
    "#转子\n",
    "# 扶手椅\n",
    "rotor_55 = \"F://_python/Models_two_class/Rotor_gro/R_r0.339_55_7.993_660.gro\"\n",
    "rotor_66 = \"F://_python/Models_two_class/Rotor_gro/R_r0.4078_66_7.993_792.gro\"\n",
    "rotor_77 = \"F://_python/Models_two_class/Rotor_gro/R_r0.475_77_7.993_924.gro\"\n",
    "rotor_88 = \"F://_python/Models_two_class/Rotor_gro/R_r0.543_88_7.993_1056.gro\"\n",
    "rotor_99 = \"F://_python/Models_two_class/Rotor_gro/R_r0.6104_99_7.993_1188.gro\"\n",
    "rotor_1010 = \"F://_python/Models_two_class/Rotor_gro/R_r0.678_1010_7.993_1320.gro\"\n",
    "rotor_1111 = \"F://_python/Models_two_class/Rotor_gro/R_r0.746_1111_7.993_1452.gro\"\n",
    "rotor_1212 = \"F://_python/Models_two_class/Rotor_gro/R_r0.813_1212_7.993_1584.gro\"\n",
    "rotor_1313 = \"F://_python/Models_two_class/Rotor_gro/R_r0.881_1313_7.993_1716.gro\"\n",
    "rotor_1414 = \"F://_python/Models_two_class/Rotor_gro/R_r0.9485_1414_7.993_1848.gro\"\n",
    "rotor_1515 = \"F://_python/Models_two_class/Rotor_gro/R_r1.0162_1515_7.993_1980.gro\"\n",
    "rotor_1616 = \"F://_python/Models_two_class/Rotor_gro/R_r1.084_1616_7.993_2112.gro\"\n",
    "rotor_1717 = \"F://_python/Models_two_class/Rotor_gro/R_r1.152_1717_7.993_2244.gro\"\n",
    "rotor_1818 = \"F://_python/Models_two_class/Rotor_gro/R_r1.221_1818_7.993_2376.gro\"\n",
    "rotor_1919 = \"F://_python/Models_two_class/Rotor_gro/R_r1.287_1919_7.993_2508.gro\"\n",
    "\n",
    "rotor_2020 = \"F://_python/Models_two_class/Rotor_gro/R_r1.355_2020_7.993_2640.gro\"\n",
    "\n",
    "rotor_2222 = \"F://_python/Models_two_class/Rotor_gro/R_r1.490_2222_7.993_2904.gro\"\n",
    "# 锯齿形\n",
    "rotor_80 = \"F://_python/Models_two_class/Rotor_gro/R_r0.313_80_7.952_608.gro\"\n",
    "rotor_90 =\"F://_python/Models_two_class/Rotor_gro/R_r0.353_90_7.952_684.gro\"\n",
    "rotor_100 =\"F://_python/Models_two_class/Rotor_gro/R_r0.3925_100_7.952_760.gro\"\n",
    "rotor_110 =\"F://_python/Models_two_class/Rotor_gro/R_r0.4315_110_7.952_880.gro\"\n",
    "rotor_120 = \"F://_python/Models_two_class/Rotor_gro/R_r0.470_120_7.952_912.gro\"\n",
    "rotor_130 = \"F://_python/Models_two_class/Rotor_gro/R_r0.5094_130_8.165_1040.gro\"\n",
    "rotor_140 = \"F://_python/Models_two_class/Rotor_gro/R_r0.548_140_8.165_1120.gro\"\n",
    "rotor_150 = \"F://_python/Models_two_class/Rotor_gro/R_r0.587_150_8.165_1200.gro\"\n",
    "rotor_160 = \"F://_python/Models_two_class/Rotor_gro/R_r0.627_160_8.165_1280.gro\"\n",
    "rotor_170 = \"F://_python/Models_two_class/Rotor_gro/R_r0.665_170_8.165_1360.gro\"\n",
    "rotor_180 = \"F://_python/Models_two_class/Rotor_gro/R_r0.703_180_8.165_1440.gro\"\n",
    "rotor_190 = \"F://_python/Models_two_class/Rotor_gro/R_r0.744_190_8.165_1520.gro\"\n",
    "rotor_200 = \"F://_python/Models_two_class/Rotor_gro/R_r0.783_200_8.165_1600.gro\"\n",
    "rotor_210 = \"F://_python/Models_two_class/Rotor_gro/R_r0.8216_210_8.165_1680.gro\"\n",
    "rotor_220 = \"F://_python/Models_two_class/Rotor_gro/R_r0.8607_220_8.165_1760.gro\"\n",
    "rotor_230 = \"F://_python/Models_two_class/Rotor_gro/R_r0.900_230_8.165_1840.gro\"\n",
    "rotor_240 = \"F://_python/Models_two_class/Rotor_gro/R_r0.9388_240_8.165_1920.gro\"\n",
    "rotor_250 = \"F://_python/Models_two_class/Rotor_gro/R_r0.9778_250_8.165_2000.gro\"\n",
    "rotor_260 = \"F://_python/Models_two_class/Rotor_gro/R_r1.017_260_8.165_2080.gro\"\n",
    "rotor_270 = \"F://_python/Models_two_class/Rotor_gro/R_r1.056_270_8.165_2160.gro\"\n",
    "rotor_280 = \"F://_python/Models_two_class/Rotor_gro/R_r1.095_280_8.165_2240.gro\"\n",
    "rotor_290 = \"F://_python/Models_two_class/Rotor_gro/R_r1.134_290_8.165_2320.gro\"\n",
    "rotor_300 = \"F://_python/Models_two_class/Rotor_gro/R_r1.173_300_8.165_2400.gro\"\n",
    "rotor_310 = \"F://_python/Models_two_class/Rotor_gro/R_r1.212_310_8.165_2480.gro\"\n",
    "rotor_320 = \"F://_python/Models_two_class/Rotor_gro/R_r1.251_320_8.165_2560.gro\"\n",
    "rotor_330 = \"F://_python/Models_two_class/Rotor_gro/R_r1.291_330_8.165_2640.gro\"\n",
    "rotor_340 = \"F://_python/Models_two_class/Rotor_gro/R_r1.330_340_8.165_2720.gro\"\n",
    "rotor_350 = \"F://_python/Models_two_class/Rotor_gro/R_r1.369_350_8.165_2800.gro\"\n",
    "rotor_360 = \"F://_python/Models_two_class/Rotor_gro/R_r1.408_360_8.165_2880.gro\"\n",
    "\n",
    "rotor_380 = \"F://_python/Models_two_class/Rotor_gro/R_r1.486_380_8.165_3040.gro\"\n",
    "\n",
    "rotor_410 = \"F://_python/Models_two_class/Rotor_gro/R_r1.603_410_8.165_3280.gro\"\n",
    "\n",
    "rotor_440 = \"F://_python/Models_two_class/Rotor_gro/R_r1.721_440_8.165_3520.gro\"\n",
    "\n",
    "\n",
    "rotor_470 = \"F://_python/Models_two_class/Rotor_gro/R_r1.838_470_8.165_3760.gro\"\n",
    "\n",
    "rotor_500 = \"F://_python/Models_two_class/Rotor_gro/R_r1.995_500_8.165_4000.gro\"\n",
    "\n",
    "\n",
    "rotor_520 = \"F://_python/Models_two_class/Rotor_gro/R_r2.034_520_8.165_4160.gro\"\n",
    "\n",
    "rotor_600 = \"F://_python/Models_two_class/Rotor_gro/R_r2.347_600_8.165_4800.gro\"\n",
    "\n",
    "\n",
    "rotor_models = [rotor_55,rotor_66,rotor_77,rotor_88,rotor_99,\n",
    "                rotor_1010,rotor_1111,rotor_1212,rotor_1313,\n",
    "                rotor_1414,rotor_1515,rotor_1616,rotor_1717,rotor_1818,rotor_1919,rotor_2020,rotor_2222,                 \n",
    "                rotor_80,rotor_90,rotor_100,rotor_110,\n",
    "                rotor_120,rotor_130,rotor_140,rotor_150,rotor_160,rotor_170,rotor_180,rotor_190,rotor_200,\n",
    "                rotor_210,rotor_220,rotor_230,rotor_240,rotor_250,rotor_260,rotor_270,rotor_280,rotor_290,\n",
    "                rotor_300,rotor_310,rotor_320,rotor_330,rotor_340,rotor_350,rotor_360,rotor_380,rotor_410,\n",
    "                rotor_440,rotor_470,rotor_500,rotor_520,rotor_600\n",
    "                ]"
   ]
  },
  {
   "cell_type": "markdown",
   "metadata": {},
   "source": [
    "# 定子"
   ]
  },
  {
   "cell_type": "code",
   "execution_count": 108,
   "metadata": {
    "ExecuteTime": {
     "end_time": "2019-07-05T01:27:56.056904Z",
     "start_time": "2019-07-05T01:27:56.019903Z"
    }
   },
   "outputs": [],
   "source": [
    "#定子\n",
    "# 扶手椅\n",
    "stator_88 = \"F://_python/Models_two_class/Stator_gro/S_r0.543_88_0.5_96.gro\"\n",
    "stator_99 = \"F://_python/Models_two_class/Stator_gro/S_r0.605_99_0.5_108.gro\"\n",
    "stator_1010 = \"F://_python/Models_two_class/Stator_gro/S_r0.678_1010_0.5_120.gro\"\n",
    "stator_1111 = \"F://_python/Models_two_class/Stator_gro/S_r0.746_1111_0.5_132.gro\"\n",
    "stator_1212 = \"F://_python/Models_two_class/Stator_gro/S_r0.813_1212_0.5_144.gro\"\n",
    "stator_1313 = \"F://_python/Models_two_class/Stator_gro/S_r0.881_1313_0.5_156.gro\"\n",
    "stator_1414 = \"F://_python/Models_two_class/Stator_gro/S_r0.9485_1414_0.5_168.gro\"\n",
    "stator_1515 = \"F://_python/Models_two_class/Stator_gro/S_r1.017_1515_0.5_180.gro\"\n",
    "stator_1616 = \"F://_python/Models_two_class/Stator_gro/S_r1.084_1616_0.5_192.gro\"\n",
    "stator_1717 = \"F://_python/Models_two_class/Stator_gro/S_r1.152_1717_0.5_204.gro\"\n",
    "stator_1818 = \"F://_python/Models_two_class/Stator_gro/S_r1.221_1818_0.5_216.gro\"\n",
    "stator_1919 = \"F://_python/Models_two_class/Stator_gro/S_r1.2868_1919_0.5_228.gro\"\n",
    "stator_2020 = \"F://_python/Models_two_class/Stator_gro/S_r1.3546_2020_0.5_240.gro\"\n",
    "stator_2121 = \"F://_python/Models_two_class/Stator_gro/S_r1.422_2121_0.5_252.gro\"\n",
    "stator_2222 = \"F://_python/Models_two_class/Stator_gro/S_r1.4899_2222_0.5_264.gro\"\n",
    "stator_2323 = \"F://_python/Models_two_class/Stator_gro/S_r1.558_2323_0.5_276.gro\"\n",
    "stator_2424 = \"F://_python/Models_two_class/Stator_gro/S_r1.626_2424_0.5_288.gro\"\n",
    "stator_2525 = \"F://_python/Models_two_class/Stator_gro/S_r1.693_2525_0.5_300.gro\"\n",
    "stator_2626 = \"F://_python/Models_two_class/Stator_gro/S_r1.761_2626_0.5_312.gro\"\n",
    "stator_2727 = \"F://_python/Models_two_class/Stator_gro/S_r1.829_2727_0.5_324.gro\"\n",
    "stator_2828 = \"F://_python/Models_two_class/Stator_gro/S_r1.897_2828_0.5_336.gro\"\n",
    "\n",
    "# 锯齿形\n",
    "stator_130 = \"F://_python/Models_two_class/Stator_gro/S_r0.5094_130_0.5_104.gro\"\n",
    "stator_140 = \"F://_python/Models_two_class/Stator_gro/S_r0.548_140_0.5_112.gro\"\n",
    "stator_150 = \"F://_python/Models_two_class/Stator_gro/S_r0.5874_150_0.5_120.gro\"\n",
    "stator_160 = \"F://_python/Models_two_class/Stator_gro/S_r0.627_160_0.5_128.gro\"\n",
    "stator_170 = \"F://_python/Models_two_class/Stator_gro/S_r0.665_170_0.5_136.gro\"\n",
    "stator_180 = \"F://_python/Models_two_class/Stator_gro/S_r0.703_180_0.5_144.gro\"\n",
    "stator_190 = \"F://_python/Models_two_class/Stator_gro/S_r0.744_190_0.5_152.gro\"\n",
    "stator_200 = \"F://_python/Models_two_class/Stator_gro/S_r0.7826_200_0.5_160.gro\"\n",
    "stator_210 = \"F://_python/Models_two_class/Stator_gro/S_r0.822_210_0.5_168.gro\"\n",
    "stator_220 = \"F://_python/Models_two_class/Stator_gro/S_r0.861_220_0.5_176.gro\"\n",
    "stator_230 = \"F://_python/Models_two_class/Stator_gro/S_r0.900_230_0.5_184.gro\"\n",
    "stator_240 = \"F://_python/Models_two_class/Stator_gro/S_r0.939_240_0.5_192.gro\"\n",
    "stator_250 = \"F://_python/Models_two_class/Stator_gro/S_r0.978_250_0.5_200.gro\"\n",
    "stator_260 = \"F://_python/Models_two_class/Stator_gro/S_r1.017_260_0.5_208.gro\"\n",
    "stator_270 = \"F://_python/Models_two_class/Stator_gro/S_r1.056_270_0.5_216.gro\"\n",
    "stator_280 = \"F://_python/Models_two_class/Stator_gro/S_r1.0951_280_0.5_224.gro\"\n",
    "stator_290 = \"F://_python/Models_two_class/Stator_gro/S_r1.1342_290_0.5_232.gro\"\n",
    "stator_300 = \"F://_python/Models_two_class/Stator_gro/S_r1.1732_300_0.5_240.gro\"\n",
    "stator_310 = \"F://_python/Models_two_class/Stator_gro/S_r1.2086_310_0.5_248.gro\"\n",
    "stator_320 = \"F://_python/Models_two_class/Stator_gro/S_r1.251_320_0.5_256.gro\"\n",
    "stator_330 = \"F://_python/Models_two_class/Stator_gro/S_r1.2904_330_0.5_264.gro\"\n",
    "stator_340 = \"F://_python/Models_two_class/Stator_gro/S_r1.3295_340_0.5_272.gro\"\n",
    "stator_350 = \"F://_python/Models_two_class/Stator_gro/S_r1.369_350_0.5_280.gro\"\n",
    "stator_360 = \"F://_python/Models_two_class/Stator_gro/S_r1.4077_360_0.5_288.gro\"\n",
    "stator_370 = \"F://_python/Models_two_class/Stator_gro/S_r1.447_370_0.5_296.gro\"\n",
    "stator_380 = \"F://_python/Models_two_class/Stator_gro/S_r1.486_380_0.5_304.gro\"\n",
    "stator_390 = \"F://_python/Models_two_class/Stator_gro/S_r1.525_390_0.5_312.gro\"\n",
    "stator_400 = \"F://_python/Models_two_class/Stator_gro/S_r1.564_400_0.5_320.gro\"\n",
    "stator_410 = \"F://_python/Models_two_class/Stator_gro/S_r1.603_410_0.5_328.gro\"\n",
    "stator_420 = \"F://_python/Models_two_class/Stator_gro/S_r1.643_420_0.5_336.gro\"\n",
    "stator_430 = \"F://_python/Models_two_class/Stator_gro/S_r1.682_430_0.5_344.gro\"\n",
    "stator_440 = \"F://_python/Models_two_class/Stator_gro/S_r1.721_440_0.5_352.gro\"\n",
    "stator_450 = \"F://_python/Models_two_class/Stator_gro/S_r1.760_450_0.5_360.gro\"\n",
    "stator_460 = \"F://_python/Models_two_class/Stator_gro/S_r1.799_460_0.5_368.gro\"\n",
    "stator_470 = \"F://_python/Models_two_class/Stator_gro/S_r1.838_470_0.5_376.gro\"\n",
    "stator_480 = \"F://_python/Models_two_class/Stator_gro/S_r1.877_480_0.5_384.gro\"\n",
    "stator_490 = \"F://_python/Models_two_class/Stator_gro/S_r1.916_490_0.5_392.gro\"\n",
    "stator_500 = \"F://_python/Models_two_class/Stator_gro/S_r1.955_500_0.5_400.gro\"\n",
    "\n",
    "stator_530 = \"F://_python/Models_two_class/Stator_gro/S_r2.073_530_0.5_424.gro\"\n",
    "\n",
    "\n",
    "stator_560 = \"F://_python/Models_two_class/Stator_gro/S_r2.190_560_0.5_448.gro\"\n",
    "\n",
    "stator_590 = \"F://_python/Models_two_class/Stator_gro/S_r2.307_590_0.5_472.gro\"\n",
    "\n",
    "stator_610 = \"F://_python/Models_two_class/Stator_gro/S_r2.386_610_0.5_488.gro\"\n",
    "\n",
    "\n",
    "stator_690 = \"F://_python/Models_two_class/Stator_gro/S_r2.699_690_0.5_552.gro\"\n",
    "\n",
    "\n",
    "stator_models = [stator_88,stator_99,stator_1010,stator_1111,stator_1212,stator_1313,\n",
    "                 stator_1414,stator_1515,stator_1616,stator_1717,stator_1818,stator_1919,\n",
    "                 stator_2020,stator_2121,stator_2222,stator_2323,stator_2424,stator_2525,\n",
    "                 stator_2626,stator_2727,stator_2828,\n",
    "                 stator_130,stator_140,stator_150,\n",
    "                 stator_160,stator_170,stator_180,stator_190,stator_200,\n",
    "                 stator_210,stator_220,\n",
    "                 stator_230,stator_240,stator_250,stator_260,stator_270,stator_280,stator_290,stator_300,\n",
    "                 stator_310,stator_320,stator_330,stator_340,stator_350,stator_360,\n",
    "                 stator_370,stator_380,stator_390,stator_400,stator_410,stator_420,\n",
    "                 stator_430,stator_440,stator_450,stator_460,stator_470,stator_480,\n",
    "                 stator_490,stator_500,stator_530,stator_560,stator_590,stator_610,stator_690\n",
    "                 ]"
   ]
  },
  {
   "cell_type": "raw",
   "metadata": {},
   "source": [
    "\n",
    "\n",
    "锯齿形---转子---*---定子-----------------------------半径差--------------------------------\n",
    "   \n",
    "    80      |   170          |           0.352\n",
    "------------------------------------------------------------------------------------------------\n",
    "    90      |   180          |            0.35\n",
    "------------------------------------------------------------------------------------------------ \n",
    "    100      |   190          |            0.351\n",
    "------------------------------------------------------------------------------------------------   \n",
    "    120     |   210          |           0.352\n",
    "------------------------------------------------------------------------------------------------  \n",
    "    140     |   1313   230     |          0.352\n",
    "------------------------------------------------------------------------------------------------\n",
    "   150     |      240      |            0.352\n",
    "------------------------------------------------------------------------------------------------\n",
    "   160     |      250        |          0.351\n",
    "------------------------------------------------------------------------------------------------\n",
    "   170     |      260        |          0.352\n",
    "------------------------------------------------------------------------------------------------\n",
    "   180     |    270        |            0.353\n",
    "------------------------------------------------------------------------------------------------  \n",
    "   220     |   310         |           0.3416\n",
    "------------------------------------------------------------------------------------------------\n",
    "    230     |   320         |           0.351\n",
    "------------------------------------------------------------------------------------------------\n",
    "   260     |   350         |           0.352\n",
    "------------------------------------------------------------------------------------------------\n",
    "\n",
    "扶手椅---转子---*---定子-----------------------------半径差--------------------------------\n",
    "\n",
    "   55      |   1010         |            0.339\n",
    "------------------------------------------------------------------------------------------------\n",
    "    66      |   1111         |            0.338\n",
    "------------------------------------------------------------------------------------------------  \n",
    "    77     |    1212         |           0.338\n",
    "------------------------------------------------------------------------------------------------\n",
    "    88     |    1313         |            0.338\n",
    "------------------------------------------------------------------------------------------------ \n",
    "    1010    |    1515         |            0.338\n",
    "------------------------------------------------------------------------------------------------  \n",
    "   1111    |    1616         |            0.339\n",
    "------------------------------------------------------------------------------------------------  \n",
    "   1212    |    1717        |            0.339\n",
    "------------------------------------------------------------------------------------------------  \n",
    "    1313    |   1818         |           0.34\n",
    "------------------------------------------------------------------------------------------------\n",
    "  1616    |   2121        |           0.338\n",
    "------------------------------------------------------------------------------------------------\n",
    "    "
   ]
  },
  {
   "cell_type": "markdown",
   "metadata": {},
   "source": [
    "# 一、修改程序文件名3stageM*--电机--转子1--转子2--转子3"
   ]
  },
  {
   "cell_type": "markdown",
   "metadata": {},
   "source": [
    "# 二、修改生成的文件名3stageM*--电机--转子1--转子2--转子3"
   ]
  },
  {
   "cell_type": "code",
   "execution_count": 109,
   "metadata": {
    "ExecuteTime": {
     "end_time": "2019-07-05T01:27:56.078953Z",
     "start_time": "2019-07-05T01:27:56.067904Z"
    }
   },
   "outputs": [],
   "source": [
    "filename_head = curfilerename_temp\n",
    "filename_tail = \".gro\""
   ]
  },
  {
   "cell_type": "code",
   "execution_count": 110,
   "metadata": {
    "ExecuteTime": {
     "end_time": "2019-07-05T01:27:56.100904Z",
     "start_time": "2019-07-05T01:27:56.087904Z"
    }
   },
   "outputs": [
    {
     "name": "stdout",
     "output_type": "stream",
     "text": [
      "M13-140-80-140-140\n"
     ]
    }
   ],
   "source": [
    "print(filename_head)"
   ]
  },
  {
   "cell_type": "markdown",
   "metadata": {},
   "source": [
    "# 三、修改模型结构-电机-转子-定子-匹配"
   ]
  },
  {
   "cell_type": "code",
   "execution_count": 111,
   "metadata": {
    "ExecuteTime": {
     "end_time": "2019-07-05T01:27:56.141905Z",
     "start_time": "2019-07-05T01:27:56.107902Z"
    },
    "scrolled": false
   },
   "outputs": [
    {
     "name": "stdout",
     "output_type": "stream",
     "text": [
      "\u001b[1;31;47minfile_motor = %s\u001b[0m] ('F://_python/Models_two_class/Motor_gro', 'M_r0.548_140_3.053_448.gro')\n",
      "\u001b[1;32;47minfile_rotor1 = %s\u001b[0m] ('F://_python/Models_two_class/Rotor_gro', 'R_r0.313_80_7.952_608.gro')\n",
      "\u001b[1;33;47minfile_rotor2 = %s\u001b[0m] ('F://_python/Models_two_class/Rotor_gro', 'R_r0.548_140_8.165_1120.gro')\n",
      "\u001b[1;34;47minfile_rotor3 = %s\u001b[0m] ('F://_python/Models_two_class/Rotor_gro', 'R_r0.548_140_8.165_1120.gro')\n",
      "\u001b[1;32;47minfile_stator1 = %s\u001b[0m] ('F://_python/Models_two_class/Stator_gro', 'S_r0.665_170_0.5_136.gro')\n",
      "\u001b[1;33;47minfile_stator3 = %s\u001b[0m] ('F://_python/Models_two_class/Stator_gro', 'S_r0.900_230_0.5_184.gro')\n",
      "\u001b[1;34;47minfile_stator5 = %s\u001b[0m] ('F://_python/Models_two_class/Stator_gro', 'S_r0.900_230_0.5_184.gro')\n"
     ]
    }
   ],
   "source": [
    "#确定 nanomotor  结构\n",
    "total_type = 20   #10个碳纳米管   每个碳纳米管都有一个氢原子组   一共20个原子类型\n",
    "amount = int(total_type/2)\n",
    "#####################     M22     ##############################     \n",
    "    ###############   电机    ####################\n",
    "p = re.compile(curfilerename[1])\n",
    "for e in motor_models:\n",
    "    if p.search(e):\n",
    "        print(\"\\033[1;31;47minfile_motor = %s\\033[0m]\",os.path.split(e))\n",
    "        infile_motor =e \n",
    "\n",
    "\n",
    "    ###############   转子    ####################\n",
    "#     Rotor1\n",
    "p = re.compile(curfilerename[2])\n",
    "for e in rotor_models:\n",
    "    if p.search(e):\n",
    "        print(\"\\033[1;32;47minfile_rotor1 = %s\\033[0m]\",os.path.split(e))\n",
    "        infile_rotor1 =e    \n",
    "# Rotor2\n",
    "p = re.compile(curfilerename[3])\n",
    "for e in rotor_models:\n",
    "    if p.search(e):\n",
    "        print(\"\\033[1;33;47minfile_rotor2 = %s\\033[0m]\",os.path.split(e))\n",
    "        infile_rotor2 =e    \n",
    "# Rotor3\n",
    "p = re.compile(curfilerename[4])\n",
    "for e in rotor_models:\n",
    "    if p.search(e):\n",
    "        print(\"\\033[1;34;47minfile_rotor3 = %s\\033[0m]\",os.path.split(e))\n",
    "        infile_rotor3 =e    \n",
    "\n",
    "    ###############  定子   ####################\n",
    "    ################   需要选择  定子子1\n",
    "p = re.compile(stators[1])\n",
    "for e in stator_models:\n",
    "    if p.search(e):\n",
    "        print(\"\\033[1;32;47minfile_stator1 = %s\\033[0m]\",os.path.split(e))\n",
    "        infile_stator1 =e    \n",
    "infile_stator2 = infile_stator1\n",
    "\n",
    "################   需要选择  定子3\n",
    "p = re.compile(stators[2])\n",
    "for e in stator_models:\n",
    "    if p.search(e):\n",
    "        print(\"\\033[1;33;47minfile_stator3 = %s\\033[0m]\",os.path.split(e))\n",
    "        infile_stator3 =e    \n",
    "infile_stator4 = infile_stator3\n",
    "\n",
    "################   需要选择  定子5\n",
    "p = re.compile(stators[3])\n",
    "for e in stator_models:\n",
    "    if p.search(e):\n",
    "        print(\"\\033[1;34;47minfile_stator5 = %s\\033[0m]\",os.path.split(e))\n",
    "        infile_stator5 =e    \n",
    "infile_stator6 = infile_stator5"
   ]
  },
  {
   "cell_type": "code",
   "execution_count": 112,
   "metadata": {
    "ExecuteTime": {
     "end_time": "2019-07-05T01:27:56.161908Z",
     "start_time": "2019-07-05T01:27:56.151906Z"
    }
   },
   "outputs": [],
   "source": [
    "infile = [infile_motor,infile_rotor1,infile_rotor2,infile_rotor3,\n",
    "          infile_stator1,infile_stator2,infile_stator3,infile_stator4,infile_stator5,infile_stator6\n",
    "          ]"
   ]
  },
  {
   "cell_type": "markdown",
   "metadata": {},
   "source": [
    "## 函数"
   ]
  },
  {
   "cell_type": "code",
   "execution_count": 113,
   "metadata": {
    "ExecuteTime": {
     "end_time": "2019-07-05T01:27:56.178906Z",
     "start_time": "2019-07-05T01:27:56.171904Z"
    },
    "code_folding": []
   },
   "outputs": [],
   "source": [
    "#函数定义\n",
    "# %%nbtutor\n",
    "###################################     定义函数     ###########################################################\n",
    "###################################     gro文件    ############################################################"
   ]
  },
  {
   "cell_type": "markdown",
   "metadata": {},
   "source": [
    "### A、定义读取文件函数gro_file "
   ]
  },
  {
   "cell_type": "code",
   "execution_count": 114,
   "metadata": {
    "ExecuteTime": {
     "end_time": "2019-07-05T01:27:56.199904Z",
     "start_time": "2019-07-05T01:27:56.189903Z"
    },
    "code_folding": []
   },
   "outputs": [],
   "source": [
    "######## A、定义读取文件函数gro_file ###\n",
    "# 参数infile为包含文件路径和文件名的字符串\n",
    "def gro_file(infile):\n",
    "    with open(infile,'r') as f:\n",
    "        rows = [row for row in f]\n",
    "    rows = [row.split() for row in rows[2:-1]]   #不分隔  有的列读不出来df.loc[df[5].isin([ '0.000','3.474', '11.299',\\])]\n",
    "    return rows"
   ]
  },
  {
   "cell_type": "markdown",
   "metadata": {},
   "source": [
    "### B、  调整结构布局函数"
   ]
  },
  {
   "cell_type": "code",
   "execution_count": 115,
   "metadata": {
    "ExecuteTime": {
     "end_time": "2019-07-05T01:27:56.235906Z",
     "start_time": "2019-07-05T01:27:56.208905Z"
    },
    "code_folding": []
   },
   "outputs": [],
   "source": [
    "########    B、  调整结构布局函数    #####################\n",
    "#五个参数\n",
    "# 1、df_X  为调用每个单独的gro文件\n",
    "# 2、sequence_atomic 为df_X递增的原子序列\n",
    "# 3、distance_origin  为每个CNT左端到原点的距离\n",
    "# 4、first_third   为调整第一列123CNT    第三列123 的序列\n",
    "# 5、 first_column 为系统不同部分分配不同的别名  motor rotor1  rotor2 stators \n",
    "def adjust_gro_format(df_X,sequence_atomic,distance_origin,first_third,first_column):\n",
    "    # 修改第一列df_1[0]\n",
    "    for  i,e in enumerate(sequence_atomic):\n",
    "        atomic_number = first_third + sequence_atomic[i]\n",
    "        if first_column == 'motor' :\n",
    "            df_X.iloc[i][0]=(str(atomic_number)+'CMO')\n",
    "        elif first_column == 'rotor1' :\n",
    "            df_X.iloc[i][0]=(str(atomic_number)+'CR1')\n",
    "        elif first_column == 'rotor2' :\n",
    "            df_X.iloc[i][0]=(str(atomic_number)+'CR2')\n",
    "        elif first_column == 'rotor3' :\n",
    "            df_X.iloc[i][0]=(str(atomic_number)+'CR3')\n",
    "        elif first_column == 'rotor4' :\n",
    "            df_X.iloc[i][0]=(str(atomic_number)+'CR4')\n",
    "        elif first_column == 'stator1' :\n",
    "            df_X.iloc[i][0]=(str(atomic_number)+'CS1')\n",
    "        elif first_column == 'stator2' :\n",
    "            df_X.iloc[i][0]=(str(atomic_number)+'CS2')\n",
    "        elif first_column == 'stator3' :\n",
    "            df_X.iloc[i][0]=(str(atomic_number)+'CS3')\n",
    "        elif first_column == 'stator4' :\n",
    "            df_X.iloc[i][0]=(str(atomic_number)+'CS4')\n",
    "        elif first_column == 'stator5' :\n",
    "            df_X.iloc[i][0]=(str(atomic_number)+'CS5')\n",
    "        elif first_column == 'stator6' :\n",
    "            df_X.iloc[i][0]=(str(atomic_number)+'CS6')\n",
    "        elif first_column == 'stator7' :\n",
    "            df_X.iloc[i][0]=(str(atomic_number)+'CS7')\n",
    "        elif first_column == 'stator8' :\n",
    "            df_X.iloc[i][0]=(str(atomic_number)+'CS8')\n",
    "    # 修改第三列df_1[2]\n",
    "    for  i,e in enumerate(sequence_atomic):\n",
    "        atomic_number = first_third + sequence_atomic[i]\n",
    "        df_X.iloc[i][2]= atomic_number\n",
    "    #修改 z 坐标 df_1[5]\n",
    "    df_X[5] = df_X[5].apply(float).map(lambda x: x + distance_origin) \n",
    "    return df_X"
   ]
  },
  {
   "cell_type": "markdown",
   "metadata": {},
   "source": [
    "### C、格式化为VMD格式函数"
   ]
  },
  {
   "cell_type": "code",
   "execution_count": 116,
   "metadata": {
    "ExecuteTime": {
     "end_time": "2019-07-05T01:27:56.266904Z",
     "start_time": "2019-07-05T01:27:56.243903Z"
    },
    "code_folding": []
   },
   "outputs": [],
   "source": [
    "########    C、格式化为VMD格式函数##\n",
    "## 格式化为VMD格式  存储在data\n",
    "# pandasdataframe格式    原样      输出保存为gro格式\n",
    "# 传入两个参数\n",
    "# 1、要存储的数据dataframe\n",
    "# 2、输出的文件名outfile\n",
    "def dataframe_output_gro(dataframe,outfile):\n",
    "    dataframe[3] = dataframe[3].apply(float)\n",
    "    dataframe[4] = dataframe[4].apply(float)\n",
    "    dataframe[5] = dataframe[5].apply(float)\n",
    "    temp = dataframe\n",
    "    data = []\n",
    "    for i in range(temp.shape[0]):\n",
    "        entry= temp.iloc[i]\n",
    "        mol_type = entry[0]\n",
    "        atom_type = entry[1]\n",
    "        num = entry[2]\n",
    "        x =  \"{:.3f}\".format(temp.iloc[i][3])\n",
    "        y =  \"{:.3f}\".format(temp.iloc[i][4])\n",
    "        z =  \"{:.3f}\".format(temp.iloc[i][5])\n",
    "        out_line = mol_type.rjust(8) + atom_type.rjust(5) + str(num).rjust(7) + \\\n",
    "                   x.rjust(8) + y.rjust(8) + z.rjust(8) + '\\n'\n",
    "        data.append(out_line)\n",
    "    ## 加VMD文件头和尾     保存文件outfile\n",
    "    start = 'generated by VMD, t= 0.000000\\n{}\\n'.format(len(data))\n",
    "    end = '   0.00000   0.00000   0.00000\\n'\n",
    "    with open(outfile,'w') as wf:\n",
    "        wf.write(start)\n",
    "        wf.writelines(data)\n",
    "        wf.write(end)"
   ]
  },
  {
   "cell_type": "markdown",
   "metadata": {},
   "source": [
    "### D、生成data文件"
   ]
  },
  {
   "cell_type": "code",
   "execution_count": 117,
   "metadata": {
    "ExecuteTime": {
     "end_time": "2019-07-05T01:27:56.288905Z",
     "start_time": "2019-07-05T01:27:56.274903Z"
    },
    "code_folding": []
   },
   "outputs": [],
   "source": [
    "#########################################    D、 data文件     #####################################################################\n",
    "########D、原始文件格式化为 data 格式函数#\n",
    "# 注：位移单位为 埃（0.1纳米）\n",
    "#1、rows 为gro格式的DataFrame  一个碳纳米管组件\n",
    "#2、add_xyz 为每一个碳纳米管左端的偏移量\n",
    "# 3、clas: 原子类型，如果模型中共有2个原子类型，那么 clas 取值为 1 或者 2\n",
    "# 4、count: 原子 id 起始值，如果 id 从 1 开始，此时 count = 1\n",
    "def proces_file(rows,add_xyz,clas,count):\n",
    "    raw_rows = rows[2:-1]\n",
    "    str_xyz = [[float(e) for e in (row[20:].split())]for row in raw_rows]\n",
    "    atoms = [(\"%8d\"% (i+1+count)) + \\\n",
    "             (\"%6d\"%clas) + \\\n",
    "             (\"%9.3f\"%(10*e[0]+add_xyz[0]))+ (\"%8.3f\"%(10*e[1]+add_xyz[1])) + (\"%8.3f\"%(10*e[2]+add_xyz[2])) + '\\n'\n",
    "            for i,e in enumerate(str_xyz)]       \n",
    "    return atoms "
   ]
  },
  {
   "cell_type": "markdown",
   "metadata": {},
   "source": [
    "#### E、 data文件的  head    格式函数"
   ]
  },
  {
   "cell_type": "code",
   "execution_count": 118,
   "metadata": {
    "ExecuteTime": {
     "end_time": "2019-07-05T01:27:56.311904Z",
     "start_time": "2019-07-05T01:27:56.297905Z"
    },
    "code_folding": []
   },
   "outputs": [],
   "source": [
    "########    E、 data文件的  head    格式函数    ###\n",
    "# 1、raw_xyz_range  为盒子的三维范围  列表类型\n",
    "# 2、atoms_num 为data文件总原子数\n",
    "def label(raw_xyz_range,atoms_num,relative_mass):\n",
    "    xyz_l_h = ['  xlo xhi',\n",
    "               '  ylo yhi',\n",
    "               '  zlo zhi'\n",
    "              ]\n",
    "    xyz_range = [(\"%11.5f\"%float(e[0])+\"%12.5f\"%float(e[1])+xyz_l_h[i]+'\\n')\n",
    "                     for i,e in enumerate(raw_xyz_range)  \n",
    "                ]\n",
    "    label_1 = ['# Two class nanotubes hydrogenated \\n',\n",
    "            (\"%8d\"%atoms_num) + '   atoms\\n',\n",
    "             '\\n' \n",
    "            ]\n",
    "    label_2 = [\"%5s\"%(total_type) + ' atom types\\n'] + xyz_range\n",
    "    \n",
    "    label_3 =['\\n',' Masses\\n','\\n']+ relative_mass.split(\"_\") + ['\\n','Atoms\\n','\\n' ]    \n",
    "#     del label_3[-4]\n",
    "    label = label_1 + label_2 + label_3\n",
    "    return label"
   ]
  },
  {
   "cell_type": "markdown",
   "metadata": {},
   "source": [
    "### F、 读取gro文件"
   ]
  },
  {
   "cell_type": "code",
   "execution_count": 119,
   "metadata": {
    "ExecuteTime": {
     "end_time": "2019-07-05T01:27:56.329906Z",
     "start_time": "2019-07-05T01:27:56.321905Z"
    },
    "code_folding": []
   },
   "outputs": [],
   "source": [
    "########    F、 读取gro文件    #################\n",
    "# 读取gro文件，逐行以字符串格式存入 rows 中\n",
    "# rows 为一个 list\n",
    "def gro_rows(grofile):\n",
    "    with open(grofile, 'r') as f:\n",
    "        rows = [row for row in f]\n",
    "    return pd.DataFrame(rows)\n",
    "#     return [row for row in f]"
   ]
  },
  {
   "cell_type": "markdown",
   "metadata": {},
   "source": [
    "### 生成 in文件"
   ]
  },
  {
   "cell_type": "code",
   "execution_count": 120,
   "metadata": {
    "ExecuteTime": {
     "end_time": "2019-07-05T01:27:56.345904Z",
     "start_time": "2019-07-05T01:27:56.338903Z"
    },
    "code_folding": []
   },
   "outputs": [],
   "source": [
    "###################################################     in文件     ###############################################################"
   ]
  },
  {
   "cell_type": "markdown",
   "metadata": {},
   "source": [
    "#### G、  L-J pair_coeff 格式化"
   ]
  },
  {
   "cell_type": "code",
   "execution_count": 121,
   "metadata": {
    "ExecuteTime": {
     "end_time": "2019-07-05T01:27:56.394906Z",
     "start_time": "2019-07-05T01:27:56.354907Z"
    },
    "code_folding": []
   },
   "outputs": [],
   "source": [
    "########    G、  L-J pair_coeff 格式化   ##########\n",
    "# label_2     L-J pair_coeff\n",
    "# serial_number is start\n",
    "# amount is end\n",
    "def pair_coeff(type_type,serial_number,amount):\n",
    "    temp = []\n",
    "    j = 0\n",
    "####################   C-C    #######\n",
    "    if type_type == \"C-C\":\n",
    "        epslon = 0.002840\n",
    "        sigama = 3.400\n",
    "        if serial_number < amount - 1:\n",
    "            pair_coeff_C = [\"pair_coeff\" + \"%5d\"%(serial_number) + \"%5d*%-5d\"%(serial_number + 1,amount) +  \"%10s\"%(\"lj/cut\") +\\\n",
    "                        \"%10.6f\"%(epslon) +  \"%10.3f\"%(sigama)+\"\\n\"]\n",
    "        else:\n",
    "            pair_coeff_C = [\"pair_coeff\" + \"%5d\"%(serial_number) + \"%8d\"%(amount) +  \"%13s\"%(\"lj/cut\") +\\\n",
    "                        \"%10.6f\"%(epslon) +  \"%10.3f\"%(sigama)+\"\\n\"]\n",
    "        temp= temp + pair_coeff_C\n",
    "####################   C-H    #########\n",
    "    elif type_type == \"C-H\" :\n",
    "        epslon = 0.001376\n",
    "        sigama = 3.025\n",
    "        if serial_number == 1:\n",
    "            pair_coeff_C = [\"pair_coeff\" + \"%5d\"%(serial_number) + \"%5d*%-5d\"%(amount + serial_number +1 ,2*amount) +  \"%10s\"%(\"lj/cut\") +\\\n",
    "                    \"%10.6f\"%(epslon) +  \"%10.3f\"%(sigama) + \"\\n\"]\n",
    "        elif serial_number == 2:\n",
    "            pair_coeff_A = [\"pair_coeff\" + \"%5d\"%(serial_number) + \"%8d\"%(amount + serial_number - 1) +  \"%13s\"%(\"lj/cut\") +\\\n",
    "                    \"%10.6f\"%(epslon) +  \"%10.3f\"%(sigama) + \"\\n\"]\n",
    "            pair_coeff_B = [\"pair_coeff\" + \"%5d\"%(serial_number) + \"%5d*%-5d\"%(amount + serial_number + 1,2*amount) +  \"%10s\"%(\"lj/cut\") +\\\n",
    "                    \"%10.6f\"%(epslon) +  \"%10.3f\"%(sigama) + \"\\n\"]\n",
    "            pair_coeff_C = pair_coeff_A + pair_coeff_B\n",
    "        elif serial_number > 2 and serial_number < amount -1 :\n",
    "            pair_coeff_A = [\"pair_coeff\" + \"%5d\"%(serial_number) + \"%5d*%-5d\"%(amount + 1,amount + serial_number -1) +  \"%10s\"%(\"lj/cut\") +\\\n",
    "                    \"%10.6f\"%(epslon) +  \"%10.3f\"%(sigama) + \"\\n\"]\n",
    "            pair_coeff_B = [\"pair_coeff\" + \"%5d\"%(serial_number) + \"%5d*%-5d\"%(amount + serial_number + 1,2*amount) +  \"%10s\"%(\"lj/cut\") +\\\n",
    "                    \"%10.6f\"%(epslon) +  \"%10.3f\"%(sigama) + \"\\n\"]\n",
    "            pair_coeff_C = pair_coeff_A + pair_coeff_B\n",
    "        elif serial_number ==  amount -1:\n",
    "            pair_coeff_A = [\"pair_coeff\" + \"%5d\"%(serial_number) + \"%5d*%-5d\"%(amount  + 1,2*amount-2) +  \"%10s\"%(\"lj/cut\") +\\\n",
    "                    \"%10.6f\"%(epslon) +  \"%10.3f\"%(sigama) + \"\\n\"]\n",
    "            pair_coeff_B = [\"pair_coeff\" + \"%5d\"%(serial_number) + \"%8d\"%(2*amount) +  \"%13s\"%(\"lj/cut\") +\\\n",
    "                    \"%10.6f\"%(epslon) +  \"%10.3f\"%(sigama) + \"\\n\"]\n",
    "            pair_coeff_C = pair_coeff_A + pair_coeff_B\n",
    "        else :\n",
    "            pair_coeff_C = [\"pair_coeff\" + \"%5d\"%(serial_number) + \"%5d*%-5d\"%(amount + 1 ,2*amount-1) +  \"%10s\"%(\"lj/cut\") +\\\n",
    "                    \"%10.6f\"%(epslon) +  \"%10.3f\"%(sigama) + \"\\n\"]\n",
    "        temp= temp + pair_coeff_C\n",
    "####################   H-H    ##########\n",
    "    elif type_type == \"H-H\" :\n",
    "        epslon = 0.001500\n",
    "        sigama = 2.650 \n",
    "        if serial_number < amount - 1:\n",
    "            pair_coeff_C = [\"pair_coeff\" + \"%5d\"%(serial_number+amount) + \"%5d*%-5d\"%(serial_number + 1+ amount, 2*amount) +\\\n",
    "                    \"%10s\"%(\"lj/cut\") + \"%10.6f\"%(epslon) +  \"%10.3f\"%(sigama) + \"\\n\"]\n",
    "        else:\n",
    "            pair_coeff_C = [\"pair_coeff\" + \"%5d\"%(serial_number+amount) + \"%8d\"%(2*amount) +\\\n",
    "                    \"%13s\"%(\"lj/cut\") + \"%10.6f\"%(epslon) +  \"%10.3f\"%(sigama) + \"\\n\"]\n",
    "        temp= temp + pair_coeff_C\n",
    "    return temp"
   ]
  },
  {
   "cell_type": "markdown",
   "metadata": {},
   "source": [
    "#### H、转子左右两端固定区域函数"
   ]
  },
  {
   "cell_type": "code",
   "execution_count": 122,
   "metadata": {
    "ExecuteTime": {
     "end_time": "2019-07-05T01:27:56.422911Z",
     "start_time": "2019-07-05T01:27:56.402907Z"
    },
    "code_folding": []
   },
   "outputs": [],
   "source": [
    "###################  H、转子左右两端固定区域函数 ######\n",
    "def X_region(df_X_ad,model,dz):\n",
    "    df_X_ad[3] = df_X_ad[3].apply(float).map(lambda x: x ) \n",
    "    df_X_ad[4] = df_X_ad[4].apply(float).map(lambda x: x ) \n",
    "    px = max(df_X_ad.iloc[:][3])*10\n",
    "    pz_L = df_X_ad.iloc[0][5]*10 \n",
    "    pz_R = df_X_ad.iloc[-1][5]*10\n",
    "    region_L =  [\"region       %s    block\"%(model + \"_L\") + \"%10.3f\"%(-px) + \"%10.3f\"%(px)\\\n",
    "                + \"%10.3f\"%(-px) + \"%10.3f\"%(px) + \"%10.3f\"%(pz_L) + \"%10.3f\"%(pz_L+dz)+\"\\n\"]\n",
    "    region_R =  [\"region       %s    block\"%(model + \"_R\") + \"%10.3f\"%(-px) + \"%10.3f\"%(px)\\\n",
    "                + \"%10.3f\"%(-px) + \"%10.3f\"%(px) + \"%10.3f\"%(pz_R-dz) + \"%10.3f\"%(pz_R)+\"\\n\"]\n",
    "    return region_L + region_R"
   ]
  },
  {
   "cell_type": "markdown",
   "metadata": {},
   "source": [
    "#### I、根据原子类型分组"
   ]
  },
  {
   "cell_type": "code",
   "execution_count": 123,
   "metadata": {
    "ExecuteTime": {
     "end_time": "2019-07-05T01:27:56.450905Z",
     "start_time": "2019-07-05T01:27:56.434904Z"
    },
    "code_folding": []
   },
   "outputs": [],
   "source": [
    "###################  I、根据原子类型分组###############\n",
    "def group_type(atom,group_type,amount):\n",
    "    results = []\n",
    "    if atom == \"C\":\n",
    "        for i in range(0,amount):\n",
    "            results.append(\"group       \" + \"%-20s\"%(group_type[i]) + \"    type   \" + \"%3d\"%(i+1)+\"\\n\")\n",
    "#             if i == 1 or i == 2 or i == 3 :\n",
    "#                 continue\n",
    "#             else:\n",
    "#                 results.append(\"group       \" + \"%-20s\"%(group_type[i]) + \"    type   \" + \"%3d\"%(i+1)+\"\\n\")\n",
    "    elif atom == \"H\":\n",
    "        for i in range(0,amount):   #amount\n",
    "            if i == 0:\n",
    "                results.append(\"group       \" + \"%-20s\"%(group_type[i]) + \"    type   \" + \"%3d\"%(i+1+amount)+\"\\n\")\n",
    "                break\n",
    "    return results"
   ]
  },
  {
   "cell_type": "markdown",
   "metadata": {},
   "source": [
    "### 末端氢化"
   ]
  },
  {
   "cell_type": "markdown",
   "metadata": {},
   "source": [
    "#### A、定义找出端点z坐标函数find_z_add_hdz"
   ]
  },
  {
   "cell_type": "code",
   "execution_count": 124,
   "metadata": {
    "ExecuteTime": {
     "end_time": "2019-07-05T01:27:56.482906Z",
     "start_time": "2019-07-05T01:27:56.460909Z"
    }
   },
   "outputs": [],
   "source": [
    "#### A、定义找出端点z坐标函数find_z_add_hdz\n",
    "\n",
    "# df_adjustment 为7gros合并后的pandasdataframe\n",
    "# tube_direction 为碳纳米管加氢的末端\n",
    "# direction 为  L or R\n",
    "# z_coord 为需要氢化的碳纳米管的末端z坐标\n",
    "# hdz 为碳氢的键长\n",
    "                                        # 苯环C-C length = C- H =0.1418nm\n",
    "                                        # 甲烷  length = C- H =0.1087nm\n",
    "# df_adjustment为合并后的gro pandasdataframe格式的df_ad  和  三个参数\n",
    "hdz = 0.089\n",
    "# hdz = 0.0628 #  M4定子1R上的氢坏掉了\n",
    "# hdz = 0.1087\n",
    "def find_z_add_hdz(df_adjustment,direction,hdz):\n",
    "    if direction == \"L\":\n",
    "        z_coord = df_adjustment.iloc[0][5]\n",
    "        tube_z_coord = df_adjustment.loc[df_adjustment[5].isin([z_coord])]\n",
    "        tube_z_coord[5] = tube_z_coord[5].apply(float).map(lambda x:  x - hdz )\n",
    "    elif direction == \"R\":\n",
    "        z_coord = df_adjustment.iloc[-1][5]\n",
    "        tube_z_coord = df_adjustment.loc[df_adjustment[5].isin([z_coord])]\n",
    "        tube_z_coord[5] = tube_z_coord[5].apply(float).map(lambda x:  x + hdz )\n",
    "    elif direction == \"LR\":\n",
    "        z_coord_L = df_adjustment.iloc[0][5]\n",
    "        tube_z_coord_L = df_adjustment.loc[df_adjustment[5].isin([z_coord_L])]\n",
    "        tube_z_coord_L[5] = tube_z_coord_L[5].apply(float).map(lambda x:  x - hdz )\n",
    "        \n",
    "        z_coord_R = df_adjustment.iloc[-1][5]\n",
    "        tube_z_coord_R = df_adjustment.loc[df_adjustment[5].isin([z_coord_R])]\n",
    "        tube_z_coord_R[5] = tube_z_coord_R[5].apply(float).map(lambda x:  x + hdz )\n",
    "        tube_z_coord = tube_z_coord_L.append(tube_z_coord_R)\n",
    "    else:\n",
    "        print(\"请选择碳纳米管的末端：L or R\")\n",
    "    return tube_z_coord"
   ]
  },
  {
   "cell_type": "markdown",
   "metadata": {},
   "source": [
    "## A、读入碳纳米管gro文件"
   ]
  },
  {
   "cell_type": "code",
   "execution_count": 125,
   "metadata": {
    "ExecuteTime": {
     "end_time": "2019-07-05T01:27:56.697914Z",
     "start_time": "2019-07-05T01:27:56.489903Z"
    }
   },
   "outputs": [],
   "source": [
    "#A、读入碳纳米管gro文件 #######\n",
    "# pandas dataframe  格式\n",
    "df_motor = pd.DataFrame(gro_file(infile_motor))   #电机DataFrame\n",
    "df_rotor1 = pd.DataFrame(gro_file(infile_rotor1))  #转子氢DataFrame\n",
    "df_rotor2 = pd.DataFrame(gro_file(infile_rotor2))\n",
    "df_rotor3 = pd.DataFrame(gro_file(infile_rotor3))\n",
    "df_stator1 = pd.DataFrame(gro_file(infile_stator1))   #定子DataFrame\n",
    "df_stator2 = pd.DataFrame(gro_file(infile_stator2))\n",
    "df_stator3 = pd.DataFrame(gro_file(infile_stator3))\n",
    "df_stator4 = pd.DataFrame(gro_file(infile_stator4))\n",
    "df_stator5 = pd.DataFrame(gro_file(infile_stator5))\n",
    "df_stator6 = pd.DataFrame(gro_file(infile_stator6))\n",
    "\n",
    "\n",
    "# 结构布局碳纳米管的长度\n",
    "# 从原点开始，转子1--》转子2--》电机--》转子3--》转子4--》定子1--》定子2--》。。。--》定子8\n",
    "L2 = 6.302    ######################################################################################\n",
    "\n",
    "# L2 = float(input(\"请输入L2长度：\"))\n",
    "rotor1_length = float(df_rotor1.iloc[-1][5]) - float(df_rotor1.iloc[0][5])   #转子的长度\n",
    "rotor2_length = float(df_rotor2.iloc[-1][5]) - float(df_rotor2.iloc[0][5])\n",
    "motor_length = float(df_motor.iloc[-1][5]) - float(df_motor.iloc[0][5]) #3.704  电机的长度\n",
    "rotor3_length = float(df_rotor3.iloc[-1][5]) - float(df_rotor3.iloc[0][5])   #转子的长度\n",
    "\n",
    "\n",
    "stator1_length = float(df_stator1.iloc[-1][5]) - float(df_stator1.iloc[0][5])   #定子的长度\n",
    "stator2_length = float(df_stator2.iloc[-1][5]) - float(df_stator2.iloc[0][5])\n",
    "stator3_length = float(df_stator3.iloc[-1][5]) - float(df_stator3.iloc[0][5])\n",
    "stator4_length = float(df_stator4.iloc[-1][5]) - float(df_stator4.iloc[0][5])\n",
    "stator5_length = float(df_stator5.iloc[-1][5]) - float(df_stator5.iloc[0][5])\n",
    "stator6_length = float(df_stator6.iloc[-1][5]) - float(df_stator6.iloc[0][5])"
   ]
  },
  {
   "cell_type": "markdown",
   "metadata": {},
   "source": [
    "## B、 调整碳和氢的结构布局 "
   ]
  },
  {
   "cell_type": "code",
   "execution_count": 126,
   "metadata": {
    "ExecuteTime": {
     "end_time": "2019-07-05T01:28:00.688462Z",
     "start_time": "2019-07-05T01:27:56.702903Z"
    }
   },
   "outputs": [],
   "source": [
    "#B、 调整碳和氢的结构布局    ###\n",
    "\n",
    "dz_01 = 0.1\n",
    "dz_02 = 0.2\n",
    "dz_03 = 0.3\n",
    "dz_04 = 0.4\n",
    "#####     电机     ########\n",
    "# 1、motor gro 调整第一列(不同部分分组），第三列和z坐标  \n",
    "motor_count = df_motor[0].count()+ 1  #本身原子总数\n",
    "# df_X  和  四个参数\n",
    "sequence_atomic = np.arange(1,motor_count)  #本身原子序列\n",
    "motor_distance_origin = 0     #左端与远点的距离\n",
    "motor_sequence = 0 #在结构布局里的原子起始值  等于前面的所有碳纳米管原子总数的和\n",
    "motor_first_column = \"motor\"   #不同部分的第一列不同的赋予不同的name\n",
    "df_motor_ad = adjust_gro_format(df_motor,sequence_atomic,motor_distance_origin,motor_sequence,motor_first_column )\n",
    "\n",
    "#######  转子    ####\n",
    "# 2、rotor1 gro 调整第一列(不同部分分组），第三列和z坐标  \n",
    "rotor1_count = df_rotor1[0].count()+ 1  #本身原子总数\n",
    "# df_X  和  四个参数\n",
    "sequence_atomic = np.arange(1,rotor1_count)  #本身原子序列\n",
    "rotor1_distance_origin = motor_distance_origin + motor_length + dz_04        #左端与远点的距离\n",
    "rotor1_sequence = df_motor[0].count()          #在结构布局里的原子起始值  等于前面的所有碳纳米管原子总数的和\n",
    "rotor1_first_column = \"rotor1\"     #不同部分的第一列不同的赋予不同的name\n",
    "df_rotor1_ad = adjust_gro_format(df_rotor1,sequence_atomic,rotor1_distance_origin,rotor1_sequence,rotor1_first_column )\n",
    "\n",
    "\n",
    "# 3、rotor2 gro 调整第一列(不同部分分组），第三列和z坐标  \n",
    "rotor2_count = df_rotor2[0].count()+ 1  #本身原子总数\n",
    "# df_X  和  四个参数\n",
    "sequence_atomic = np.arange(1,rotor2_count)  #本身原子序列\n",
    "rotor2_distance_origin = rotor1_distance_origin + rotor1_length + dz_04  #左端与远点的距离\n",
    "rotor2_sequence = rotor1_sequence + df_rotor1[0].count()   #在结构布局里的原子起始值  等于前面的所有碳纳米管原子总数的和\n",
    "rotor2_first_column = \"rotor2\"   #不同部分的第一列不同的赋予不同的name\n",
    "df_rotor2_ad = adjust_gro_format(df_rotor2,sequence_atomic,rotor2_distance_origin,rotor2_sequence,rotor2_first_column )\n",
    "\n",
    "\n",
    "# 4、rotor3 gro 调整第一列(不同部分分组），第三列和z坐标  \n",
    "rotor3_count = df_rotor3[0].count()+ 1  #本身原子总数\n",
    "# df_X  和  四个参数\n",
    "sequence_atomic = np.arange(1,rotor3_count)  #本身原子序列\n",
    "rotor3_distance_origin = rotor2_distance_origin + rotor2_length + dz_04  #左端与远点的距离\n",
    "rotor3_sequence = rotor2_sequence + df_rotor2[0].count()  #在结构布局里的原子起始值  等于前面的所有碳纳米管原子总数的和\n",
    "rotor3_first_column = \"rotor3\"   #不同部分的第一列不同的赋予不同的name\n",
    "df_rotor3_ad = adjust_gro_format(df_rotor3,sequence_atomic,rotor3_distance_origin,rotor3_sequence,rotor3_first_column )\n",
    "\n",
    "\n",
    "#########     定子     ##########\n",
    "# 1、stator1 gro 调整第一列(不同部分分组），第三列和z坐标  \n",
    "stator1_count = df_stator1[0].count()+ 1  #本身原子总数\n",
    "# df_X  和  四个参数\n",
    "sequence_atomic = np.arange(1,stator1_count)  #本身原子序列\n",
    "stator1_distance_origin =  df_rotor1_ad.iloc[0][5] + dz_04    #左端与远点的距离\n",
    "stator1_sequence = rotor3_sequence + df_rotor3[0].count()  #在结构布局里的原子起始值  等于前面的所有碳纳米管原子总数的和\n",
    "stator1_first_column = \"stator1\"   #不同部分的第一列不同的赋予不同的name\n",
    "df_stator1_ad = adjust_gro_format(df_stator1,sequence_atomic,stator1_distance_origin,stator1_sequence,stator1_first_column )\n",
    "\n",
    "# 2、stator2 gro 调整第一列(不同部分分组），第三列和z坐标  \n",
    "stator2_count = df_stator2[0].count()+ 1  #本身原子总数\n",
    "# df_X  和  四个参数\n",
    "sequence_atomic = np.arange(1,stator2_count)  #本身原子序列\n",
    "stator2_distance_origin = df_rotor1_ad.iloc[-1][5] - stator2_length -  dz_04 #+ dz_01 #左端与远点的距离\n",
    "stator2_sequence = stator1_sequence + df_stator1[0].count()  #在结构布局里的原子起始值  等于前面的所有碳纳米管原子总数的和\n",
    "stator2_first_column = \"stator2\"   #不同部分的第一列不同的赋予不同的name\n",
    "df_stator2_ad = adjust_gro_format(df_stator2,sequence_atomic,stator2_distance_origin,stator2_sequence,stator2_first_column )\n",
    "\n",
    "# 3、stator3 gro 调整第一列(不同部分分组），第三列和z坐标  \n",
    "stator3_count = df_stator3[0].count()+ 1  #本身原子总数\n",
    "# df_X  和  四个参数\n",
    "sequence_atomic = np.arange(1,stator3_count)  #本身原子序列\n",
    "stator3_distance_origin = df_rotor2_ad.iloc[0][5] + dz_02 #- dz_01 # - dz_01#+ 2*dz_04 # - dz_01#左端与远点的距离\n",
    "stator3_sequence = stator2_sequence + df_stator2[0].count()  #在结构布局里的原子起始值  等于前面的所有碳纳米管原子总数的和\n",
    "stator3_first_column = \"stator3\"   #不同部分的第一列不同的赋予不同的name\n",
    "df_stator3_ad = adjust_gro_format(df_stator3,sequence_atomic,stator3_distance_origin,stator3_sequence,stator3_first_column )\n",
    "\n",
    "\n",
    "# 4、stator4 gro 调整第一列(不同部分分组），第三列和z坐标  \n",
    "stator4_count = df_stator4[0].count()+ 1  #本身原子总数 \n",
    "# df_X  和  四个参数\n",
    "sequence_atomic = np.arange(1,stator4_count)  #本身原子序列\n",
    "stator4_distance_origin = df_rotor2_ad.iloc[-1][5] - stator4_length - dz_04 #+ dz_01 #- 2*dz_04 #+ dz_01#左端与远点的距离\n",
    "stator4_sequence = stator3_sequence + df_stator3[0].count()  #在结构布局里的原子起始值  等于前面的所有碳纳米管原子总数的和\n",
    "stator4_first_column = \"stator4\"   #不同部分的第一列不同的赋予不同的name\n",
    "df_stator4_ad = adjust_gro_format(df_stator4,sequence_atomic,stator4_distance_origin,stator4_sequence,stator4_first_column )\n",
    "\n",
    "\n",
    "########################   电机右边定子     ########################\n",
    "# 5、stator5 gro 调整第一列(不同部分分组），第三列和z坐标  \n",
    "stator5_count = df_stator5[0].count()+ 1  #本身原子总数\n",
    "# df_X  和  四个参数\n",
    "sequence_atomic = np.arange(1,stator5_count)  #本身原子序列\n",
    "stator5_distance_origin = df_rotor3_ad.iloc[0][5] + dz_02 #- dz_01  #左端与远点的距离\n",
    "stator5_sequence = stator4_sequence + df_stator4[0].count()  #在结构布局里的原子起始值  等于前面的所有碳纳米管原子总数的和\n",
    "stator5_first_column = \"stator5\"   #不同部分的第一列不同的赋予不同的name\n",
    "df_stator5_ad = adjust_gro_format(df_stator5,sequence_atomic,stator5_distance_origin,stator5_sequence,stator5_first_column )\n",
    "\n",
    "# 6、stator6 gro 调整第一列(不同部分分组），第三列和z坐标  \n",
    "stator6_count = df_stator6[0].count()+ 1  #本身原子总数\n",
    "# df_X  和  四个参数\n",
    "sequence_atomic = np.arange(1,stator6_count)  #本身原子序列\n",
    "stator6_distance_origin = df_stator4_ad.iloc[-1][5]  + 1 + L2  - stator6_length #+ dz_04  #左端与远点的距离\n",
    "\n",
    "\n",
    "\n",
    "stator6_distance = df_stator4_ad.iloc[-1][5]  + 1 + L2  - stator6_length #+ dz_04  #左端与远点的距离\n",
    "# stator6_distance_origin = df_stator4_ad.iloc[-1][5]  + 1 + L2  - stator6_length + dz_04  #左端与远点的距离\n",
    "# stator6_distance_origin = df_rotor3_ad.iloc[-1][5]  - stator6_length - dz_04\n",
    "stator6_sequence = stator5_sequence + df_stator5[0].count()  #在结构布局里的原子起始值  等于前面的所有碳纳米管原子总数的和\n",
    "stator6_first_column = \"stator6\"   #不同部分的第一列不同的赋予不同的name\n",
    "df_stator6_ad = adjust_gro_format(df_stator6,sequence_atomic,stator6_distance_origin,stator6_sequence,stator6_first_column )"
   ]
  },
  {
   "cell_type": "markdown",
   "metadata": {},
   "source": [
    "## 合并后的碳纳米管模型"
   ]
  },
  {
   "cell_type": "code",
   "execution_count": 127,
   "metadata": {
    "ExecuteTime": {
     "end_time": "2019-07-05T01:28:00.705464Z",
     "start_time": "2019-07-05T01:28:00.695464Z"
    }
   },
   "outputs": [],
   "source": [
    "#合并后的碳纳米管模型\n",
    "models_ad = [df_motor_ad,df_rotor1_ad,df_rotor2_ad,df_rotor3_ad,\n",
    "          df_stator1_ad,df_stator2_ad,df_stator3_ad,df_stator4_ad,df_stator5_ad,df_stator6_ad\n",
    "          ]"
   ]
  },
  {
   "cell_type": "markdown",
   "metadata": {},
   "source": [
    "## 根据需要氢化每个模型的末端 ---for循环--调用函数find_z_add_hdz"
   ]
  },
  {
   "cell_type": "code",
   "execution_count": 128,
   "metadata": {
    "ExecuteTime": {
     "end_time": "2019-07-05T01:28:02.061999Z",
     "start_time": "2019-07-05T01:28:00.721463Z"
    },
    "scrolled": true
   },
   "outputs": [
    {
     "name": "stderr",
     "output_type": "stream",
     "text": [
      "C:\\ProgramData\\Anaconda3\\lib\\site-packages\\ipykernel_launcher.py:22: SettingWithCopyWarning: \n",
      "A value is trying to be set on a copy of a slice from a DataFrame.\n",
      "Try using .loc[row_indexer,col_indexer] = value instead\n",
      "\n",
      "See the caveats in the documentation: http://pandas.pydata.org/pandas-docs/stable/indexing.html#indexing-view-versus-copy\n",
      "C:\\ProgramData\\Anaconda3\\lib\\site-packages\\ipykernel_launcher.py:26: SettingWithCopyWarning: \n",
      "A value is trying to be set on a copy of a slice from a DataFrame.\n",
      "Try using .loc[row_indexer,col_indexer] = value instead\n",
      "\n",
      "See the caveats in the documentation: http://pandas.pydata.org/pandas-docs/stable/indexing.html#indexing-view-versus-copy\n",
      "C:\\ProgramData\\Anaconda3\\lib\\site-packages\\ipykernel_launcher.py:30: SettingWithCopyWarning: \n",
      "A value is trying to be set on a copy of a slice from a DataFrame.\n",
      "Try using .loc[row_indexer,col_indexer] = value instead\n",
      "\n",
      "See the caveats in the documentation: http://pandas.pydata.org/pandas-docs/stable/indexing.html#indexing-view-versus-copy\n",
      "C:\\ProgramData\\Anaconda3\\lib\\site-packages\\ipykernel_launcher.py:18: SettingWithCopyWarning: \n",
      "A value is trying to be set on a copy of a slice from a DataFrame.\n",
      "Try using .loc[row_indexer,col_indexer] = value instead\n",
      "\n",
      "See the caveats in the documentation: http://pandas.pydata.org/pandas-docs/stable/indexing.html#indexing-view-versus-copy\n"
     ]
    }
   ],
   "source": [
    "#根据需要氢化每个模型的末端\n",
    "for i,e in enumerate(models_ad):\n",
    "    if i == 0:\n",
    "        direction = \"R\"\n",
    "        df_motor_H = find_z_add_hdz(models_ad[i],direction,hdz)\n",
    "#         df_motor_H \n",
    "    elif i == 1 :\n",
    "        direction = \"LR\"\n",
    "        df_rotor1_H = find_z_add_hdz(models_ad[i],direction,hdz)\n",
    "    elif i == 2:\n",
    "        direction = \"LR\"\n",
    "        df_rotor2_H = find_z_add_hdz(models_ad[i],direction,hdz)\n",
    "    elif i == 3:\n",
    "        direction = \"LR\"\n",
    "        df_rotor3_H = find_z_add_hdz(models_ad[i],direction,hdz)\n",
    "    elif i == 4:\n",
    "        direction = \"L\"\n",
    "        df_stator1_H = find_z_add_hdz(models_ad[i],direction,hdz)\n",
    "    elif i == 5:\n",
    "        direction = \"R\"\n",
    "        df_stator2_H = find_z_add_hdz(models_ad[i],direction,hdz)\n",
    "    elif i == 6:\n",
    "        direction = \"L\"\n",
    "        df_stator3_H = find_z_add_hdz(models_ad[i],direction,hdz)\n",
    "    elif i == 7:\n",
    "        direction = \"R\"\n",
    "        df_stator4_H = find_z_add_hdz(models_ad[i],direction,hdz)\n",
    "    elif i == 8:\n",
    "        direction = \"L\"\n",
    "        df_stator5_H = find_z_add_hdz(models_ad[i],direction,hdz)\n",
    "    elif i == 9:\n",
    "        direction = \"R\"\n",
    "        df_stator6_H = find_z_add_hdz(models_ad[i],direction,hdz)   "
   ]
  },
  {
   "cell_type": "markdown",
   "metadata": {},
   "source": [
    "### 氢化后的模型存储在models_H列表"
   ]
  },
  {
   "cell_type": "code",
   "execution_count": 129,
   "metadata": {
    "ExecuteTime": {
     "end_time": "2019-07-05T01:28:02.164999Z",
     "start_time": "2019-07-05T01:28:02.150996Z"
    }
   },
   "outputs": [],
   "source": [
    "#氢化后的模型存储在models_H列表\n",
    "models_H = [df_motor_H,df_rotor1_H,df_rotor2_H,df_rotor3_H,\n",
    "            df_stator1_H,df_stator2_H,df_stator3_H,df_stator4_H,df_stator5_H,df_stator6_H]"
   ]
  },
  {
   "cell_type": "markdown",
   "metadata": {},
   "source": [
    "# 合并"
   ]
  },
  {
   "cell_type": "markdown",
   "metadata": {},
   "source": [
    "## 合并碳"
   ]
  },
  {
   "cell_type": "code",
   "execution_count": 130,
   "metadata": {
    "ExecuteTime": {
     "end_time": "2019-07-05T01:28:02.240998Z",
     "start_time": "2019-07-05T01:28:02.187000Z"
    }
   },
   "outputs": [],
   "source": [
    "#合并\n",
    "# 合并碳\n",
    "df_ad = df_motor_ad.append(df_rotor1_ad).append(df_rotor2_ad).append(df_rotor3_ad).\\\n",
    "        append(df_stator1_ad).append(df_stator2_ad).append(df_stator3_ad).\\\n",
    "        append(df_stator4_ad).append(df_stator5_ad).append(df_stator6_ad)\n",
    "df_ad = df_ad.reset_index(drop=True)\n"
   ]
  },
  {
   "cell_type": "markdown",
   "metadata": {},
   "source": [
    "## 合并氢"
   ]
  },
  {
   "cell_type": "code",
   "execution_count": 131,
   "metadata": {
    "ExecuteTime": {
     "end_time": "2019-07-05T01:28:02.277993Z",
     "start_time": "2019-07-05T01:28:02.249996Z"
    }
   },
   "outputs": [],
   "source": [
    "#合并氢\n",
    "df_ad_H = df_motor_H.append(df_rotor1_H).append(df_rotor2_H).append(df_rotor3_H).\\\n",
    "          append(df_stator1_H).append(df_stator2_H).append(df_stator3_H).\\\n",
    "          append(df_stator4_H).append(df_stator5_H).append(df_stator6_H)\n",
    "df_ad_H = df_ad_H.reset_index(drop = True)"
   ]
  },
  {
   "cell_type": "markdown",
   "metadata": {},
   "source": [
    "## 调整氢的结构"
   ]
  },
  {
   "cell_type": "code",
   "execution_count": 132,
   "metadata": {
    "ExecuteTime": {
     "end_time": "2019-07-05T01:28:41.890162Z",
     "start_time": "2019-07-05T01:28:02.288996Z"
    }
   },
   "outputs": [
    {
     "name": "stderr",
     "output_type": "stream",
     "text": [
      "C:\\ProgramData\\Anaconda3\\lib\\site-packages\\ipykernel_launcher.py:5: SettingWithCopyWarning: \n",
      "A value is trying to be set on a copy of a slice from a DataFrame\n",
      "\n",
      "See the caveats in the documentation: http://pandas.pydata.org/pandas-docs/stable/indexing.html#indexing-view-versus-copy\n",
      "  \"\"\"\n"
     ]
    }
   ],
   "source": [
    "#调整氢的gro格式\n",
    "# 调整氢的第一列和第三列\n",
    "for i in range(0,df_ad_H.shape[0]):\n",
    "#     df_ad_H[0][i] = str(df_ad.shape[0] + i + 1) + \"H\" + df_ad[0][i][-2:]  # HC 第一列同名不同序列号\n",
    "    df_ad_H[2][i] = str(df_ad.shape[0] + i + 1) \n",
    "# 修改第二列df_ad_h[1]\n",
    "df_ad_H[1] = df_ad_H[1].replace(to_replace=r'C', value='H', regex=True)"
   ]
  },
  {
   "cell_type": "markdown",
   "metadata": {},
   "source": [
    "## 结构布局调整完成后合并碳和氢"
   ]
  },
  {
   "cell_type": "code",
   "execution_count": 133,
   "metadata": {
    "ExecuteTime": {
     "end_time": "2019-07-05T01:28:41.914154Z",
     "start_time": "2019-07-05T01:28:41.895151Z"
    },
    "scrolled": true
   },
   "outputs": [],
   "source": [
    "#结构布局调整完成后合并碳和氢\n",
    "df_M = df_ad.append(df_ad_H)\n",
    "df_M = df_M.reset_index(drop = True)"
   ]
  },
  {
   "cell_type": "markdown",
   "metadata": {},
   "source": [
    "## 输出完整M文件gro"
   ]
  },
  {
   "cell_type": "code",
   "execution_count": 134,
   "metadata": {
    "ExecuteTime": {
     "end_time": "2019-07-05T01:28:41.959154Z",
     "start_time": "2019-07-05T01:28:41.940152Z"
    }
   },
   "outputs": [],
   "source": [
    "#输出完整M文件gro\n",
    "os.chdir(path)\n",
    "# filename_body =  infile_motor.split(\"_\")[-5].split(\"/\")[-1]+infile_motor.split(\"_\")[-3] + \"_\" + \\\n",
    "# infile_rotor1.split(\"_\")[-5].split(\"/\")[-1]+infile_rotor1.split(\"_\")[-3] + \"_\" + \\\n",
    "# infile_rotor2.split(\"_\")[-5].split(\"/\")[-1]+infile_rotor2.split(\"_\")[-3]\n",
    "# #输出的文件名\n",
    "outfile_gro = filename_head  + filename_tail\n",
    "if os.path.exists(filename_head):\n",
    "# #     os.removedirs(path)\n",
    "#     os.remove(path)   #删除文件\n",
    "# #     os.removedirs(path)   #删除空文件夹\n",
    "#     shutil.rmtree(path)    #递归删除文件夹\n",
    "#     os.chdir(path)\n",
    "#     os.mkdir(filename_head)\n",
    "    pass\n",
    "else:\n",
    "    os.mkdir(filename_head)"
   ]
  },
  {
   "cell_type": "markdown",
   "metadata": {},
   "source": [
    "# [文件目录]  (catalog_2)"
   ]
  },
  {
   "cell_type": "code",
   "execution_count": 135,
   "metadata": {
    "ExecuteTime": {
     "end_time": "2019-07-05T01:28:55.113211Z",
     "start_time": "2019-07-05T01:28:41.968153Z"
    }
   },
   "outputs": [],
   "source": [
    "os.chdir(path + \"\\\\\"+filename_head)\n",
    "catalog_2 = os.getcwd() \n",
    "\n",
    "# C、格式化为VMD格式函数\n",
    "dataframe_output_gro(df_M,outfile_gro)"
   ]
  },
  {
   "cell_type": "code",
   "execution_count": null,
   "metadata": {},
   "outputs": [],
   "source": []
  },
  {
   "cell_type": "code",
   "execution_count": null,
   "metadata": {
    "scrolled": true
   },
   "outputs": [],
   "source": []
  },
  {
   "cell_type": "markdown",
   "metadata": {},
   "source": [
    "# RS_VDW"
   ]
  },
  {
   "cell_type": "code",
   "execution_count": 136,
   "metadata": {
    "ExecuteTime": {
     "end_time": "2019-07-05T01:28:55.130162Z",
     "start_time": "2019-07-05T01:28:55.118156Z"
    }
   },
   "outputs": [],
   "source": [
    "models_shape = [len(models_ad[i]) for i in range(len(models_ad))]"
   ]
  },
  {
   "cell_type": "code",
   "execution_count": 137,
   "metadata": {
    "ExecuteTime": {
     "end_time": "2019-07-05T01:28:55.165159Z",
     "start_time": "2019-07-05T01:28:55.144154Z"
    }
   },
   "outputs": [
    {
     "data": {
      "text/plain": [
       "[448, 608, 1120, 1120, 136, 136, 184, 184, 184, 184]"
      ]
     },
     "execution_count": 137,
     "metadata": {},
     "output_type": "execute_result"
    }
   ],
   "source": [
    "models_shape"
   ]
  },
  {
   "cell_type": "code",
   "execution_count": 138,
   "metadata": {
    "ExecuteTime": {
     "end_time": "2019-07-05T01:28:55.201154Z",
     "start_time": "2019-07-05T01:28:55.172152Z"
    },
    "code_folding": []
   },
   "outputs": [],
   "source": [
    "start_end = []\n",
    "for i in range(len(models_shape)):\n",
    "    if i is 0:\n",
    "        start_end.append((int(df_M[:1][2]),int(df_M[models_shape[0]-1:models_shape[0]][2])))\n",
    "    else:\n",
    "        start_end.append((start_end[-1][-1]+1,int(df_M[sum(models_shape[:i+1])-1:sum(models_shape[:i+1])][2])))\n",
    "    "
   ]
  },
  {
   "cell_type": "code",
   "execution_count": 139,
   "metadata": {
    "ExecuteTime": {
     "end_time": "2019-07-05T01:28:55.232154Z",
     "start_time": "2019-07-05T01:28:55.209152Z"
    }
   },
   "outputs": [],
   "source": [
    "models_SE = DataFrame(start_end,columns=[\"start\",\"end\"],index=[\"motor\",\"rotor1\",\"rotor2\",\"rotor3\",\n",
    "                                                               \"stator1\",\"stator1\",\"stator2\",\"stator2\",\n",
    "                                                               \"stator3\",\"stator3\"])"
   ]
  },
  {
   "cell_type": "code",
   "execution_count": 140,
   "metadata": {
    "ExecuteTime": {
     "end_time": "2019-07-05T01:28:55.272154Z",
     "start_time": "2019-07-05T01:28:55.249152Z"
    },
    "scrolled": true
   },
   "outputs": [
    {
     "data": {
      "text/html": [
       "<div>\n",
       "<style scoped>\n",
       "    .dataframe tbody tr th:only-of-type {\n",
       "        vertical-align: middle;\n",
       "    }\n",
       "\n",
       "    .dataframe tbody tr th {\n",
       "        vertical-align: top;\n",
       "    }\n",
       "\n",
       "    .dataframe thead th {\n",
       "        text-align: right;\n",
       "    }\n",
       "</style>\n",
       "<table border=\"1\" class=\"dataframe\">\n",
       "  <thead>\n",
       "    <tr style=\"text-align: right;\">\n",
       "      <th></th>\n",
       "      <th>start</th>\n",
       "      <th>end</th>\n",
       "    </tr>\n",
       "  </thead>\n",
       "  <tbody>\n",
       "    <tr>\n",
       "      <th>motor</th>\n",
       "      <td>1</td>\n",
       "      <td>448</td>\n",
       "    </tr>\n",
       "  </tbody>\n",
       "</table>\n",
       "</div>"
      ],
      "text/plain": [
       "       start  end\n",
       "motor      1  448"
      ]
     },
     "execution_count": 140,
     "metadata": {},
     "output_type": "execute_result"
    }
   ],
   "source": [
    "models_SE[models_SE.index == \"motor\"]"
   ]
  },
  {
   "cell_type": "code",
   "execution_count": 141,
   "metadata": {
    "ExecuteTime": {
     "end_time": "2019-07-05T01:28:55.309156Z",
     "start_time": "2019-07-05T01:28:55.282151Z"
    }
   },
   "outputs": [
    {
     "data": {
      "text/html": [
       "<div>\n",
       "<style scoped>\n",
       "    .dataframe tbody tr th:only-of-type {\n",
       "        vertical-align: middle;\n",
       "    }\n",
       "\n",
       "    .dataframe tbody tr th {\n",
       "        vertical-align: top;\n",
       "    }\n",
       "\n",
       "    .dataframe thead th {\n",
       "        text-align: right;\n",
       "    }\n",
       "</style>\n",
       "<table border=\"1\" class=\"dataframe\">\n",
       "  <thead>\n",
       "    <tr style=\"text-align: right;\">\n",
       "      <th></th>\n",
       "      <th>start</th>\n",
       "      <th>end</th>\n",
       "    </tr>\n",
       "  </thead>\n",
       "  <tbody>\n",
       "    <tr>\n",
       "      <th>rotor1</th>\n",
       "      <td>449</td>\n",
       "      <td>1056</td>\n",
       "    </tr>\n",
       "  </tbody>\n",
       "</table>\n",
       "</div>"
      ],
      "text/plain": [
       "        start   end\n",
       "rotor1    449  1056"
      ]
     },
     "execution_count": 141,
     "metadata": {},
     "output_type": "execute_result"
    }
   ],
   "source": [
    "models_SE[models_SE.index == \"rotor1\"]"
   ]
  },
  {
   "cell_type": "code",
   "execution_count": 142,
   "metadata": {
    "ExecuteTime": {
     "end_time": "2019-07-05T01:28:55.328152Z",
     "start_time": "2019-07-05T01:28:55.317151Z"
    }
   },
   "outputs": [],
   "source": [
    "rotor1_start = models_SE[models_SE.index == \"rotor1\"].start[0]\n",
    "rotor1_end = models_SE[models_SE.index == \"rotor1\"].end[0]"
   ]
  },
  {
   "cell_type": "code",
   "execution_count": 143,
   "metadata": {
    "ExecuteTime": {
     "end_time": "2019-07-05T01:28:55.360150Z",
     "start_time": "2019-07-05T01:28:55.344151Z"
    }
   },
   "outputs": [],
   "source": [
    "rotor2_start = models_SE[models_SE.index == \"rotor2\"].start[0]\n",
    "rotor2_end = models_SE[models_SE.index == \"rotor2\"].end[0]"
   ]
  },
  {
   "cell_type": "code",
   "execution_count": 144,
   "metadata": {
    "ExecuteTime": {
     "end_time": "2019-07-05T01:28:55.379153Z",
     "start_time": "2019-07-05T01:28:55.369150Z"
    }
   },
   "outputs": [],
   "source": [
    "rotor3_start = models_SE[models_SE.index == \"rotor3\"].start[0]\n",
    "rotor3_end = models_SE[models_SE.index == \"rotor3\"].end[0]"
   ]
  },
  {
   "cell_type": "code",
   "execution_count": 145,
   "metadata": {
    "ExecuteTime": {
     "end_time": "2019-07-05T01:28:55.401153Z",
     "start_time": "2019-07-05T01:28:55.389153Z"
    }
   },
   "outputs": [
    {
     "data": {
      "text/plain": [
       "(2177, 3296)"
      ]
     },
     "execution_count": 145,
     "metadata": {},
     "output_type": "execute_result"
    }
   ],
   "source": [
    "rotor3_start,rotor3_end "
   ]
  },
  {
   "cell_type": "code",
   "execution_count": 146,
   "metadata": {
    "ExecuteTime": {
     "end_time": "2019-07-05T01:28:55.497154Z",
     "start_time": "2019-07-05T01:28:55.409154Z"
    }
   },
   "outputs": [
    {
     "data": {
      "text/plain": [
       "'xdrfile.h'"
      ]
     },
     "execution_count": 146,
     "metadata": {},
     "output_type": "execute_result"
    }
   ],
   "source": [
    "\n",
    "shutil.copyfile(\"F:/_python/20190517/M4S1414-88-88-88-88/rs_1.c\",\"rs_1.c\")  # oldfile和newfile都只能是文件\n",
    "shutil.copyfile(\"F:/_python/20190517/M4S1414-88-88-88-88/rs_2.c\",\"rs_2.c\")  # oldfile和newfile都只能是文件\n",
    "shutil.copyfile(\"F:/_python/20190517/M4S1414-88-88-88-88/rs_3.c\",\"rs_3.c\")  # oldfile和newfile都只能是文件\n",
    "\n",
    "shutil.copyfile(\"F:/_python/20190517/M4S1414-88-88-88-88/mr1.c\",\"mr1.c\")  # oldfile和newfile都只能是文件\n",
    "shutil.copyfile(\"F:/_python/20190517/M4S1414-88-88-88-88/r1r2.c\",\"r1r2.c\")  # oldfile和newfile都只能是文件\n",
    "shutil.copyfile(\"F:/_python/20190517/M4S1414-88-88-88-88/r2r3.c\",\"r2r3.c\")  # oldfile和newfile都只能是文件\n",
    "\n",
    "shutil.copyfile(\"F:/_python/20190517/M4S1414-88-88-88-88/xdrfile.h\",\"xdrfile.h\")  # oldfile和newfile都只能是文件"
   ]
  },
  {
   "cell_type": "code",
   "execution_count": 147,
   "metadata": {
    "ExecuteTime": {
     "end_time": "2019-07-05T01:28:55.534153Z",
     "start_time": "2019-07-05T01:28:55.505151Z"
    }
   },
   "outputs": [],
   "source": [
    "with open(\"rs_1.c\",\"r+\",encoding = 'gbk') as f:\n",
    "    row_1 = f.readlines()\n",
    "with open(\"rs_2.c\",\"r+\",encoding = 'gbk') as f:\n",
    "    row_2 = f.readlines()\n",
    "with open(\"rs_3.c\",\"r+\",encoding = 'gbk') as f:\n",
    "    row_3 = f.readlines()\n",
    "\n",
    "    \n",
    "with open(\"mr1.c\",\"r+\",encoding = 'gbk') as f:\n",
    "    row_4 = f.readlines()\n",
    "with open(\"r1r2.c\",\"r+\",encoding = 'gbk') as f:\n",
    "    row_5 = f.readlines()\n",
    "with open(\"r2r3.c\",\"r+\",encoding = 'gbk') as f:\n",
    "    row_6 = f.readlines()"
   ]
  },
  {
   "cell_type": "markdown",
   "metadata": {},
   "source": [
    "## rotor1 and stator1"
   ]
  },
  {
   "cell_type": "code",
   "execution_count": 148,
   "metadata": {
    "ExecuteTime": {
     "end_time": "2019-07-05T01:28:55.562151Z",
     "start_time": "2019-07-05T01:28:55.542150Z"
    }
   },
   "outputs": [
    {
     "data": {
      "text/plain": [
       "('  for (natom=449;natom<=1056;natom++)      //转子原子ID \\n',\n",
       " '\\t  for (natom_1=3297;natom_1<=3568;natom_1++)     //定子原子ID \\n')"
      ]
     },
     "execution_count": 148,
     "metadata": {},
     "output_type": "execute_result"
    }
   ],
   "source": [
    "row_1.pop(28)\n",
    "row_1.insert(28,\"  for (natom=%s;natom<=%s;natom++)      //转子原子ID \\n\"%(start_end[1][0],start_end[1][1]))\n",
    "row_1.pop(32)\n",
    "row_1.insert(32,\"\\t  for (natom_1=%s;natom_1<=%s;natom_1++)     //定子原子ID \\n\"%(start_end[4][0],start_end[5][1]))\n",
    "row_1[28],row_1[32]"
   ]
  },
  {
   "cell_type": "markdown",
   "metadata": {},
   "source": [
    "## rotor2 and stator2"
   ]
  },
  {
   "cell_type": "code",
   "execution_count": 149,
   "metadata": {
    "ExecuteTime": {
     "end_time": "2019-07-05T01:28:55.597156Z",
     "start_time": "2019-07-05T01:28:55.574150Z"
    }
   },
   "outputs": [
    {
     "data": {
      "text/plain": [
       "('  for (natom=1057;natom<=2176;natom++)      //转子原子ID \\n',\n",
       " '\\t  for (natom_1=3569;natom_1<=3936;natom_1++)     //定子原子ID \\n')"
      ]
     },
     "execution_count": 149,
     "metadata": {},
     "output_type": "execute_result"
    }
   ],
   "source": [
    "row_2.pop(28)\n",
    "row_2.insert(28,\"  for (natom=%s;natom<=%s;natom++)      //转子原子ID \\n\"%(start_end[2][0],start_end[2][1]))\n",
    "row_2.pop(32)\n",
    "row_2.insert(32,\"\\t  for (natom_1=%s;natom_1<=%s;natom_1++)     //定子原子ID \\n\"%(start_end[6][0],start_end[7][1]))\n",
    "row_2[28],row_2[32]"
   ]
  },
  {
   "cell_type": "markdown",
   "metadata": {},
   "source": [
    "## rotor3 and stator3"
   ]
  },
  {
   "cell_type": "code",
   "execution_count": 150,
   "metadata": {
    "ExecuteTime": {
     "end_time": "2019-07-05T01:28:55.627152Z",
     "start_time": "2019-07-05T01:28:55.605155Z"
    }
   },
   "outputs": [
    {
     "data": {
      "text/plain": [
       "('  for (natom=2177;natom<=3296;natom++)      //转子原子ID \\n',\n",
       " '\\t  for (natom_1=3937;natom_1<=4304;natom_1++)     //定子原子ID \\n')"
      ]
     },
     "execution_count": 150,
     "metadata": {},
     "output_type": "execute_result"
    }
   ],
   "source": [
    "row_3.pop(28)\n",
    "row_3.insert(28,\"  for (natom=%s;natom<=%s;natom++)      //转子原子ID \\n\"%(start_end[3][0],start_end[3][1]))\n",
    "row_3.pop(32)\n",
    "row_3.insert(32,\"\\t  for (natom_1=%s;natom_1<=%s;natom_1++)     //定子原子ID \\n\"%(start_end[8][0],start_end[9][1]))\n",
    "row_3[28],row_3[32]"
   ]
  },
  {
   "cell_type": "markdown",
   "metadata": {},
   "source": [
    "## motor and rotor1"
   ]
  },
  {
   "cell_type": "code",
   "execution_count": 151,
   "metadata": {
    "ExecuteTime": {
     "end_time": "2019-07-05T01:28:55.649151Z",
     "start_time": "2019-07-05T01:28:55.636151Z"
    },
    "scrolled": true
   },
   "outputs": [
    {
     "data": {
      "text/plain": [
       "[(1, 448),\n",
       " (449, 1056),\n",
       " (1057, 2176),\n",
       " (2177, 3296),\n",
       " (3297, 3432),\n",
       " (3433, 3568),\n",
       " (3569, 3752),\n",
       " (3753, 3936),\n",
       " (3937, 4120),\n",
       " (4121, 4304)]"
      ]
     },
     "execution_count": 151,
     "metadata": {},
     "output_type": "execute_result"
    }
   ],
   "source": [
    "start_end"
   ]
  },
  {
   "cell_type": "code",
   "execution_count": 152,
   "metadata": {
    "ExecuteTime": {
     "end_time": "2019-07-05T01:28:55.688153Z",
     "start_time": "2019-07-05T01:28:55.660151Z"
    }
   },
   "outputs": [
    {
     "data": {
      "text/plain": [
       "('  for (natom=1;natom<=448;natom++)      //电机ID \\n',\n",
       " '\\t  for (natom_1=449;natom_1<=1056;natom_1++)     //转子1原子ID \\n')"
      ]
     },
     "execution_count": 152,
     "metadata": {},
     "output_type": "execute_result"
    }
   ],
   "source": [
    "row_4.pop(28)\n",
    "row_4.insert(28,\"  for (natom=%s;natom<=%s;natom++)      //电机ID \\n\"%(start_end[0][0],start_end[0][1]))\n",
    "row_4.pop(32)\n",
    "row_4.insert(32,\"\\t  for (natom_1=%s;natom_1<=%s;natom_1++)     //转子1原子ID \\n\"%(start_end[1][0],start_end[1][1]))\n",
    "row_4[28],row_4[32]"
   ]
  },
  {
   "cell_type": "markdown",
   "metadata": {},
   "source": [
    "## rotor1 and rotor2"
   ]
  },
  {
   "cell_type": "code",
   "execution_count": 153,
   "metadata": {
    "ExecuteTime": {
     "end_time": "2019-07-05T01:28:55.719153Z",
     "start_time": "2019-07-05T01:28:55.696152Z"
    }
   },
   "outputs": [
    {
     "data": {
      "text/plain": [
       "('  for (natom=449;natom<=1056;natom++)      //转子1原子ID \\n',\n",
       " '\\t  for (natom_1=1057;natom_1<=2176;natom_1++)     //转子2原子ID \\n')"
      ]
     },
     "execution_count": 153,
     "metadata": {},
     "output_type": "execute_result"
    }
   ],
   "source": [
    "row_5.pop(28)\n",
    "row_5.insert(28,\"  for (natom=%s;natom<=%s;natom++)      //转子1原子ID \\n\"%(start_end[1][0],start_end[1][1]))\n",
    "row_5.pop(32)\n",
    "row_5.insert(32,\"\\t  for (natom_1=%s;natom_1<=%s;natom_1++)     //转子2原子ID \\n\"%(start_end[2][0],start_end[2][1]))\n",
    "row_5[28],row_5[32]"
   ]
  },
  {
   "cell_type": "markdown",
   "metadata": {},
   "source": [
    "## rotor2 and rotor3"
   ]
  },
  {
   "cell_type": "code",
   "execution_count": 154,
   "metadata": {
    "ExecuteTime": {
     "end_time": "2019-07-05T01:28:55.757155Z",
     "start_time": "2019-07-05T01:28:55.727153Z"
    }
   },
   "outputs": [
    {
     "data": {
      "text/plain": [
       "('  for (natom=1057;natom<=2176;natom++)      //转子2原子ID \\n',\n",
       " '\\t  for (natom_1=2177;natom_1<=3296;natom_1++)     //转子3原子ID \\n')"
      ]
     },
     "execution_count": 154,
     "metadata": {},
     "output_type": "execute_result"
    }
   ],
   "source": [
    "row_6.pop(28)\n",
    "row_6.insert(28,\"  for (natom=%s;natom<=%s;natom++)      //转子2原子ID \\n\"%(start_end[2][0],start_end[2][1]))\n",
    "row_6.pop(32)\n",
    "row_6.insert(32,\"\\t  for (natom_1=%s;natom_1<=%s;natom_1++)     //转子3原子ID \\n\"%(start_end[3][0],start_end[3][1]))\n",
    "row_6[28],row_6[32]"
   ]
  },
  {
   "cell_type": "code",
   "execution_count": null,
   "metadata": {},
   "outputs": [],
   "source": []
  },
  {
   "cell_type": "code",
   "execution_count": 155,
   "metadata": {
    "ExecuteTime": {
     "end_time": "2019-07-05T01:28:55.818150Z",
     "start_time": "2019-07-05T01:28:55.766151Z"
    }
   },
   "outputs": [],
   "source": [
    "with open(\"rs_1.c\",\"w\") as wf:\n",
    "    for e in row_1:\n",
    "        wf.write(e)\n",
    "        \n",
    "with open(\"rs_2.c\",\"w\") as wf:\n",
    "    for e in row_2:\n",
    "        wf.write(e)\n",
    "        \n",
    "with open(\"rs_3.c\",\"w\") as wf:\n",
    "    for e in row_3:\n",
    "        wf.write(e)\n",
    "        \n",
    "        \n",
    "with open(\"mr1.c\",\"w\") as wf:\n",
    "    for e in row_4:\n",
    "        wf.write(e)\n",
    "        \n",
    "with open(\"r1r2.c\",\"w\") as wf:\n",
    "    for e in row_5:\n",
    "        wf.write(e)\n",
    "        \n",
    "with open(\"r2r3.c\",\"w\") as wf:\n",
    "    for e in row_6:\n",
    "        wf.write(e)"
   ]
  },
  {
   "cell_type": "code",
   "execution_count": 156,
   "metadata": {
    "ExecuteTime": {
     "end_time": "2019-07-05T01:28:55.839151Z",
     "start_time": "2019-07-05T01:28:55.826153Z"
    }
   },
   "outputs": [
    {
     "data": {
      "text/plain": [
       "['  for (natom=449;natom<=1056;natom++)      //转子原子ID \\n',\n",
       " '    {\\n',\n",
       " '\\t  ax = x[natom-1][0], ay = x[natom-1][1], az = x[natom-1][2];\\n',\n",
       " '\\n',\n",
       " '\\t  for (natom_1=3297;natom_1<=3568;natom_1++)     //定子原子ID \\n']"
      ]
     },
     "execution_count": 156,
     "metadata": {},
     "output_type": "execute_result"
    }
   ],
   "source": [
    "row_1[28:33]"
   ]
  },
  {
   "cell_type": "code",
   "execution_count": 157,
   "metadata": {
    "ExecuteTime": {
     "end_time": "2019-07-05T01:28:55.862149Z",
     "start_time": "2019-07-05T01:28:55.847154Z"
    },
    "scrolled": true
   },
   "outputs": [
    {
     "data": {
      "text/plain": [
       "['  for (natom=1;natom<=448;natom++)      //电机ID \\n',\n",
       " '    {\\n',\n",
       " '\\t  ax = x[natom-1][0], ay = x[natom-1][1], az = x[natom-1][2];\\n',\n",
       " '\\n',\n",
       " '\\t  for (natom_1=449;natom_1<=1056;natom_1++)     //转子1原子ID \\n']"
      ]
     },
     "execution_count": 157,
     "metadata": {},
     "output_type": "execute_result"
    }
   ],
   "source": [
    "row_4[28:33]"
   ]
  },
  {
   "cell_type": "code",
   "execution_count": 158,
   "metadata": {
    "ExecuteTime": {
     "end_time": "2019-07-05T01:28:55.885154Z",
     "start_time": "2019-07-05T01:28:55.871151Z"
    }
   },
   "outputs": [
    {
     "data": {
      "text/plain": [
       "['  for (natom=449;natom<=1056;natom++)      //转子1原子ID \\n',\n",
       " '    {\\n',\n",
       " '\\t  ax = x[natom-1][0], ay = x[natom-1][1], az = x[natom-1][2];\\n',\n",
       " '\\n',\n",
       " '\\t  for (natom_1=1057;natom_1<=2176;natom_1++)     //转子2原子ID \\n']"
      ]
     },
     "execution_count": 158,
     "metadata": {},
     "output_type": "execute_result"
    }
   ],
   "source": [
    "row_5[28:33]"
   ]
  },
  {
   "cell_type": "code",
   "execution_count": 159,
   "metadata": {
    "ExecuteTime": {
     "end_time": "2019-07-05T01:28:55.906152Z",
     "start_time": "2019-07-05T01:28:55.893152Z"
    },
    "scrolled": false
   },
   "outputs": [
    {
     "data": {
      "text/plain": [
       "['  for (natom=2177;natom<=3296;natom++)      //转子原子ID \\n',\n",
       " '    {\\n',\n",
       " '\\t  ax = x[natom-1][0], ay = x[natom-1][1], az = x[natom-1][2];\\n',\n",
       " '\\n',\n",
       " '\\t  for (natom_1=3937;natom_1<=4304;natom_1++)     //定子原子ID \\n']"
      ]
     },
     "execution_count": 159,
     "metadata": {},
     "output_type": "execute_result"
    }
   ],
   "source": [
    "row_3[28:33]"
   ]
  },
  {
   "cell_type": "code",
   "execution_count": null,
   "metadata": {},
   "outputs": [],
   "source": []
  },
  {
   "cell_type": "markdown",
   "metadata": {},
   "source": [
    "# 四、data文件"
   ]
  },
  {
   "cell_type": "code",
   "execution_count": 160,
   "metadata": {
    "ExecuteTime": {
     "end_time": "2019-07-05T01:28:56.196158Z",
     "start_time": "2019-07-05T01:28:55.914150Z"
    }
   },
   "outputs": [],
   "source": [
    "models = [df_motor_ad,df_rotor1_ad,df_rotor2_ad,df_rotor3_ad,\n",
    "          df_stator1_ad,df_stator2_ad,df_stator3_ad,df_stator4_ad,df_stator5_ad,df_stator6_ad,\n",
    "          df_motor_H,df_rotor1_H,df_rotor2_H,df_rotor3_H,\n",
    "          df_stator1_H,df_stator2_H,df_stator3_H,df_stator4_H,df_stator5_H,df_stator6_H]\n",
    "\n",
    "data_models = pd.DataFrame(columns = [0,1,2,3,4])\n",
    "for i,e in enumerate(models):\n",
    "    e = e.drop(columns = [0])   #删除第一列   #保留第二 ，三，xyz列\n",
    "    e[2] = i+1\n",
    "    e.columns = [0,1,2,3,4]  \n",
    "    data_models = data_models.append(e)\n",
    "#     if i == 19: \n",
    "#         print(e)\n",
    "#         break\n",
    "\n",
    "data_models[0] = np.arange(1,data_models.shape[0]+1)"
   ]
  },
  {
   "cell_type": "code",
   "execution_count": 161,
   "metadata": {
    "ExecuteTime": {
     "end_time": "2019-07-05T01:28:56.232150Z",
     "start_time": "2019-07-05T01:28:56.207154Z"
    },
    "scrolled": true
   },
   "outputs": [],
   "source": [
    "data_models[0] = data_models[0].map(lambda x: \"%8d\" % x)"
   ]
  },
  {
   "cell_type": "code",
   "execution_count": 162,
   "metadata": {
    "ExecuteTime": {
     "end_time": "2019-07-05T01:28:56.264150Z",
     "start_time": "2019-07-05T01:28:56.241150Z"
    },
    "scrolled": true
   },
   "outputs": [],
   "source": [
    "data_models[1] = data_models[1].map(lambda x: \"%6s\" % x)"
   ]
  },
  {
   "cell_type": "code",
   "execution_count": 163,
   "metadata": {
    "ExecuteTime": {
     "end_time": "2019-07-05T01:28:56.340148Z",
     "start_time": "2019-07-05T01:28:56.272152Z"
    },
    "scrolled": true
   },
   "outputs": [],
   "source": [
    "data_models[2] = data_models[2].map(lambda x: \"%9.3f\" % float(x))\n",
    "data_models[3] = data_models[3].map(lambda x: \"%9.3f\" % float(x))\n",
    "data_models[4] = data_models[4].map(lambda x: \"%9.3f\" % float(x))\n",
    "data_models.columns = [\"sequence\",\"type\",\"x\",\"y\",\"z\"]"
   ]
  },
  {
   "cell_type": "code",
   "execution_count": 164,
   "metadata": {
    "ExecuteTime": {
     "end_time": "2019-07-05T01:28:56.384178Z",
     "start_time": "2019-07-05T01:28:56.347154Z"
    }
   },
   "outputs": [],
   "source": [
    "data_models.x = data_models.x.astype(float)\n",
    "# data_models[3] = data_models[3].astype(float)\n",
    "data_models.y = data_models.y.astype(float)\n",
    "data_models.z = data_models.z.astype(float)"
   ]
  },
  {
   "cell_type": "code",
   "execution_count": 165,
   "metadata": {
    "ExecuteTime": {
     "end_time": "2019-07-05T01:28:56.422152Z",
     "start_time": "2019-07-05T01:28:56.392150Z"
    }
   },
   "outputs": [],
   "source": [
    "data_models = data_models.eval(\"\"\"\n",
    "                               x =  x * 10\n",
    "                               y =  y * 10\n",
    "                               z =  z * 10\n",
    "                                \"\"\")\n",
    "data_models.columns = [0,1,2,3,4]"
   ]
  },
  {
   "cell_type": "code",
   "execution_count": 166,
   "metadata": {
    "ExecuteTime": {
     "end_time": "2019-07-05T01:28:56.499163Z",
     "start_time": "2019-07-05T01:28:56.438202Z"
    }
   },
   "outputs": [],
   "source": [
    "data_models[2] = data_models[2].map(lambda x: \"%9.3f\" % float(x))\n",
    "data_models[3] = data_models[3].map(lambda x: \"%9.3f\" % float(x))\n",
    "data_models[4] = data_models[4].map(lambda x: \"%9.3f\" % float(x))"
   ]
  },
  {
   "cell_type": "code",
   "execution_count": 167,
   "metadata": {
    "ExecuteTime": {
     "end_time": "2019-07-05T01:29:07.947149Z",
     "start_time": "2019-07-05T01:28:56.505153Z"
    }
   },
   "outputs": [],
   "source": [
    "atoms = [ data_models.iloc[i][0] + data_models.iloc[i][1] + \\\n",
    "         data_models.iloc[i][2] + data_models.iloc[i][3] + \\\n",
    "         data_models.iloc[i][4] +\"\\n\"\n",
    "         for i in np.arange(0,data_models.shape[0])]"
   ]
  },
  {
   "cell_type": "code",
   "execution_count": 168,
   "metadata": {
    "ExecuteTime": {
     "end_time": "2019-07-05T01:29:08.019153Z",
     "start_time": "2019-07-05T01:29:07.954151Z"
    }
   },
   "outputs": [],
   "source": [
    "#####################################################  data文件   #################################################################\n",
    "\n",
    "####  mass   ###########\n",
    "box_space = 50\n",
    "relative_mass = \"\"\n",
    "C_mass = \"12.01070\"\n",
    "H_mass = \"1.00794\"\n",
    "for i in range(0,total_type):\n",
    "    if i < int(total_type/2):\n",
    "        temp = \"%3s%9s\\n_\"%(i+1,C_mass)\n",
    "    elif i >=  int(total_type/2):\n",
    "        temp = \"%3s%9s\\n_\"%(i+1,H_mass)\n",
    "    relative_mass= relative_mass + temp\n",
    "outfile_data = \"data.\" + filename_head\n",
    "#定义盒子大小\n",
    "raw_xyz_range = [[-box_space,box_space ],[-box_space,box_space],\n",
    "                 [df_motor_ad.iloc[0][5]*10 - box_space,df_rotor3_ad.iloc[-1][5]*10 + box_space]]    #  unit:  埃（0.1纳米）\n",
    "\n",
    "# 输出：写入到输出文件（outfile）\n",
    "#  E、 data文件的  head    格式函数  \n",
    "with open(outfile_data, 'w') as wf:\n",
    "    data = label(raw_xyz_range,df_M.shape[0],relative_mass) + atoms\n",
    "    for row in data:\n",
    "        wf.write(row)"
   ]
  },
  {
   "cell_type": "markdown",
   "metadata": {},
   "source": [
    "# 五、in文件"
   ]
  },
  {
   "cell_type": "code",
   "execution_count": 169,
   "metadata": {
    "ExecuteTime": {
     "end_time": "2019-07-05T01:29:08.104183Z",
     "start_time": "2019-07-05T01:29:08.027152Z"
    }
   },
   "outputs": [],
   "source": [
    "####################################     in文件    ##############################################################################\n",
    "\n",
    "# 从原点开始，转子1--》转子2--》电机--》转子3--》转子4--》定子1--》定子2--》。。。--》定子8\n",
    "# lable_1  in文件的head\n",
    "C_atoms = \" C \"*amount \n",
    "H_atoms = \" H \"*amount \n",
    "lable_1 = [\n",
    "           \"units           metal \\n\",\\\n",
    "           \"dimension       3 \\n\",\\\n",
    "           \"timestep        0.001\\n\",\\\n",
    "           \"atom_style      atomic \\n\",\\\n",
    "           \"boundary        s    s    s \\n\",\\\n",
    "           \"neighbor        2.0    bin \\n\",\\\n",
    "           \"neigh_modify    delay    10 \\n\",\\\n",
    "           \"read_data       \"+ outfile_data +\"\\n\",\\\n",
    "           \"pair_style      hybrid         lj/cut 10.2 airebo 3.0 #10.2\\n\",\\\n",
    "           \"pair_coeff      *    *         airebo CH.airebo \"+ C_atoms + H_atoms + \"\\n\"]\n",
    "\n",
    "########    G、  L-J pair_coeff 格式化   ##########\n",
    "# label_2     L-J pair_coeff\n",
    "# serial_number is start\n",
    "# amount is end\n",
    "def pair_coeff(type_type,serial_number,amount):\n",
    "    temp = []\n",
    "    j = 0\n",
    "####################   C-C    #######\n",
    "    if type_type == \"C-C\":\n",
    "        epslon = 0.002840\n",
    "        sigama = 3.400\n",
    "        if serial_number < amount - 1:\n",
    "            pair_coeff_C = [\"pair_coeff\" + \"%5d\"%(serial_number) + \"%5d*%-5d\"%(serial_number + 1,amount) +  \"%10s\"%(\"lj/cut\") +\\\n",
    "                        \"%10.6f\"%(epslon) +  \"%10.3f\"%(sigama)+\"\\n\"]\n",
    "        else:\n",
    "            pair_coeff_C = [\"pair_coeff\" + \"%5d\"%(serial_number) + \"%8d\"%(amount) +  \"%13s\"%(\"lj/cut\") +\\\n",
    "                        \"%10.6f\"%(epslon) +  \"%10.3f\"%(sigama)+\"\\n\"]\n",
    "        temp= temp + pair_coeff_C\n",
    "####################   C-H    #########\n",
    "    elif type_type == \"C-H\" :\n",
    "        epslon = 0.001376\n",
    "        sigama = 3.025\n",
    "        if serial_number == 1:\n",
    "            pair_coeff_C = [\"pair_coeff\" + \"%5d\"%(serial_number) + \"%5d*%-5d\"%(amount + serial_number +1 ,2*amount) +  \"%10s\"%(\"lj/cut\") +\\\n",
    "                    \"%10.6f\"%(epslon) +  \"%10.3f\"%(sigama) + \"\\n\"]\n",
    "        elif serial_number == 2:\n",
    "            pair_coeff_A = [\"pair_coeff\" + \"%5d\"%(serial_number) + \"%8d\"%(amount + serial_number - 1) +  \"%13s\"%(\"lj/cut\") +\\\n",
    "                    \"%10.6f\"%(epslon) +  \"%10.3f\"%(sigama) + \"\\n\"]\n",
    "            pair_coeff_B = [\"pair_coeff\" + \"%5d\"%(serial_number) + \"%5d*%-5d\"%(amount + serial_number + 1,2*amount) +  \"%10s\"%(\"lj/cut\") +\\\n",
    "                    \"%10.6f\"%(epslon) +  \"%10.3f\"%(sigama) + \"\\n\"]\n",
    "            pair_coeff_C = pair_coeff_A + pair_coeff_B\n",
    "        elif serial_number > 2 and serial_number < amount -1 :\n",
    "            pair_coeff_A = [\"pair_coeff\" + \"%5d\"%(serial_number) + \"%5d*%-5d\"%(amount + 1,amount + serial_number -1) +  \"%10s\"%(\"lj/cut\") +\\\n",
    "                    \"%10.6f\"%(epslon) +  \"%10.3f\"%(sigama) + \"\\n\"]\n",
    "            pair_coeff_B = [\"pair_coeff\" + \"%5d\"%(serial_number) + \"%5d*%-5d\"%(amount + serial_number + 1,2*amount) +  \"%10s\"%(\"lj/cut\") +\\\n",
    "                    \"%10.6f\"%(epslon) +  \"%10.3f\"%(sigama) + \"\\n\"]\n",
    "            pair_coeff_C = pair_coeff_A + pair_coeff_B\n",
    "        elif serial_number ==  amount -1:\n",
    "            pair_coeff_A = [\"pair_coeff\" + \"%5d\"%(serial_number) + \"%5d*%-5d\"%(amount  + 1,2*amount-2) +  \"%10s\"%(\"lj/cut\") +\\\n",
    "                    \"%10.6f\"%(epslon) +  \"%10.3f\"%(sigama) + \"\\n\"]\n",
    "            pair_coeff_B = [\"pair_coeff\" + \"%5d\"%(serial_number) + \"%8d\"%(2*amount) +  \"%13s\"%(\"lj/cut\") +\\\n",
    "                    \"%10.6f\"%(epslon) +  \"%10.3f\"%(sigama) + \"\\n\"]\n",
    "            pair_coeff_C = pair_coeff_A + pair_coeff_B\n",
    "        else :\n",
    "            pair_coeff_C = [\"pair_coeff\" + \"%5d\"%(serial_number) + \"%5d*%-5d\"%(amount + 1 ,2*amount-1) +  \"%10s\"%(\"lj/cut\") +\\\n",
    "                    \"%10.6f\"%(epslon) +  \"%10.3f\"%(sigama) + \"\\n\"]\n",
    "        temp= temp + pair_coeff_C\n",
    "####################   H-H    ##########\n",
    "    elif type_type == \"H-H\" :\n",
    "        epslon = 0.001500\n",
    "        sigama = 2.650 \n",
    "        if serial_number < amount - 1:\n",
    "            pair_coeff_C = [\"pair_coeff\" + \"%5d\"%(serial_number+amount) + \"%5d*%-5d\"%(serial_number + 1+ amount, 2*amount) +\\\n",
    "                    \"%10s\"%(\"lj/cut\") + \"%10.6f\"%(epslon) +  \"%10.3f\"%(sigama) + \"\\n\"]\n",
    "        else:\n",
    "            pair_coeff_C = [\"pair_coeff\" + \"%5d\"%(serial_number+amount) + \"%8d\"%(2*amount) +\\\n",
    "                    \"%13s\"%(\"lj/cut\") + \"%10.6f\"%(epslon) +  \"%10.3f\"%(sigama) + \"\\n\"]\n",
    "        temp= temp + pair_coeff_C\n",
    "    return temp\n",
    "\n",
    "# G、  L-J pair_coeff 格式化 \n",
    "############################\n",
    "\n",
    "# C-C\n",
    "C_C = []\n",
    "for i in range(1,amount):\n",
    "    serial_number =i\n",
    "    amount =amount\n",
    "    C_C.append(pair_coeff(\"C-C\",serial_number,amount))\n",
    "pair_coeff_C_C = C_C\n",
    "# C-H\n",
    "C_H = []\n",
    "for i in range(1,amount+1):\n",
    "    serial_number =i\n",
    "    amount =amount\n",
    "    C_H.append(pair_coeff(\"C-H\",serial_number,amount))\n",
    "pair_coeff_C_H = C_H\n",
    "# H-H\n",
    "H_H = []\n",
    "for i in range(1,amount):\n",
    "    serial_number =i\n",
    "    amount =amount\n",
    "    H_H.append(pair_coeff(\"H-H\",serial_number,amount))\n",
    "pair_coeff_H_H = H_H\n",
    "##############################\n",
    "pair_coeff = pair_coeff_C_C + pair_coeff_C_H + pair_coeff_H_H\n",
    "temp = []\n",
    "for i,e in enumerate(pair_coeff):\n",
    "    for j,row in enumerate(e):\n",
    "        temp.append(row)\n",
    "\n",
    "pair_coeff = temp   ############ 嵌套列表转换为字符串类型\n",
    "lable_2 = pair_coeff\n",
    "\n",
    "# label_3  define region five and two carbon atom rings length is 4.91A\n",
    "# dz是定义固定碳纳米管的宽度  取gro文件的nm单位应用于in文件的Am单位\n",
    "dz = motor_length/6 *10 #4.910"
   ]
  },
  {
   "cell_type": "code",
   "execution_count": 170,
   "metadata": {
    "ExecuteTime": {
     "end_time": "2019-07-05T01:29:08.127155Z",
     "start_time": "2019-07-05T01:29:08.113150Z"
    }
   },
   "outputs": [
    {
     "data": {
      "text/plain": [
       "(3.261, 5.435)"
      ]
     },
     "execution_count": 170,
     "metadata": {},
     "output_type": "execute_result"
    }
   ],
   "source": [
    "motor_length,dz"
   ]
  },
  {
   "cell_type": "code",
   "execution_count": 171,
   "metadata": {
    "ExecuteTime": {
     "end_time": "2019-07-05T01:29:08.261150Z",
     "start_time": "2019-07-05T01:29:08.135151Z"
    }
   },
   "outputs": [],
   "source": [
    "df_motor_ad[3] = df_motor_ad[3].apply(float).map(lambda x: x ) \n",
    "df_motor_ad[4] = df_motor_ad[4].apply(float).map(lambda x: x ) \n",
    "MC_px = pow((pow(max(df_motor_ad.iloc[:][3]),2)+pow(min(df_motor_ad.iloc[:][3]),2)),1/2)*10\n",
    "MC_pz = (df_motor_ad.iloc[0][5]) *10\n",
    "motor_region = [\"region        motor_L    block\" \\\n",
    "            + \"%10.3f\"%(-MC_px) + \"%10.3f\"%(MC_px)\\\n",
    "            + \"%10.3f\"%(-MC_px) + \"%10.3f\"%(MC_px) \\\n",
    "            + \"%10.3f\"%(MC_pz ) + \"%10.3f\"%(MC_pz + dz)+\"\\n\"]\n",
    "# H、转子左右两端固定区域函数  \n",
    "rotor1_region = X_region(df_rotor1_ad,\"rotor1\",dz)\n",
    "rotor2_region = X_region(df_rotor2_ad,\"rotor2\",dz)\n",
    "rotor3_region = X_region(df_rotor3_ad,\"rotor3\",dz)\n",
    "\n",
    "\n",
    "lable_3 =  motor_region + rotor1_region + rotor2_region + rotor3_region \n",
    "\n",
    "#lable_4    define groups\n",
    "group_C = [\"motor\",\"rotor1\",\"rotor2\",\"rotor3\",\\\n",
    "           \"stator1\",\"stator2 \",\"stator3\",\"stator4\",\"stator5\",\"stator6 \"]\n",
    "group_H = [\"motor_hydrogen\",\"rotor1_hydrogen\",\"rotor2_hydrogen\",\"rotor3_hydrogen\",\n",
    "           \"stator1_hydrogen\",\"stator2_hydrogen\",\"stator3_hydrogen\",\"stator4_hydrogen\",\\\n",
    "          \"stator5_hydrogen\",\"stator6_hydrogen\"]   \n",
    "#I、根据原子类型分组\n",
    "define_groups_C = group_type(\"C\",group_C,amount)\n",
    "define_groups_H = group_type(\"H\",group_H,amount)\n",
    "type_groups = define_groups_C+define_groups_H\n",
    "lable_4 = type_groups\n",
    "\n",
    "#转子左端固定区域院子个数\n",
    "fix_atoms = len(list(filter(lambda x: float(x)  < motor_length/6,df_motor_ad[3])))\n",
    "fix_atoms = int(fix_atoms/2)\n",
    "\n",
    "#label_5   region groups\n",
    "region_groups =  [\"group       motor_Left           region         motor_L\\n\",\\\n",
    "                  \"group       rotor1_Left          id             %d:%d\" % (df_rotor1_ad[2][0],df_rotor1_ad[2][0]+fix_atoms) + \"\\n\",\\\n",
    "                  \"#group       rotor1_Right           region         rotor1_R\\n\",\\\n",
    "                  \"group       rotor2_Left          id             %d:%d\" % (df_rotor2_ad[2][0],df_rotor2_ad[2][0]+fix_atoms) + \"\\n\",\\\n",
    "                  \"#group       rotor2_Right           region         rotor2_R\\n\",\\\n",
    "                  \"group       rotor3_Left          id             %d:%d\" % (df_rotor3_ad[2][0],df_rotor3_ad[2][0]+fix_atoms) + \"\\n\",\\\n",
    "                  \"#group       rotor3_Right           region         rotor3_R\\n\"]\n",
    "\n",
    "union_groups =   [\"group       M_H                    union          motor     motor_hydrogen\\n\",\\\n",
    "                  \"group       all_subtract_M_H       subtract       all       M_H\\n\",\\\n",
    "                  \"#group       all_subtract_M         subtract       all       Motor\\n\"\\\n",
    "                  \n",
    "                  \"group       stators1               union         stator1 stator2 \\n\",\\\n",
    "                  \"group       stators2               union         stator3 stator4 \\n\",\\\n",
    "                  \"group       stators3               union         stator5 stator6 \\n\",\\\n",
    "                  \n",
    "                  \"group       except_rotor1          union         motor   stators1 rotor2 stator3 \\n\",\\\n",
    "                  \"group       except_rotor2          union         rotor1  stator2   stators2 rotor3 stator5 \\n\",\\\n",
    "                  \"group       except_rotor3          union         rotor2 stator4 stators3 \\n\",\\\n",
    "                 ]\n",
    "fix_spring = [ \"fix       spring_ML            motor_Left         spring/self 1000    xyz\\n\",\\\n",
    "               \"dump      dump_minimize         all                xtc         200     dump_minimize.xtc\\n\",\\\n",
    "               \"minimize 1.0e-12 1.0e-12 10000 100000\\n\",\\\n",
    "               \"#minimize 1.0e-4 1.0e-6 10000 100000\\n\",\\\n",
    "               \"#min_modify dmax 0.1\\n\",\\\n",
    "               \"undump   dump_minimize\\n\",\\\n",
    "               \"fix       spring_ML            motor_Left         spring/self 1000    xyz\\n\",\\\n",
    "               \"fix       spring_R1L           rotor1_Left        spring/self 1000    xyz\\n\",\\\n",
    "               \"#fix       spring_R1R           rotor1_Right       spring/self 1000    xyz\\n\",\\\n",
    "               \"fix       spring_R2L           rotor2_Left        spring/self 1000    xyz\\n\",\\\n",
    "               \"#fix       spring_R2R           rotor2_Right       spring/self 1000    xyz\\n\",\\\n",
    "\n",
    "               \"fix       spring_R3L           rotor3_Left        spring/self 1000    xyz\\n\",\\\n",
    "               \"#fix       spring_R3R           rotor3_Right       spring/self 1000    xyz\\n\",\\\n",
    "\n",
    "               \"fix       spring_stator1       stator1            spring/self 1000    xyz\\n\",\\\n",
    "               \"fix       spring_stator2       stator2            spring/self 1000    xyz\\n\",\\\n",
    "               \"fix       spring_stator3       stator3            spring/self 1000    xyz\\n\",\\\n",
    "               \"fix       spring_stator4       stator4            spring/self 1000    xyz\\n\",\\\n",
    "               \"fix       spring_stator5       stator5            spring/self 1000    xyz\\n\",\\\n",
    "               \"fix       spring_stator6       stator6            spring/self 1000    xyz\\n\",\\\n",
    "\n",
    "               \"fix       NVE                  all                nve \\n\",\\\n",
    "               \"fix       NVE_TEMP             all                temp/rescale    200             300 300  1.0 1.0 \\n\",\\\n",
    "               \"#thermo_style custom step  temp    etotal \\n\",\\\n",
    "               \"#thermo 200 \\n\",\\\n",
    "               \"dump      dump_NveTemp         all                xtc         200     dump_NveTemp.xtc\\n\",\\\n",
    "               \"run       200000               # 02million\\n\",\\\n",
    "               \"#run      100000               # 01million\\n\",\\\n",
    "               \"#run      10000                # 10thousand\\n\",\\\n",
    "               \"#run      1000                  #1hundred\\n\",\\\n",
    "               \"unfix    NVE\\n\",\\\n",
    "               \"unfix    NVE_TEMP\\n\",\\\n",
    "               \"undump   dump_NveTemp\\n\"]\n",
    "unfix = [\n",
    "         \"unfix spring_ML\\n\",\\\n",
    "         \"unfix spring_R1L\\n\",\"#unfix spring_R1R\\n\",\\\n",
    "         \"unfix spring_R2L\\n\",\"#unfix spring_R2R\\n\",\\\n",
    "         \"unfix spring_R3L\\n\",\"#unfix spring_R3R\\n\",\\\n",
    "         ]\n",
    "lable_5 = region_groups + union_groups + fix_spring + unfix\n",
    "\n",
    "# second half\n",
    "# label_6   \n",
    "fix = [\"fix   spring_ML_z motor_Left       spring/self     1000            z\\n\",\\\n",
    "       \"#fix   M_H_temp    M_H                temp/rescale   200             300 300  1.0 1.0\\n\",\\\n",
    "       \"#fix   NVT         all_subtract_M_H   nvt            temp            300. 300. 0.1\\n\",\\\n",
    "       \"fix   NVT         all                 nvt            temp            300. 300. 0.1  #tchain 1 #drag 0.5\\n\",\\\n",
    "       \"fix   rotate      M_H                 move rotate   0.0 0.0 0.0     0.0 0.0 1.0     5 \\n\"]\n",
    "compute = [\"#compute      cc1          all     chunk/atom       type\\n\",\\\n",
    "           \"#compute      torque       all     torque/chunk     cc1\\n\",\\\n",
    "           \"#fix          torque_1     all     ave/time         1 200 200     c_torque[*]      file  %s    mode vector\\n\"\\\n",
    "           %(filename_head + \"_torque.vector\"),\\\n",
    "           \"compute      cc2          all     chunk/atom       type\\n\",\\\n",
    "           \"compute      mass_center  all     com/chunk        cc2\\n\",\\\n",
    "           \"fix          center_2     all     ave/time         1 200 200     c_mass_center[*]  file   %s   mode vector\\n\"\\\n",
    "           %(filename_head + \"_mcenter.vector\"),\\\n",
    "           \"compute      cc3          all     chunk/atom       type\\n\",\\\n",
    "           \"compute      omiga        all     omega/chunk      cc3\\n\",\\\n",
    "           \"fix          omiga_3      all     ave/time         1 200 200     c_omiga[*]        file   %s    mode vector\\n\"\\\n",
    "            %(filename_head + \"_omiga.vector\"),\\\n",
    "           \"#compute      crs1  rotor1   group/group stators1\\n\",\\\n",
    "           \"#compute      crs2  rotor2   group/group stators2\\n\",\\\n",
    "           \"#compute      crs3  rotor3   group/group stators3\\n\",\\\n",
    "           \"#fix  crs1_scalar  stators1  ave/time  1 200 200 c_crs1 file crs1.scalar\\n\",\\\n",
    "           \"#fix  crs2_scalar  stators2  ave/time  1 200 200 c_crs2 file crs2.scalar\\n\",\\\n",
    "           \"#fix  crs3_scalar  stators3  ave/time  1 200 200 c_crs3 file crs3.scalar\\n\",\\\n",
    "           \n",
    "           \n",
    "           \"#compute      cmr1               rotor1   group/group motor\\n\",\\\n",
    "           \"#compute      cr1r2              rotor2   group/group rotor1\\n\",\\\n",
    "           \"#compute      cr2r3              rotor3   group/group rotor2\\n\",\\\n",
    "           \"#fix          cmr1_scalar        rotor1   ave/time  1 200 200 c_cmr1  file cmr1.scalar\\n\",\\\n",
    "           \"#fix          cr1r2_scalar       rotor2   ave/time  1 200 200 c_cr1r2 file cr1r2.scalar\\n\",\\\n",
    "           \"#fix          cr2r3_scalar       rotor3   ave/time  1 200 200 c_cr2r3 file cr2r3.scalar\\n\",\\\n",
    "           \n",
    "           \"#compute      cer1  rotor1   group/group except_rotor1\\n\",\\\n",
    "           \"#compute      cer2  rotor2   group/group except_rotor2\\n\",\\\n",
    "           \"#compute      cer3  rotor3   group/group except_rotor3\\n\",\\\n",
    "           \"#fix  cer1_scalar  except_rotor1  ave/time  1 200 200 c_cer1 file cer1.scalar\\n\",\\\n",
    "           \"#fix  cer2_scalar  except_rotor2  ave/time  1 200 200 c_cer2 file cer2.scalar\\n\",\\\n",
    "           \"#fix  cer3_scalar  except_rotor3  ave/time  1 200 200 c_cer3 file cer3.scalar\\n\",\\\n",
    "           \n",
    "           \"#thermo_style custom step  temp    etotal \\n\",\\\n",
    "           \"#thermo 200\\n\"]\n",
    "dump =  [\"#dump        1          all             custom   200    %s  type x y z fx fy fz\\n\"\\\n",
    "         %(filename_head + \".lammpstrj\"),\\\n",
    "         \"#dump        2          all             xtc      4000   dump_per4000_2million.xtc\\n\",\\\n",
    "         \"#dump        3          all             xtc      1000   dump_per1000_2million.xtc\\n\",\\\n",
    "         \"#dump        4          all             xtc      500   dump_per500_2million.xtc\\n\",\\\n",
    "         \"dump        5          all             xtc      200    dump_per200_2million.xtc \\n\",\\\n",
    "         \"#dump        6          all             xyz      200    dump_%s.xyz\\n\" % (filename_head),\\\n",
    "         \"\\n#dump_modify 1          element        \" + C_atoms + H_atoms + \"sort id\\n\",\\\n",
    "         \"\\n#restart     50000\"+ \"%6s\"%(filename_head)+\".restart\",\\\n",
    "         \"\\n#run         100000\\n\\n\",\\\n",
    "         \"\\nrestart  1000000   %s.*.restart\"%(filename_head),\\\n",
    "         \"\\n#run         200000\\n\\n\",\\\n",
    "         \"run        20000200   #20million\\n\",\\\n",
    "        \n",
    "         \"#run        100000     #01million\\n\",\\\n",
    "         \"#run        10000      #10thousand\\n\",\\\n",
    "         \"#run         1000\\n\",\\\n",
    "         \"uncompute   cc2\\n\",\\\n",
    "         \"uncompute   mass_center\\n\",\\\n",
    "         \"uncompute   cc3\\n\",\\\n",
    "         \"uncompute   omiga\\n\",\\\n",
    "         \"undump        5\\n\"\n",
    "         ]\n",
    "lable_6 = fix + compute + dump\n",
    "\n",
    "# 输出in文件：写入到输出文件（outfile）\n",
    "outfile_in = \"in.\" + filename_head\n",
    "with open(outfile_in, 'w') as wf:\n",
    "    lables =  [\"#lable_1\\n\"] + lable_1 + [\"#lable_2\\n\"] +  lable_2 + [\"#lable_3\\n\"] +  lable_3 + \\\n",
    "             [\"#lable_4\\n\"] +  lable_4 + [\"#lable_5\\n\"] + lable_5 + [\"#lable_6\\n\"] + lable_6\n",
    "    data = lables\n",
    "    for row in data:\n",
    "        wf.write(row)"
   ]
  },
  {
   "cell_type": "code",
   "execution_count": 172,
   "metadata": {},
   "outputs": [
    {
     "data": {
      "text/plain": [
       "'restart  1000000   M13-140-80-140-140.*.restart'"
      ]
     },
     "execution_count": 172,
     "metadata": {},
     "output_type": "execute_result"
    }
   ],
   "source": [
    "\"restart  1000000   %s.*.restart\"%(filename_head)"
   ]
  },
  {
   "cell_type": "markdown",
   "metadata": {},
   "source": [
    "# 六、lsf文件"
   ]
  },
  {
   "cell_type": "code",
   "execution_count": 173,
   "metadata": {
    "ExecuteTime": {
     "end_time": "2019-07-05T01:29:08.321163Z",
     "start_time": "2019-07-05T01:29:08.270154Z"
    }
   },
   "outputs": [],
   "source": [
    "# bsub_lsf文件\n",
    "outfile_lsf = \"lsf.\"+ filename_head\n",
    "NP =48\n",
    "with open(outfile_lsf, 'w') as wf:\n",
    "    bsub_lsf =  [\"#!/bin/sh\\n\",\n",
    "                 \"APP_NAME=intelY_mid\\n\",\n",
    "                 \"NP={} #24\".format(NP) + \"\\n\",\n",
    "                 \"NP_PER_NODE=12\\n\",\n",
    "                 'RUN=\"RAW\"\\n',\n",
    "                 \"source /home-yw/env/intel-2016.sh\\n\",\n",
    "                 \"mpirun -np $NP ./lmp_mpi -i  \" + outfile_in + \"\\n\"]                 \n",
    "    data = bsub_lsf \n",
    "    for row in data:\n",
    "        wf.write(row)"
   ]
  },
  {
   "cell_type": "markdown",
   "metadata": {},
   "source": [
    "# 七、document文件 模型设置-路径"
   ]
  },
  {
   "cell_type": "code",
   "execution_count": 174,
   "metadata": {
    "ExecuteTime": {
     "end_time": "2019-07-05T01:29:08.357154Z",
     "start_time": "2019-07-05T01:29:08.326151Z"
    }
   },
   "outputs": [],
   "source": [
    "# document  about models set     \n",
    "with open(\"document\"+filename_head+\".txt\",\"w\") as wf:\n",
    "    data = [\"filename_head=\" + filename_head,\"\\n\",\n",
    "            \"\\n\",\n",
    "            \"catalog_0 =\" + catalog_0,\"\\n\",\n",
    "            \"catalog_1 =\" +  catalog_1,\"\\n\",\n",
    "            \"catalog_2 =\" +  catalog_2,\"\\n\",\n",
    "            \"\\n\",\n",
    "            \"curfilerename_temp=\" + curfilerename_temp,\"\\n\",\n",
    "            \"stators_temp=\" + stators_temp,\"\\n\",\n",
    "            \"\\n\",\n",
    "            \"infile_motor = \" + str(infile_motor),\"\\n\",\n",
    "            \"infile_rotor1 = \" + str(infile_rotor1),\"\\n\",\n",
    "            \"infile_rotor2 = \" + str(infile_rotor2),\"\\n\",\n",
    "            \"infile_rotor3 = \" + str(infile_rotor3),\"\\n\",\n",
    "            \"infile_stator1 =\" + str(infile_stator1),\"\\n\",\n",
    "            \"infile_stator3 =\" + str(infile_stator3),\"\\n\",\n",
    "            \"infile_stator5 =\" + str(infile_stator5),\"\\n\",\n",
    "            \"models_SE=\\n\" +  str(models_SE),\"\\n\",\n",
    "            \"\\n\",\n",
    "            \"hdz=\" + str(hdz),\"\\n\",\n",
    "            \"L2 = \" + str(L2),\"\\n\",\n",
    "            \"stator6_distance_origin=\" + str(stator6_distance_origin),\"\\n\",\n",
    "            \"original set stator6_distance=\" + str(stator6_distance),\"\\n\",\n",
    "            \"box_space=\" + str(box_space),\"\\n\",\n",
    "            \"fix xy MC_px=\" + str(MC_px),\"\\n\",\n",
    "            \"MC_pz=\" + str(MC_pz),\"\\n\",\n",
    "            \"fix width dz=\" + str(dz),\"\\n\",\n",
    "            \"catalog_2=\" + \"\\n\" + catalog_2,\"\\n\"]\n",
    "    for row in data:\n",
    "        wf.write(row)"
   ]
  },
  {
   "cell_type": "markdown",
   "metadata": {},
   "source": [
    "# 八、rm_cp_bsub文件 "
   ]
  },
  {
   "cell_type": "code",
   "execution_count": 175,
   "metadata": {
    "ExecuteTime": {
     "end_time": "2019-07-05T01:29:08.389152Z",
     "start_time": "2019-07-05T01:29:08.363152Z"
    },
    "run_control": {
     "marked": true
    }
   },
   "outputs": [],
   "source": [
    "#  rm_cp_bsub\n",
    "with open(\"rm_cp_bsub\"+now_time,\"w\") as wf:\n",
    "    data = [\n",
    "            'rm -rf  ./lmp_mpi ./CH.airebo',\"\\n\",\n",
    "            'echo \"##  rm -rf ./lmp_mpi ./CH.airebo  ##\"',\"\\n\",\n",
    "            'cp /home-yw/users/nsyw236_XZ/software/lammps_2018/lammps/lammps-12Dec18/src/lmp_mpi  ./',\"\\n\",\n",
    "            'cp /home-yw/users/nsyw236_XZ/software/lammps_2018/lammps/lammps-12Dec18/potentials/CH.airebo ./',\"\\n\",\n",
    "            '#echo \"##  cp /home-yw/users/nsyw236_XZ/software/lammps_2018/lammps/lammps-12Dec18/src/lmp_mpi  ./  ##\"',\"\\n\",\n",
    "            '#echo \"##  cp /home-yw/users/nsyw236_XZ/software/lammps_2018/lammps/lammps-12Dec18/potentials/CH.airebo ./  ##\"',\"\\n\",\n",
    "            '#echo \"##  ls -ahl ./  ##\"',\"\\n\",\n",
    "            'dos2unix ./lsf.*',\"\\n\",\n",
    "            \"chmod +x ./lsf.*\",\"\\n\",\n",
    "            'bsub   lsf.*',\"\\n\",\n",
    "            'bjobs >> jobs{}'.format(now_time),\"\\n\",\n",
    "            'bjobs | tail {} >> document*'.format(-int(NP/12)),\"\\n\",\n",
    "            'pwd >> document*',\"\\n\",\n",
    "            'ls -ahl ./',\"\\n\",\n",
    "            'tail -5  document*',\"\\n\"\n",
    "            ]\n",
    "    for row in data:\n",
    "        wf.write(row)\n",
    "        \n",
    "os.chdir(catalog_0)"
   ]
  },
  {
   "cell_type": "raw",
   "metadata": {},
   "source": [
    "x = 1.414\n",
    "y = 9.379\n",
    "two = 2\n",
    "(x**two+y**two)**0.5/10"
   ]
  },
  {
   "cell_type": "code",
   "execution_count": 176,
   "metadata": {
    "ExecuteTime": {
     "end_time": "2019-07-05T01:29:08.416153Z",
     "start_time": "2019-07-05T01:29:08.396152Z"
    }
   },
   "outputs": [
    {
     "data": {
      "text/plain": [
       "'F:\\\\_python\\\\python_module'"
      ]
     },
     "execution_count": 176,
     "metadata": {},
     "output_type": "execute_result"
    }
   ],
   "source": [
    "os.getcwd()"
   ]
  },
  {
   "cell_type": "markdown",
   "metadata": {},
   "source": [
    "# 所有变量"
   ]
  },
  {
   "cell_type": "raw",
   "metadata": {
    "scrolled": false
   },
   "source": [
    "%whos "
   ]
  },
  {
   "cell_type": "code",
   "execution_count": null,
   "metadata": {},
   "outputs": [],
   "source": []
  },
  {
   "cell_type": "code",
   "execution_count": null,
   "metadata": {},
   "outputs": [],
   "source": []
  },
  {
   "cell_type": "code",
   "execution_count": null,
   "metadata": {},
   "outputs": [],
   "source": []
  }
 ],
 "metadata": {
  "hide_input": false,
  "kernelspec": {
   "display_name": "Python 3",
   "language": "python",
   "name": "python3"
  },
  "language_info": {
   "codemirror_mode": {
    "name": "ipython",
    "version": 3
   },
   "file_extension": ".py",
   "mimetype": "text/x-python",
   "name": "python",
   "nbconvert_exporter": "python",
   "pygments_lexer": "ipython3",
   "version": "3.7.3"
  },
  "toc": {
   "base_numbering": 1,
   "nav_menu": {},
   "number_sections": true,
   "sideBar": true,
   "skip_h1_title": false,
   "title_cell": "Table of Contents",
   "title_sidebar": "Contents",
   "toc_cell": false,
   "toc_position": {
    "height": "calc(100% - 180px)",
    "left": "10px",
    "top": "150px",
    "width": "348.993px"
   },
   "toc_section_display": true,
   "toc_window_display": true
  },
  "varInspector": {
   "cols": {
    "lenName": 16,
    "lenType": 16,
    "lenVar": 40
   },
   "kernels_config": {
    "python": {
     "delete_cmd_postfix": "",
     "delete_cmd_prefix": "del ",
     "library": "var_list.py",
     "varRefreshCmd": "print(var_dic_list())"
    },
    "r": {
     "delete_cmd_postfix": ") ",
     "delete_cmd_prefix": "rm(",
     "library": "var_list.r",
     "varRefreshCmd": "cat(var_dic_list()) "
    }
   },
   "types_to_exclude": [
    "module",
    "function",
    "builtin_function_or_method",
    "instance",
    "_Feature"
   ],
   "window_display": false
  }
 },
 "nbformat": 4,
 "nbformat_minor": 2
}
