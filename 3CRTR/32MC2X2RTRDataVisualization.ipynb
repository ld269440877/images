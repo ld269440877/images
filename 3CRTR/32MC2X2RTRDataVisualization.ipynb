{
 "cells": [
  {
   "cell_type": "code",
   "execution_count": 39,
   "metadata": {
    "ExecuteTime": {
     "end_time": "2019-07-18T06:39:54.354045Z",
     "start_time": "2019-07-18T06:39:54.291039Z"
    },
    "scrolled": true
   },
   "outputs": [
    {
     "name": "stdout",
     "output_type": "stream",
     "text": [
      "Using matplotlib backend: Qt5Agg\n",
      "Populating the interactive namespace from numpy and matplotlib\n"
     ]
    },
    {
     "name": "stderr",
     "output_type": "stream",
     "text": [
      "C:\\ProgramData\\Anaconda3\\lib\\site-packages\\IPython\\core\\magics\\pylab.py:160: UserWarning: pylab import has clobbered these variables: ['figsize']\n",
      "`%matplotlib` prevents importing * from pylab and numpy\n",
      "  \"\\n`%matplotlib` prevents importing * from pylab and numpy\"\n"
     ]
    }
   ],
   "source": [
    "import pandas as pd\n",
    "import numpy as np\n",
    "from pandas import DataFrame,Series\n",
    "import os   #检验文件是否存在，避免重复写入\n",
    "import matplotlib.pyplot as plt\n",
    "from mpl_toolkits.mplot3d import Axes3D\n",
    "%pylab\n",
    "# %matplotlib"
   ]
  },
  {
   "cell_type": "markdown",
   "metadata": {},
   "source": [
    "# 计算不同手性的碳纳米管半径"
   ]
  },
  {
   "cell_type": "code",
   "execution_count": 40,
   "metadata": {
    "ExecuteTime": {
     "end_time": "2019-07-18T06:39:54.869045Z",
     "start_time": "2019-07-18T06:39:54.858043Z"
    }
   },
   "outputs": [],
   "source": [
    "RR=  {}\n",
    "for m in range(5,37):\n",
    "    n=m\n",
    "    acc = 0.1418\n",
    "    r= 3**0.5 * acc * (n*n + n*m + m*m)**0.5/3.14/2\n",
    "    RR.update({\"(%s,%s)\" % (m,n):\"%.3f\" % (r)})"
   ]
  },
  {
   "cell_type": "code",
   "execution_count": 41,
   "metadata": {
    "ExecuteTime": {
     "end_time": "2019-07-18T06:39:54.901044Z",
     "start_time": "2019-07-18T06:39:54.889044Z"
    }
   },
   "outputs": [],
   "source": [
    "R0=  {}\n",
    "for m in range(8,41):\n",
    "    n=0\n",
    "    acc = 0.1418\n",
    "    r= 3**0.5 * acc * (n*n + n*m + m*m)**0.5/3.14/2\n",
    "    R0.update({\"(%s,%s)\" % (m,n):\"%.3f\" % (r)})"
   ]
  },
  {
   "cell_type": "code",
   "execution_count": 42,
   "metadata": {
    "ExecuteTime": {
     "end_time": "2019-07-18T06:39:54.923044Z",
     "start_time": "2019-07-18T06:39:54.906044Z"
    }
   },
   "outputs": [],
   "source": [
    "for key,value in R0.items():\n",
    "    RR.update({key:value})\n",
    "#     print(key)\n",
    "\n",
    "\n",
    "R = RR"
   ]
  },
  {
   "cell_type": "code",
   "execution_count": 43,
   "metadata": {
    "ExecuteTime": {
     "end_time": "2019-07-18T06:39:54.959042Z",
     "start_time": "2019-07-18T06:39:54.933044Z"
    }
   },
   "outputs": [
    {
     "data": {
      "text/plain": [
       "'F:\\\\_python\\\\python_module'"
      ]
     },
     "execution_count": 43,
     "metadata": {},
     "output_type": "execute_result"
    }
   ],
   "source": [
    "pwd"
   ]
  },
  {
   "cell_type": "code",
   "execution_count": 44,
   "metadata": {
    "ExecuteTime": {
     "end_time": "2019-07-18T06:39:54.973045Z",
     "start_time": "2019-07-18T06:39:54.967041Z"
    }
   },
   "outputs": [],
   "source": [
    "catalog = os.getcwd()  #获取当前目录"
   ]
  },
  {
   "cell_type": "markdown",
   "metadata": {},
   "source": [
    "# 设置要处理的文件infile_M*"
   ]
  },
  {
   "cell_type": "code",
   "execution_count": 45,
   "metadata": {
    "ExecuteTime": {
     "end_time": "2019-07-18T06:39:55.655041Z",
     "start_time": "2019-07-18T06:39:55.641042Z"
    }
   },
   "outputs": [
    {
     "data": {
      "text/plain": [
       "['M1111S270', '1111', '1111', '1111', '1111']"
      ]
     },
     "execution_count": 45,
     "metadata": {},
     "output_type": "execute_result"
    }
   ],
   "source": [
    "infile_M1 = (r\"F:\\_python\\20190602\\M1111S270-1111-1111-1111-1111\\MC_xy.csv\").replace(r\"\\\\\",r\"\\\\\\\\\")\n",
    "infile_M2 = (r\"F:\\_python\\20190521\\M1111S300-1111-1111-1111-1111\\MC_xy.csv\").replace(r\"\\\\\",r\"\\\\\\\\\")\n",
    "\n",
    "infile_M3 = (r\"F:\\_python\\20190325-dz0403L2minimize10-12\\3stage\\M90S180-90-90-90-90\\MC.csv\").replace(r\"\\\\\",r\"\\\\\\\\\")\n",
    "infile_M4 = (r\"F:\\_python\\20190427\\M260S350-260-260-260-260\\MC.csv\").replace(r\"\\\\\",r\"\\\\\\\\\")\n",
    "\n",
    "infile_M1.split(\"\\\\\")[-2].split(\"-\")"
   ]
  },
  {
   "cell_type": "markdown",
   "metadata": {},
   "source": [
    "# df_M* 读取infile_M*"
   ]
  },
  {
   "cell_type": "code",
   "execution_count": 46,
   "metadata": {
    "ExecuteTime": {
     "end_time": "2019-07-18T06:39:57.950045Z",
     "start_time": "2019-07-18T06:39:56.414047Z"
    }
   },
   "outputs": [],
   "source": [
    "df_M1 = pd.read_csv(infile_M1)\n",
    "df_M2 = pd.read_csv(infile_M2)\n",
    "df_M3 = pd.read_csv(infile_M3)\n",
    "df_M4 = pd.read_csv(infile_M4)"
   ]
  },
  {
   "cell_type": "code",
   "execution_count": 47,
   "metadata": {},
   "outputs": [
    {
     "data": {
      "text/html": [
       "<div>\n",
       "<style scoped>\n",
       "    .dataframe tbody tr th:only-of-type {\n",
       "        vertical-align: middle;\n",
       "    }\n",
       "\n",
       "    .dataframe tbody tr th {\n",
       "        vertical-align: top;\n",
       "    }\n",
       "\n",
       "    .dataframe thead th {\n",
       "        text-align: right;\n",
       "    }\n",
       "</style>\n",
       "<table border=\"1\" class=\"dataframe\">\n",
       "  <thead>\n",
       "    <tr style=\"text-align: right;\">\n",
       "      <th></th>\n",
       "      <th>timestep</th>\n",
       "      <th>x_motor</th>\n",
       "      <th>y_motor</th>\n",
       "      <th>x_R1</th>\n",
       "      <th>y_R1</th>\n",
       "      <th>x_R2</th>\n",
       "      <th>y_R2</th>\n",
       "      <th>x_R3</th>\n",
       "      <th>y_R3</th>\n",
       "    </tr>\n",
       "  </thead>\n",
       "  <tbody>\n",
       "    <tr>\n",
       "      <th>305951</th>\n",
       "      <td>305951</td>\n",
       "      <td>0.000875</td>\n",
       "      <td>0.003394</td>\n",
       "      <td>0.168072</td>\n",
       "      <td>-0.004987</td>\n",
       "      <td>0.165131</td>\n",
       "      <td>0.004516</td>\n",
       "      <td>0.145447</td>\n",
       "      <td>0.000297</td>\n",
       "    </tr>\n",
       "    <tr>\n",
       "      <th>305952</th>\n",
       "      <td>305952</td>\n",
       "      <td>0.000004</td>\n",
       "      <td>0.003505</td>\n",
       "      <td>0.165025</td>\n",
       "      <td>0.028817</td>\n",
       "      <td>0.161442</td>\n",
       "      <td>0.033922</td>\n",
       "      <td>0.142659</td>\n",
       "      <td>0.027931</td>\n",
       "    </tr>\n",
       "    <tr>\n",
       "      <th>305953</th>\n",
       "      <td>305953</td>\n",
       "      <td>-0.000868</td>\n",
       "      <td>0.003396</td>\n",
       "      <td>0.155945</td>\n",
       "      <td>0.061388</td>\n",
       "      <td>0.151839</td>\n",
       "      <td>0.062328</td>\n",
       "      <td>0.132910</td>\n",
       "      <td>0.055373</td>\n",
       "    </tr>\n",
       "    <tr>\n",
       "      <th>305954</th>\n",
       "      <td>305954</td>\n",
       "      <td>-0.001685</td>\n",
       "      <td>0.003073</td>\n",
       "      <td>0.139869</td>\n",
       "      <td>0.091515</td>\n",
       "      <td>0.136792</td>\n",
       "      <td>0.089202</td>\n",
       "      <td>0.117987</td>\n",
       "      <td>0.080472</td>\n",
       "    </tr>\n",
       "    <tr>\n",
       "      <th>305955</th>\n",
       "      <td>305955</td>\n",
       "      <td>-0.002396</td>\n",
       "      <td>0.002557</td>\n",
       "      <td>0.117531</td>\n",
       "      <td>0.117602</td>\n",
       "      <td>0.117089</td>\n",
       "      <td>0.113051</td>\n",
       "      <td>0.099242</td>\n",
       "      <td>0.102172</td>\n",
       "    </tr>\n",
       "  </tbody>\n",
       "</table>\n",
       "</div>"
      ],
      "text/plain": [
       "        timestep   x_motor   y_motor      x_R1      y_R1      x_R2      y_R2  \\\n",
       "305951    305951  0.000875  0.003394  0.168072 -0.004987  0.165131  0.004516   \n",
       "305952    305952  0.000004  0.003505  0.165025  0.028817  0.161442  0.033922   \n",
       "305953    305953 -0.000868  0.003396  0.155945  0.061388  0.151839  0.062328   \n",
       "305954    305954 -0.001685  0.003073  0.139869  0.091515  0.136792  0.089202   \n",
       "305955    305955 -0.002396  0.002557  0.117531  0.117602  0.117089  0.113051   \n",
       "\n",
       "            x_R3      y_R3  \n",
       "305951  0.145447  0.000297  \n",
       "305952  0.142659  0.027931  \n",
       "305953  0.132910  0.055373  \n",
       "305954  0.117987  0.080472  \n",
       "305955  0.099242  0.102172  "
      ]
     },
     "execution_count": 47,
     "metadata": {},
     "output_type": "execute_result"
    }
   ],
   "source": [
    "df_M2.tail()"
   ]
  },
  {
   "cell_type": "code",
   "execution_count": 48,
   "metadata": {},
   "outputs": [],
   "source": [
    "def df_appenddf(df_M):\n",
    "    while True:\n",
    "#         x = df_M.x_R2[len(df_M.x_R2)-1] # - 0.005 # 转子1的最后一个RTR值\n",
    "        i = random.randint(-20000,-1)\n",
    "        df_M = df_M.append(df_M[i:],ignore_index=True) \n",
    "\n",
    "        if len(df_M)>500000:\n",
    "            df_M = df_M[:500000]\n",
    "            break\n",
    "    return df_M"
   ]
  },
  {
   "cell_type": "code",
   "execution_count": 49,
   "metadata": {},
   "outputs": [],
   "source": [
    "df_M1 = df_appenddf(df_M1)\n",
    "df_M2 = df_appenddf(df_M2)"
   ]
  },
  {
   "cell_type": "code",
   "execution_count": 50,
   "metadata": {
    "scrolled": true
   },
   "outputs": [
    {
     "data": {
      "text/html": [
       "<div>\n",
       "<style scoped>\n",
       "    .dataframe tbody tr th:only-of-type {\n",
       "        vertical-align: middle;\n",
       "    }\n",
       "\n",
       "    .dataframe tbody tr th {\n",
       "        vertical-align: top;\n",
       "    }\n",
       "\n",
       "    .dataframe thead th {\n",
       "        text-align: right;\n",
       "    }\n",
       "</style>\n",
       "<table border=\"1\" class=\"dataframe\">\n",
       "  <thead>\n",
       "    <tr style=\"text-align: right;\">\n",
       "      <th></th>\n",
       "      <th>timestep</th>\n",
       "      <th>x_motor</th>\n",
       "      <th>y_motor</th>\n",
       "      <th>x_R1</th>\n",
       "      <th>y_R1</th>\n",
       "      <th>x_R2</th>\n",
       "      <th>y_R2</th>\n",
       "      <th>x_R3</th>\n",
       "      <th>y_R3</th>\n",
       "    </tr>\n",
       "  </thead>\n",
       "  <tbody>\n",
       "    <tr>\n",
       "      <th>499995</th>\n",
       "      <td>99689</td>\n",
       "      <td>0.004437</td>\n",
       "      <td>-0.000451</td>\n",
       "      <td>0.011775</td>\n",
       "      <td>0.005115</td>\n",
       "      <td>0.003742</td>\n",
       "      <td>-0.001446</td>\n",
       "      <td>-0.008169</td>\n",
       "      <td>-0.001356</td>\n",
       "    </tr>\n",
       "    <tr>\n",
       "      <th>499996</th>\n",
       "      <td>99690</td>\n",
       "      <td>0.004410</td>\n",
       "      <td>0.000667</td>\n",
       "      <td>0.011212</td>\n",
       "      <td>0.000972</td>\n",
       "      <td>0.001463</td>\n",
       "      <td>-0.003167</td>\n",
       "      <td>-0.009985</td>\n",
       "      <td>-0.003489</td>\n",
       "    </tr>\n",
       "    <tr>\n",
       "      <th>499997</th>\n",
       "      <td>99691</td>\n",
       "      <td>0.004105</td>\n",
       "      <td>0.001743</td>\n",
       "      <td>0.006579</td>\n",
       "      <td>-0.002844</td>\n",
       "      <td>0.000003</td>\n",
       "      <td>-0.002489</td>\n",
       "      <td>-0.008988</td>\n",
       "      <td>-0.002374</td>\n",
       "    </tr>\n",
       "    <tr>\n",
       "      <th>499998</th>\n",
       "      <td>99692</td>\n",
       "      <td>0.003543</td>\n",
       "      <td>0.002709</td>\n",
       "      <td>0.001596</td>\n",
       "      <td>-0.004468</td>\n",
       "      <td>0.000718</td>\n",
       "      <td>-0.000256</td>\n",
       "      <td>-0.002635</td>\n",
       "      <td>-0.001924</td>\n",
       "    </tr>\n",
       "    <tr>\n",
       "      <th>499999</th>\n",
       "      <td>99693</td>\n",
       "      <td>0.002758</td>\n",
       "      <td>0.003505</td>\n",
       "      <td>-0.001257</td>\n",
       "      <td>-0.006532</td>\n",
       "      <td>0.000012</td>\n",
       "      <td>-0.001174</td>\n",
       "      <td>0.005370</td>\n",
       "      <td>-0.002114</td>\n",
       "    </tr>\n",
       "  </tbody>\n",
       "</table>\n",
       "</div>"
      ],
      "text/plain": [
       "        timestep   x_motor   y_motor      x_R1      y_R1      x_R2      y_R2  \\\n",
       "499995     99689  0.004437 -0.000451  0.011775  0.005115  0.003742 -0.001446   \n",
       "499996     99690  0.004410  0.000667  0.011212  0.000972  0.001463 -0.003167   \n",
       "499997     99691  0.004105  0.001743  0.006579 -0.002844  0.000003 -0.002489   \n",
       "499998     99692  0.003543  0.002709  0.001596 -0.004468  0.000718 -0.000256   \n",
       "499999     99693  0.002758  0.003505 -0.001257 -0.006532  0.000012 -0.001174   \n",
       "\n",
       "            x_R3      y_R3  \n",
       "499995 -0.008169 -0.001356  \n",
       "499996 -0.009985 -0.003489  \n",
       "499997 -0.008988 -0.002374  \n",
       "499998 -0.002635 -0.001924  \n",
       "499999  0.005370 -0.002114  "
      ]
     },
     "execution_count": 50,
     "metadata": {},
     "output_type": "execute_result"
    }
   ],
   "source": [
    "df_M1.tail()"
   ]
  },
  {
   "cell_type": "code",
   "execution_count": 51,
   "metadata": {},
   "outputs": [
    {
     "data": {
      "text/html": [
       "<div>\n",
       "<style scoped>\n",
       "    .dataframe tbody tr th:only-of-type {\n",
       "        vertical-align: middle;\n",
       "    }\n",
       "\n",
       "    .dataframe tbody tr th {\n",
       "        vertical-align: top;\n",
       "    }\n",
       "\n",
       "    .dataframe thead th {\n",
       "        text-align: right;\n",
       "    }\n",
       "</style>\n",
       "<table border=\"1\" class=\"dataframe\">\n",
       "  <thead>\n",
       "    <tr style=\"text-align: right;\">\n",
       "      <th></th>\n",
       "      <th>timestep</th>\n",
       "      <th>x_motor</th>\n",
       "      <th>y_motor</th>\n",
       "      <th>x_R1</th>\n",
       "      <th>y_R1</th>\n",
       "      <th>x_R2</th>\n",
       "      <th>y_R2</th>\n",
       "      <th>x_R3</th>\n",
       "      <th>y_R3</th>\n",
       "    </tr>\n",
       "  </thead>\n",
       "  <tbody>\n",
       "    <tr>\n",
       "      <th>499995</th>\n",
       "      <td>305389</td>\n",
       "      <td>-0.000443</td>\n",
       "      <td>-0.003477</td>\n",
       "      <td>-0.089984</td>\n",
       "      <td>0.143375</td>\n",
       "      <td>-0.062175</td>\n",
       "      <td>0.167922</td>\n",
       "      <td>-0.035236</td>\n",
       "      <td>0.136420</td>\n",
       "    </tr>\n",
       "    <tr>\n",
       "      <th>499996</th>\n",
       "      <td>305390</td>\n",
       "      <td>0.000436</td>\n",
       "      <td>-0.003478</td>\n",
       "      <td>-0.117221</td>\n",
       "      <td>0.124398</td>\n",
       "      <td>-0.092329</td>\n",
       "      <td>0.152541</td>\n",
       "      <td>-0.063476</td>\n",
       "      <td>0.128004</td>\n",
       "    </tr>\n",
       "    <tr>\n",
       "      <th>499997</th>\n",
       "      <td>305391</td>\n",
       "      <td>0.001287</td>\n",
       "      <td>-0.003260</td>\n",
       "      <td>-0.139224</td>\n",
       "      <td>0.099775</td>\n",
       "      <td>-0.119404</td>\n",
       "      <td>0.132126</td>\n",
       "      <td>-0.089434</td>\n",
       "      <td>0.114408</td>\n",
       "    </tr>\n",
       "    <tr>\n",
       "      <th>499998</th>\n",
       "      <td>305392</td>\n",
       "      <td>0.002057</td>\n",
       "      <td>-0.002838</td>\n",
       "      <td>-0.154973</td>\n",
       "      <td>0.069917</td>\n",
       "      <td>-0.140981</td>\n",
       "      <td>0.106681</td>\n",
       "      <td>-0.111484</td>\n",
       "      <td>0.096384</td>\n",
       "    </tr>\n",
       "    <tr>\n",
       "      <th>499999</th>\n",
       "      <td>305393</td>\n",
       "      <td>0.002698</td>\n",
       "      <td>-0.002237</td>\n",
       "      <td>-0.164134</td>\n",
       "      <td>0.036310</td>\n",
       "      <td>-0.156712</td>\n",
       "      <td>0.076323</td>\n",
       "      <td>-0.129781</td>\n",
       "      <td>0.074644</td>\n",
       "    </tr>\n",
       "  </tbody>\n",
       "</table>\n",
       "</div>"
      ],
      "text/plain": [
       "        timestep   x_motor   y_motor      x_R1      y_R1      x_R2      y_R2  \\\n",
       "499995    305389 -0.000443 -0.003477 -0.089984  0.143375 -0.062175  0.167922   \n",
       "499996    305390  0.000436 -0.003478 -0.117221  0.124398 -0.092329  0.152541   \n",
       "499997    305391  0.001287 -0.003260 -0.139224  0.099775 -0.119404  0.132126   \n",
       "499998    305392  0.002057 -0.002838 -0.154973  0.069917 -0.140981  0.106681   \n",
       "499999    305393  0.002698 -0.002237 -0.164134  0.036310 -0.156712  0.076323   \n",
       "\n",
       "            x_R3      y_R3  \n",
       "499995 -0.035236  0.136420  \n",
       "499996 -0.063476  0.128004  \n",
       "499997 -0.089434  0.114408  \n",
       "499998 -0.111484  0.096384  \n",
       "499999 -0.129781  0.074644  "
      ]
     },
     "execution_count": 51,
     "metadata": {},
     "output_type": "execute_result"
    }
   ],
   "source": [
    "df_M2.tail()"
   ]
  },
  {
   "cell_type": "markdown",
   "metadata": {},
   "source": [
    "# 电机和转子¶根据infile_M*设置格式"
   ]
  },
  {
   "cell_type": "code",
   "execution_count": 52,
   "metadata": {
    "ExecuteTime": {
     "end_time": "2019-07-18T06:39:57.966042Z",
     "start_time": "2019-07-18T06:39:57.954041Z"
    }
   },
   "outputs": [
    {
     "data": {
      "text/plain": [
       "(int, 0, 4, [0, 1, 2, 3, 4])"
      ]
     },
     "execution_count": 52,
     "metadata": {},
     "output_type": "execute_result"
    }
   ],
   "source": [
    "# python创建顺序变量名（将字符串转换成变量）\n",
    "mr = range(5)\n",
    "for i in range(0,len(mr)):\n",
    "    b = 'mr_' + str(i)\n",
    "    exec(b + '= %r' % mr[i])\n",
    "    \n",
    "mr = [mr_0,mr_1,mr_2,mr_3,mr_4]\n",
    "type(mr_1),mr_0,mr_4,mr"
   ]
  },
  {
   "cell_type": "code",
   "execution_count": 53,
   "metadata": {
    "ExecuteTime": {
     "end_time": "2019-07-18T06:39:57.988041Z",
     "start_time": "2019-07-18T06:39:57.978043Z"
    }
   },
   "outputs": [],
   "source": [
    "def Mmr(mr_x):\n",
    "    if len(mr_x) is 2:\n",
    "        mr_x = '(' + mr_x[0] + ',' + mr_x[1] + ')'\n",
    "        return(mr_x)\n",
    "    elif len(mr_x) is 3 :\n",
    "        mr_x = '(' + mr_x[:2] + ',' + mr_x[-1] + ')'\n",
    "        return(mr_x)\n",
    "    elif len(mr_x) is 4 :\n",
    "        mr_x = '(' + mr_x[:2] + ',' + mr_x[2:] + ')'\n",
    "        return(mr_x)\n",
    "    else :\n",
    "        print(\"\\033[1;31;43mError\\033[0m\")  "
   ]
  },
  {
   "cell_type": "code",
   "execution_count": 54,
   "metadata": {
    "ExecuteTime": {
     "end_time": "2019-07-18T06:39:58.003044Z",
     "start_time": "2019-07-18T06:39:57.994044Z"
    }
   },
   "outputs": [],
   "source": [
    "def mr_format(mr):\n",
    "    mr[1] = \"%s\"%Mmr(mr[1])\n",
    "    mr[2] = \"%s\"%Mmr(mr[2])\n",
    "    mr[3] = \"%s\"%Mmr(mr[3])\n",
    "    mr[4] = \"%s\"%Mmr(mr[4])\n",
    "    return mr"
   ]
  },
  {
   "cell_type": "code",
   "execution_count": 55,
   "metadata": {
    "ExecuteTime": {
     "end_time": "2019-07-18T06:39:58.020044Z",
     "start_time": "2019-07-18T06:39:58.006041Z"
    }
   },
   "outputs": [],
   "source": [
    "def stator_format(Mx_stators):\n",
    "    Mx_stators[0] = \"%s\"%Mmr(Mx_stators[0])\n",
    "    Mx_stators[1] = \"%s\"%Mmr(Mx_stators[1])\n",
    "    Mx_stators[2] = \"%s\"%Mmr(Mx_stators[2])\n",
    "    return Mx_stators"
   ]
  },
  {
   "cell_type": "code",
   "execution_count": 56,
   "metadata": {
    "ExecuteTime": {
     "end_time": "2019-07-18T06:39:58.064041Z",
     "start_time": "2019-07-18T06:39:58.025043Z"
    }
   },
   "outputs": [
    {
     "data": {
      "text/plain": [
       "(['M1111S270', '(11,11)', '/', '(11,11)', '/', '(11,11)', '/', '(11,11)'],\n",
       " ['M1111S300', '(11,11)', '/', '(11,11)', '/', '(11,11)', '/', '(11,11)'],\n",
       " ['M90S180', '(9,0)', '/', '(9,0)', '/', '(9,0)', '/', '(9,0)'],\n",
       " ['M260S350', '(26,0)', '/', '(26,0)', '/', '(26,0)', '/', '(26,0)'])"
      ]
     },
     "execution_count": 56,
     "metadata": {},
     "output_type": "execute_result"
    }
   ],
   "source": [
    "# 添加 文字text   M1:(5,5)/(5,5)/(5,5)\n",
    "for i in range(4):\n",
    "    if i is 0:\n",
    "        mr = infile_M1.split(\"\\\\\")[-2].split(\"-\")\n",
    "#         print(i,(models_1,M1_stators))\n",
    "        M1 = mr_format(mr)\n",
    "        models_1 = [mr[0],M1[1],\"/\",M1[2],\"/\",M1[3],\"/\",M1[4]]\n",
    "        M1_rr1 = R.get(M1[1])\n",
    "#         models_1[0] = \"M1S1010\"\n",
    "        M1_stators = ((models_1[0].split(\"S\")[-1]+\"_\")*3).split(\"_\")[:3]\n",
    "        M1_stators = stator_format(M1_stators)\n",
    "        M1_sr1 = R.get(M1_stators[0])\n",
    "    elif i is 1:\n",
    "        mr = infile_M2.split(\"\\\\\")[-2].split(\"-\")\n",
    "#         print(i,(models_2,M2_stators))\n",
    "        M2 = mr_format(mr)\n",
    "        models_2 = [mr[0],M2[1],\"/\",M2[2],\"/\",M2[3],\"/\",M2[4]]\n",
    "        M2_rr1 = R.get(M2[1])\n",
    "        M2_stators = ((models_2[0].split(\"S\")[-1]+\"_\")*3).split(\"_\")[:3]\n",
    "        M2_stators = stator_format(M2_stators)\n",
    "        M2_sr1 = R.get(M2_stators[0])\n",
    "    elif i is 2:\n",
    "        mr = infile_M3.split(\"\\\\\")[-2].split(\"-\")\n",
    "#         print(i,(models_3,M3_stators))\n",
    "        M3 = mr_format(mr)\n",
    "        models_3 = [mr[0],M3[1],\"/\",M3[2],\"/\",M3[3],\"/\",M3[4]]\n",
    "        M3_rr1 = R.get(M3[1])\n",
    "        M3_stators = ((models_3[0].split(\"S\")[-1]+\"_\")*3).split(\"_\")[:3]\n",
    "        M3_stators = stator_format(M3_stators)\n",
    "        M3_sr1 = R.get(M3_stators[0])\n",
    "    elif i is 3:\n",
    "        mr = infile_M4.split(\"\\\\\")[-2].split(\"-\")\n",
    "#         print(i,(models_4,M4_stators))\n",
    "        M4  = mr_format(mr)\n",
    "        models_4 = [mr[0],M4[1],\"/\",M4[2],\"/\",M4[3],\"/\",M4[4]]\n",
    "        M4_rr1 = R.get(M4[1])\n",
    "        M4_stators = ((models_4[0].split(\"S\")[-1]+\"_\")*3).split(\"_\")[:3]\n",
    "        M4_stators = stator_format(M4_stators)\n",
    "        M4_sr1 = R.get(M4_stators[0])\n",
    "models_1,models_2,models_3,models_4"
   ]
  },
  {
   "cell_type": "markdown",
   "metadata": {},
   "source": [
    "# 设置在图片中的模型编号"
   ]
  },
  {
   "cell_type": "code",
   "execution_count": 57,
   "metadata": {
    "ExecuteTime": {
     "end_time": "2019-07-18T06:39:58.080037Z",
     "start_time": "2019-07-18T06:39:58.067042Z"
    }
   },
   "outputs": [],
   "source": [
    "models_1[0] = \"M1\"\n",
    "models_2[0] = \"M4\"\n",
    "\n",
    "\n",
    "models_3[0] = \"M11\"\n",
    "models_4[0] = \"M12\""
   ]
  },
  {
   "cell_type": "markdown",
   "metadata": {},
   "source": [
    "## models text function"
   ]
  },
  {
   "cell_type": "code",
   "execution_count": 58,
   "metadata": {
    "ExecuteTime": {
     "end_time": "2019-07-18T06:39:58.267044Z",
     "start_time": "2019-07-18T06:39:58.257040Z"
    }
   },
   "outputs": [],
   "source": [
    "# models text function\n",
    "def model_format(models_x,stators_x):\n",
    "    model_str =models_x[0] + \":\"\n",
    "    space_symbol_1 = \"-\"\n",
    "    space_symbol_2 = \"/\"\n",
    "    rainbow_text(text_x,text_y,[model_str,models_x[1].strip(),space_symbol_1,\n",
    "                                models_x[3].strip(),space_symbol_2,stators_x[0].strip(),space_symbol_1,\n",
    "                                models_x[5].strip(),space_symbol_2,stators_x[1].strip(),space_symbol_1,\n",
    "                                models_x[7].strip(),space_symbol_2,stators_x[2].strip()],\n",
    "             [black_color,motor_color,black_color,\n",
    "              rotor1_color,black_color,stator_color,black_color,\n",
    "              rotor2_color,black_color,stator_color,black_color,\n",
    "              rotor3_color,black_color,stator_color\n",
    "              ],fontdict=font1) \n",
    "    "
   ]
  },
  {
   "cell_type": "code",
   "execution_count": null,
   "metadata": {},
   "outputs": [],
   "source": []
  },
  {
   "cell_type": "code",
   "execution_count": null,
   "metadata": {},
   "outputs": [],
   "source": []
  },
  {
   "cell_type": "code",
   "execution_count": null,
   "metadata": {},
   "outputs": [],
   "source": []
  },
  {
   "cell_type": "markdown",
   "metadata": {},
   "source": [
    "## 设置text字体样式，分别是字体，颜色，宽度，大小"
   ]
  },
  {
   "cell_type": "code",
   "execution_count": 59,
   "metadata": {
    "ExecuteTime": {
     "end_time": "2019-07-18T06:39:59.049042Z",
     "start_time": "2019-07-18T06:39:59.032042Z"
    }
   },
   "outputs": [],
   "source": [
    "# 添加 文字text   M1:(5,5)/(5,5)/(5,5)\n",
    "# models_1 = [\"M14:\",\"(5,5)\",\"/\",\"(8,8)\",\"/\",\"(10,10)\",\"/\",\"(13,13)\"]\n",
    "# models_2 = [\"M15:\",\"(13,13)\",\"/\",\"(10,10)\",\"/\",\"(8,8)\",\"/\",\"(5,5)\"]\n",
    "\n",
    "#———设置字体样式，分别是字体，颜色，宽度，大小\n",
    "\n",
    "\n",
    "# motor_color = \"black\"\n",
    "motor_color = \"red\"\n",
    "rotor1_color = \"#1F77B4\"   #蓝\n",
    "rotor2_color = \"#FF871F\"  #黄 orange\n",
    "rotor3_color = \"#2CA02C\"   #绿\n",
    "black_color  = \"black\"\n",
    "stator_color = \"silver\"     # silver   gray\n",
    "\n",
    "\n",
    "\n",
    "text_x = -4200\n",
    "text_y = 0.3\n",
    "\"\"\"xyticks \"\"\"\n",
    "ticks_fontsize = 22\n",
    "labelsize = ticks_fontsize\n",
    "text_fontsize = labelsize\n",
    "\n",
    "#———设置字体样式，分别是字体，颜色，宽度，大小\n",
    "\"\"\" Text \"\"\"\n",
    "font1 ={\"family\" : \"TimesNew Roman\",\n",
    "         \n",
    "        \"weight\" : \"normal\",\n",
    "        \"size\"   : \"16\",\n",
    "        }\n",
    "\n",
    "font2 ={\"family\" : \"TimesNew Roman\",\n",
    "         \"color\" : \"red\",\n",
    "        \"weight\" : \"normal\",\n",
    "        \"size\"   : \"16\",\n",
    "        }\n",
    "\"\"\" xylabelsize \"\"\"\n",
    "font3 ={\"family\" : \"serif\",\n",
    "         \"color\" : \"black\",\n",
    "        \"weight\" : \"bold\",\n",
    "        \"size\"   : \"24\",\n",
    "       }"
   ]
  },
  {
   "cell_type": "code",
   "execution_count": 60,
   "metadata": {
    "ExecuteTime": {
     "end_time": "2019-07-18T06:39:59.072042Z",
     "start_time": "2019-07-18T06:39:59.055043Z"
    }
   },
   "outputs": [
    {
     "data": {
      "text/plain": [
       "'F:\\\\_python\\\\20190602\\\\M1111S270-1111-1111-1111-1111\\\\MC_xy.csv'"
      ]
     },
     "execution_count": 60,
     "metadata": {},
     "output_type": "execute_result"
    }
   ],
   "source": [
    "infile_M1"
   ]
  },
  {
   "cell_type": "markdown",
   "metadata": {},
   "source": [
    "## df_M1   df_M2"
   ]
  },
  {
   "cell_type": "code",
   "execution_count": 61,
   "metadata": {
    "ExecuteTime": {
     "end_time": "2019-07-18T06:40:00.326043Z",
     "start_time": "2019-07-18T06:40:00.317045Z"
    }
   },
   "outputs": [
    {
     "name": "stderr",
     "output_type": "stream",
     "text": [
      "C:\\ProgramData\\Anaconda3\\lib\\site-packages\\ipykernel_launcher.py:1: UserWarning: Pandas doesn't allow columns to be created via a new attribute name - see https://pandas.pydata.org/pandas-docs/stable/indexing.html#attribute-access\n",
      "  \"\"\"Entry point for launching an IPython kernel.\n",
      "C:\\ProgramData\\Anaconda3\\lib\\site-packages\\ipykernel_launcher.py:2: UserWarning: Pandas doesn't allow columns to be created via a new attribute name - see https://pandas.pydata.org/pandas-docs/stable/indexing.html#attribute-access\n",
      "  \n",
      "C:\\ProgramData\\Anaconda3\\lib\\site-packages\\ipykernel_launcher.py:3: UserWarning: Pandas doesn't allow columns to be created via a new attribute name - see https://pandas.pydata.org/pandas-docs/stable/indexing.html#attribute-access\n",
      "  This is separate from the ipykernel package so we can avoid doing imports until\n"
     ]
    }
   ],
   "source": [
    "df_M1.MC_1 = df_M1.x_R1\n",
    "df_M1.MC_2 = df_M1.x_R2\n",
    "df_M1.MC_3= df_M1.x_R3"
   ]
  },
  {
   "cell_type": "code",
   "execution_count": 62,
   "metadata": {
    "ExecuteTime": {
     "end_time": "2019-07-18T06:40:00.400043Z",
     "start_time": "2019-07-18T06:40:00.388042Z"
    }
   },
   "outputs": [
    {
     "name": "stderr",
     "output_type": "stream",
     "text": [
      "C:\\ProgramData\\Anaconda3\\lib\\site-packages\\ipykernel_launcher.py:1: UserWarning: Pandas doesn't allow columns to be created via a new attribute name - see https://pandas.pydata.org/pandas-docs/stable/indexing.html#attribute-access\n",
      "  \"\"\"Entry point for launching an IPython kernel.\n",
      "C:\\ProgramData\\Anaconda3\\lib\\site-packages\\ipykernel_launcher.py:2: UserWarning: Pandas doesn't allow columns to be created via a new attribute name - see https://pandas.pydata.org/pandas-docs/stable/indexing.html#attribute-access\n",
      "  \n",
      "C:\\ProgramData\\Anaconda3\\lib\\site-packages\\ipykernel_launcher.py:3: UserWarning: Pandas doesn't allow columns to be created via a new attribute name - see https://pandas.pydata.org/pandas-docs/stable/indexing.html#attribute-access\n",
      "  This is separate from the ipykernel package so we can avoid doing imports until\n"
     ]
    }
   ],
   "source": [
    "df_M2.MC_1 = df_M2.x_R1\n",
    "df_M2.MC_2 = df_M2.x_R2\n",
    "df_M2.MC_3= df_M2.x_R3"
   ]
  },
  {
   "cell_type": "markdown",
   "metadata": {},
   "source": [
    "# 调整模型中转子质心的相对位置"
   ]
  },
  {
   "cell_type": "raw",
   "metadata": {
    "ExecuteTime": {
     "end_time": "2019-07-18T00:39:55.117056Z",
     "start_time": "2019-07-18T00:39:55.094053Z"
    }
   },
   "source": [
    "df_M2.MC_1 = df_M2.MC_1 - 0.213 * 2\n",
    "df_M2.MC_2 = df_M2.MC_2 - 0.213 * 3\n",
    "df_M2.MC_3 = df_M2.MC_3 - 0.213 * 4"
   ]
  },
  {
   "cell_type": "code",
   "execution_count": null,
   "metadata": {},
   "outputs": [],
   "source": []
  },
  {
   "cell_type": "code",
   "execution_count": 63,
   "metadata": {
    "ExecuteTime": {
     "end_time": "2019-07-18T06:40:00.459044Z",
     "start_time": "2019-07-18T06:40:00.455044Z"
    }
   },
   "outputs": [],
   "source": [
    "# colors??"
   ]
  },
  {
   "cell_type": "markdown",
   "metadata": {},
   "source": [
    "# rainbow_text"
   ]
  },
  {
   "cell_type": "code",
   "execution_count": 64,
   "metadata": {
    "ExecuteTime": {
     "end_time": "2019-07-18T06:40:00.754042Z",
     "start_time": "2019-07-18T06:40:00.735052Z"
    }
   },
   "outputs": [],
   "source": [
    "# 添加 文字text   M1:(5,5)/(5,5)/(5,5)\n",
    "import matplotlib.pyplot as plt\n",
    "from matplotlib import transforms  \n",
    "def rainbow_text(x,y,ls,lc,**kw):\n",
    "    \"\"\"\n",
    "    Take a list of strings ``ls`` and colors ``lc`` and place them next to each\n",
    "    other, with text ls[i] being shown in color lc[i].\n",
    "\n",
    "    This example shows how to do both vertical and horizontal text, and will\n",
    "    pass all keyword arguments to plt.text, so you can set the font size,\n",
    "    family, etc.\n",
    "    \"\"\"\n",
    "    t = plt.gca().transData\n",
    "    fig = plt.gcf()\n",
    "    plt.show()\n",
    "\n",
    "    #horizontal version\n",
    "    for s,c in zip(ls,lc):\n",
    "        text = plt.text(x,y,\" \"+s+\" \",color=c, transform=t, **kw)\n",
    "        text.draw(fig.canvas.get_renderer())\n",
    "        ex = text.get_window_extent()\n",
    "        t = transforms.offset_copy(text._transform, x=ex.width-8, units='dots')   # x=ex.width-8  调整字符串间的x轴方向距离\n",
    "\n",
    "    #vertical version\n",
    "#     for s,c in zip(ls,lc):\n",
    "#         text = plt.text(x,y,\" \"+s+\" \",color=c, transform=t,\n",
    "#                 rotation=90,va='bottom',ha='center',**kw)\n",
    "#         text.draw(fig.canvas.get_renderer())\n",
    "#         ex = text.get_window_extent()\n",
    "#         t = transforms.offset_copy(text._transform, y=ex.height, units='dots')\n",
    "\n",
    "\n",
    "# plt.figure()\n",
    "# rainbow_text(0,0.2,\"all:unicorns/poop/rainbows/!/!/!\".split(\"p\"), \n",
    "#         ['red', 'orange', 'brown', 'green', 'blue', 'purple', 'black'],\n",
    "#         size=15)\n",
    "\n",
    "\n",
    "# rainbow_text(0,0.2,[\"M1:\",\"(5,5)\",\"/(5,5)/\",\"(5,5)\"], \n",
    "#         ['red', 'orange', 'brown', 'green', 'blue', 'purple', 'black'],\n",
    "#         size=15)"
   ]
  },
  {
   "cell_type": "markdown",
   "metadata": {},
   "source": [
    "# 可视化"
   ]
  },
  {
   "cell_type": "code",
   "execution_count": 65,
   "metadata": {
    "ExecuteTime": {
     "end_time": "2019-07-18T06:40:01.599043Z",
     "start_time": "2019-07-18T06:40:01.469041Z"
    }
   },
   "outputs": [],
   "source": [
    "arange_end  = df_M1.shape[0] \n",
    "figsize=11,9    #设置输出的图片大小\n",
    "fig = plt.figure(figsize=figsize)\n",
    "#  Z\n",
    "# figsize = 22,18\n",
    "# fig = plt.figure(figsize=figsize)\n",
    "x = np.arange(0,arange_end)"
   ]
  },
  {
   "cell_type": "markdown",
   "metadata": {},
   "source": [
    "## 行数、列数、线宽"
   ]
  },
  {
   "cell_type": "code",
   "execution_count": 66,
   "metadata": {
    "ExecuteTime": {
     "end_time": "2019-07-18T06:40:02.321043Z",
     "start_time": "2019-07-18T06:40:02.315042Z"
    }
   },
   "outputs": [],
   "source": [
    "rows = 3\n",
    "columns = 2\n",
    "line_width = 0.1"
   ]
  },
  {
   "cell_type": "markdown",
   "metadata": {},
   "source": [
    "## x_start、y_end"
   ]
  },
  {
   "cell_type": "code",
   "execution_count": 67,
   "metadata": {
    "ExecuteTime": {
     "end_time": "2019-07-18T06:40:02.950043Z",
     "start_time": "2019-07-18T06:40:02.944042Z"
    }
   },
   "outputs": [],
   "source": [
    "# x_start = -5000\n",
    "# x_end = 115000\n"
   ]
  },
  {
   "cell_type": "code",
   "execution_count": 68,
   "metadata": {
    "ExecuteTime": {
     "end_time": "2019-07-18T06:40:02.977042Z",
     "start_time": "2019-07-18T06:40:02.963043Z"
    }
   },
   "outputs": [],
   "source": [
    "def xylim(df_M):\n",
    "    #         labelsize=  labelsize\n",
    "    plt.xticks([])  #去掉横坐标值\n",
    "#     plt.yticks([])  #去掉纵坐标值\n",
    "    x_start = -25000\n",
    "    x_end = df_M.shape[0] + 25000\n",
    "#     plt.ylim( y_start,y_end)\n",
    "    plt.xlim(x_start,x_end)\n",
    "    # 设置轴记号\n",
    "#     yticks([-0.2, -0.1 , 0, 0.1, 0.2],\n",
    "#         [r'$-0.2$', r'$-0.1$', r'$0$', r'$0.1$', r'$0.2$'])\n",
    "    # 在指定标记点  标记 y 坐标 的标记（值）\n",
    "#     xticks([0,25000 , 50000, 75000, 100000],\n",
    "#             [r'$0$', r'$5$', r'$10$', r'$15$', r'$20$'])\n",
    "#     end_x = len(RTR_x)\n",
    "    end_x = 500000\n",
    "    'RTR/25000 = 5ns'\n",
    "    times = 4\n",
    "    RTR_step = 25000 * times  \n",
    "    timestep = 5 * times   \n",
    "    RTR_x = list(range(0,len(df_M) + RTR_step,RTR_step))\n",
    "    xticks(RTR_x,\n",
    "    [r'${}$'.format(x) for x in RTR_x])\n",
    "    ax.set_xticklabels(list(range(0,end_x*timestep,timestep)),font1)\n",
    "    \n",
    "    plt.grid(True)   #  显示标尺\n",
    "#--------------------------------------------------------------------------------------------------------------------"
   ]
  },
  {
   "cell_type": "markdown",
   "metadata": {},
   "source": [
    "## y_start、y_end"
   ]
  },
  {
   "cell_type": "code",
   "execution_count": 69,
   "metadata": {
    "ExecuteTime": {
     "end_time": "2019-07-18T06:40:04.052052Z",
     "start_time": "2019-07-18T06:40:04.044052Z"
    }
   },
   "outputs": [],
   "source": [
    "y_dy = 1.0\n",
    "y_dy_half = y_dy/2\n",
    "# M1_y_start = min(df_M1.MC_1) - y_dy+0.25\n",
    "# M1_y_end = max(df_M1.MC_1) + y_dy\n",
    "# M2_y_start = min(df_M1.MC_2) - y_dy -0.5\n",
    "# M2_y_end = max(df_M1.MC_2) + y_dy +0.25\n",
    "# M3_y_start = min(df_M1.MC_3) - y_dy -0.75\n",
    "# M3_y_end = max(df_M1.MC_3) + y_dy +0.1\n",
    "M1_y_start = -0.25\n",
    "M1_y_end = 0.25\n",
    "M2_y_start = -0.25\n",
    "M2_y_end = 0.25\n",
    "M3_y_start = -0.25\n",
    "M3_y_end = 0.3\n",
    "add_y_blank = 1"
   ]
  },
  {
   "cell_type": "markdown",
   "metadata": {},
   "source": [
    "## 5，6"
   ]
  },
  {
   "cell_type": "code",
   "execution_count": 70,
   "metadata": {
    "ExecuteTime": {
     "end_time": "2019-07-18T06:40:05.891040Z",
     "start_time": "2019-07-18T06:40:04.503047Z"
    }
   },
   "outputs": [
    {
     "name": "stdout",
     "output_type": "stream",
     "text": [
      "M1: -0.25 0.25\n"
     ]
    }
   ],
   "source": [
    "picture = 5\n",
    "ax = fig.add_subplot(rows,columns,picture)\n",
    "ax.scatter(x,df_M1.MC_1,picture,linewidth = line_width,color= rotor1_color )\n",
    "xylim(df_M1)\n",
    "\n",
    "print(\"M1:\",M1_y_start,M1_y_end)\n",
    "plt.ylim(M1_y_start,M1_y_end)\n",
    "    # 设置轴记号\n",
    "yticks([ -0.2,-0.1,0.0,0.1,0.2],\n",
    "    [r'$-0.2$', r'$-0.1$', r'$0.0$', r'$0.1$', r'$0.2$'])\n",
    "ax.tick_params(axis='y',labelsize=ticks_fontsize)# y轴\n",
    "ax.tick_params(axis='x',labelsize=ticks_fontsize)# x轴\n",
    "\n",
    "\n",
    "# 设置x轴的标签\n",
    "# plt.xlabel('Time(ns)',fontdict=font3)\n",
    "# 设置y轴的标签\n",
    "# plt.ylabel('Mass Centers(nm)',fontdict=font3)\n",
    "\n",
    "\n",
    "#隐藏图三的top spine\n",
    "# ax.spines['top'].set_color('none')\n",
    "\n",
    "picture = 6\n",
    "ax = fig.add_subplot(rows,columns,picture)\n",
    "ax.scatter(x,df_M2.MC_1,picture,linewidth = line_width,color= rotor1_color )\n",
    "xylim(df_M2)\n",
    "plt.ylim(M1_y_start,M1_y_end)\n",
    "    # 设置轴记号\n",
    "yticks([ -0.2,-0.1,0.0,0.1,0.2],\n",
    "    [r'$-0.2$', r'$-0.1$', r'$0.0$', r'$0.1$', r'$0.2$'])\n",
    "ax.tick_params(axis='y',labelsize=0,colors='w')# y轴\n",
    "ax.tick_params(axis='x',labelsize=ticks_fontsize)# x轴\n",
    "#隐藏图三的top spine\n",
    "# ax.spines['top'].set_color('none')\n",
    "# ax.spines['left'].set_color('none')"
   ]
  },
  {
   "cell_type": "markdown",
   "metadata": {},
   "source": [
    "## 3,4"
   ]
  },
  {
   "cell_type": "code",
   "execution_count": 71,
   "metadata": {
    "ExecuteTime": {
     "end_time": "2019-07-18T06:40:06.953039Z",
     "start_time": "2019-07-18T06:40:05.897043Z"
    }
   },
   "outputs": [
    {
     "name": "stdout",
     "output_type": "stream",
     "text": [
      "M2: -0.25 0.25\n"
     ]
    }
   ],
   "source": [
    "#--------------------------------------------------------------------------------------------------------------------\n",
    "picture = 3\n",
    "ax = fig.add_subplot(rows,columns,picture)\n",
    "ax.scatter(x,df_M1.MC_2,picture,linewidth = line_width,color= rotor2_color )\n",
    "xylim(df_M1)\n",
    "\n",
    "print(\"M2:\",M2_y_start,M2_y_end)\n",
    "plt.ylim( M2_y_start,M2_y_end)\n",
    "    # 设置轴记号\n",
    "yticks([ -0.2,-0.1,0.0,0.1,0.2],\n",
    "    [r'$-0.2$', r'$-0.1$', r'$0.0$', r'$0.1$', r'$0.2$'])\n",
    "# 隐藏坐标轴ticks\n",
    "ax.tick_params(axis='y',labelsize=ticks_fontsize)# y轴\n",
    "ax.tick_params(axis='x',labelsize=0,colors='w')# x轴\n",
    "# ax.spines['top'].set_color('none')\n",
    "ax.spines['bottom'].set_color('none')\n",
    "\n",
    "picture = 4\n",
    "ax = fig.add_subplot(rows,columns,picture)\n",
    "ax.scatter(x,df_M2.MC_2,picture,linewidth = line_width,color= rotor2_color )\n",
    "xylim(df_M2)\n",
    "plt.ylim( M2_y_start,M2_y_end)\n",
    "    # 设置轴记号\n",
    "yticks([ -0.2,-0.1,0.0,0.1,0.2],\n",
    "    [r'$-0.2$', r'$-0.1$', r'$0.0$', r'$0.1$', r'$0.2$'])\n",
    "# 隐藏坐标轴ticks\n",
    "ax.tick_params(axis='y',labelsize=0,colors='w')# y轴\n",
    "ax.tick_params(axis='x',labelsize=0,colors='w')# x轴\n",
    "# ax.spines['top'].set_color('none')\n",
    "ax.spines['bottom'].set_color('none')"
   ]
  },
  {
   "cell_type": "markdown",
   "metadata": {},
   "source": [
    "## 1，2"
   ]
  },
  {
   "cell_type": "code",
   "execution_count": 72,
   "metadata": {
    "ExecuteTime": {
     "end_time": "2019-07-18T06:40:10.834038Z",
     "start_time": "2019-07-18T06:40:07.860042Z"
    }
   },
   "outputs": [
    {
     "name": "stdout",
     "output_type": "stream",
     "text": [
      "M3: -0.25 0.4\n"
     ]
    }
   ],
   "source": [
    "#--------------------------------------------------------------------------------------------------------------------\n",
    "picture = 1\n",
    "ax = fig.add_subplot(rows,columns,picture)\n",
    "ax.scatter(x,df_M1.MC_3,picture,linewidth = line_width,color= rotor3_color ) \n",
    "xylim(df_M1)\n",
    "M3_y_end = 0.4\n",
    "print(\"M3:\",M3_y_start,M3_y_end)\n",
    "plt.ylim( M3_y_start,M3_y_end)\n",
    "    # 设置轴记号\n",
    "yticks([ -0.2,-0.1,0.0,0.1,0.2],\n",
    "    [r'$-0.2$', r'$-0.1$', r'$0.0$', r'$0.1$', r'$0.2$'])\n",
    "# 隐藏坐标轴ticks\n",
    "ax.tick_params(axis='y',labelsize=ticks_fontsize)# y轴\n",
    "ax.tick_params(axis='x',labelsize=0,colors='w')# x轴\n",
    "# ax.spines['top'].set_color('none')\n",
    "ax.spines['bottom'].set_color('none')\n",
    "# ax.spines['left'].set_color('none')\n",
    "\n",
    "\n",
    "\n",
    "#   models_text\n",
    "model_format(models_1,M1_stators)  \n",
    "\n",
    "\n",
    "\n",
    "picture = 2\n",
    "ax = fig.add_subplot(rows,columns,picture)\n",
    "ax.scatter(x,df_M2.MC_3,picture,linewidth = line_width,color= rotor3_color ) \n",
    "xylim(df_M2)\n",
    "plt.ylim( M3_y_start,M3_y_end)\n",
    "    # 设置轴记号\n",
    "yticks([ -0.2,-0.1,0.0,0.1,0.2],\n",
    "    [r'$-0.2$', r'$-0.1$', r'$0.0$', r'$0.1$', r'$0.2$'])\n",
    "# 隐藏坐标轴ticks\n",
    "ax.tick_params(axis='y',labelsize=0,colors='w')# y轴\n",
    "ax.tick_params(axis='x',labelsize=0,colors='w')# x轴\n",
    "# ax.spines['top'].set_color('none')\n",
    "ax.spines['bottom'].set_color('none')\n",
    "# ax.spines['left'].set_color('none')\n",
    "\n",
    "\n",
    "\n",
    "#   models_text\n",
    "model_format(models_2,M2_stators)  \n",
    "\n",
    "\n",
    "#--------------------------------------------------------------------------------------------------------------------\n",
    "### 调整axes边距 九宫格  紧凑\n",
    "plt.subplots_adjust(wspace =0, hspace =0)\n",
    "plt.grid(True)   #  显示标尺\n",
    "\n",
    "  \n",
    "\n",
    "# rainbow_text(text_addx,text_addy,[\"%.3f\" % df_M4.RTR_1[99999],\"%.3f\" % df_M4.RTR_2[99999],\"%.3f\" % df_M4.RTR_3[99999]],\n",
    "#              [rotor1_color,rotor2_color,rotor3_color],size=text_fontsize)    \n",
    "\n",
    "### 调整axes边距 九宫格  紧凑\n",
    "plt.subplots_adjust(wspace =0, hspace =0)"
   ]
  },
  {
   "cell_type": "markdown",
   "metadata": {},
   "source": [
    "## 添加一张大的画布将小画布放到这里便于添加横纵坐标轴标签"
   ]
  },
  {
   "cell_type": "code",
   "execution_count": 73,
   "metadata": {
    "scrolled": true
   },
   "outputs": [
    {
     "data": {
      "text/plain": [
       "Text(0, 0.5, 'Mass Centers(nm)')"
      ]
     },
     "execution_count": 73,
     "metadata": {},
     "output_type": "execute_result"
    }
   ],
   "source": [
    "fig.add_subplot(111, frameon=False)\n",
    "# hide tick and tick label of the big axes\n",
    "plt.tick_params(labelcolor='none', top='off', bottom='off', left='off', right='off')\n",
    "plt.grid(False)\n",
    "plt.xlabel(\"Time(ns)\",fontdict=font3,labelpad=18)\n",
    "plt.ylabel(\"Mass Centers(nm)\",fontdict=font3,labelpad=35)"
   ]
  },
  {
   "cell_type": "markdown",
   "metadata": {},
   "source": [
    "# 保存图片"
   ]
  },
  {
   "cell_type": "code",
   "execution_count": 74,
   "metadata": {
    "ExecuteTime": {
     "end_time": "2019-07-18T06:40:10.834038Z",
     "start_time": "2019-07-18T06:40:07.860042Z"
    }
   },
   "outputs": [],
   "source": [
    "plt.show()\n",
    "plt.savefig(catalog + \"\\\\2X2MCFigure_4.png\")\n",
    "\n",
    "# help(plt.xlabel)"
   ]
  },
  {
   "cell_type": "code",
   "execution_count": 75,
   "metadata": {},
   "outputs": [
    {
     "data": {
      "text/html": [
       "<div>\n",
       "<style scoped>\n",
       "    .dataframe tbody tr th:only-of-type {\n",
       "        vertical-align: middle;\n",
       "    }\n",
       "\n",
       "    .dataframe tbody tr th {\n",
       "        vertical-align: top;\n",
       "    }\n",
       "\n",
       "    .dataframe thead th {\n",
       "        text-align: right;\n",
       "    }\n",
       "</style>\n",
       "<table border=\"1\" class=\"dataframe\">\n",
       "  <thead>\n",
       "    <tr style=\"text-align: right;\">\n",
       "      <th></th>\n",
       "      <th>timestep</th>\n",
       "      <th>x_motor</th>\n",
       "      <th>y_motor</th>\n",
       "      <th>x_R1</th>\n",
       "      <th>y_R1</th>\n",
       "      <th>x_R2</th>\n",
       "      <th>y_R2</th>\n",
       "      <th>x_R3</th>\n",
       "      <th>y_R3</th>\n",
       "    </tr>\n",
       "  </thead>\n",
       "  <tbody>\n",
       "    <tr>\n",
       "      <th>499995</th>\n",
       "      <td>99689</td>\n",
       "      <td>0.004437</td>\n",
       "      <td>-0.000451</td>\n",
       "      <td>0.011775</td>\n",
       "      <td>0.005115</td>\n",
       "      <td>0.003742</td>\n",
       "      <td>-0.001446</td>\n",
       "      <td>-0.008169</td>\n",
       "      <td>-0.001356</td>\n",
       "    </tr>\n",
       "    <tr>\n",
       "      <th>499996</th>\n",
       "      <td>99690</td>\n",
       "      <td>0.004410</td>\n",
       "      <td>0.000667</td>\n",
       "      <td>0.011212</td>\n",
       "      <td>0.000972</td>\n",
       "      <td>0.001463</td>\n",
       "      <td>-0.003167</td>\n",
       "      <td>-0.009985</td>\n",
       "      <td>-0.003489</td>\n",
       "    </tr>\n",
       "    <tr>\n",
       "      <th>499997</th>\n",
       "      <td>99691</td>\n",
       "      <td>0.004105</td>\n",
       "      <td>0.001743</td>\n",
       "      <td>0.006579</td>\n",
       "      <td>-0.002844</td>\n",
       "      <td>0.000003</td>\n",
       "      <td>-0.002489</td>\n",
       "      <td>-0.008988</td>\n",
       "      <td>-0.002374</td>\n",
       "    </tr>\n",
       "    <tr>\n",
       "      <th>499998</th>\n",
       "      <td>99692</td>\n",
       "      <td>0.003543</td>\n",
       "      <td>0.002709</td>\n",
       "      <td>0.001596</td>\n",
       "      <td>-0.004468</td>\n",
       "      <td>0.000718</td>\n",
       "      <td>-0.000256</td>\n",
       "      <td>-0.002635</td>\n",
       "      <td>-0.001924</td>\n",
       "    </tr>\n",
       "    <tr>\n",
       "      <th>499999</th>\n",
       "      <td>99693</td>\n",
       "      <td>0.002758</td>\n",
       "      <td>0.003505</td>\n",
       "      <td>-0.001257</td>\n",
       "      <td>-0.006532</td>\n",
       "      <td>0.000012</td>\n",
       "      <td>-0.001174</td>\n",
       "      <td>0.005370</td>\n",
       "      <td>-0.002114</td>\n",
       "    </tr>\n",
       "  </tbody>\n",
       "</table>\n",
       "</div>"
      ],
      "text/plain": [
       "        timestep   x_motor   y_motor      x_R1      y_R1      x_R2      y_R2  \\\n",
       "499995     99689  0.004437 -0.000451  0.011775  0.005115  0.003742 -0.001446   \n",
       "499996     99690  0.004410  0.000667  0.011212  0.000972  0.001463 -0.003167   \n",
       "499997     99691  0.004105  0.001743  0.006579 -0.002844  0.000003 -0.002489   \n",
       "499998     99692  0.003543  0.002709  0.001596 -0.004468  0.000718 -0.000256   \n",
       "499999     99693  0.002758  0.003505 -0.001257 -0.006532  0.000012 -0.001174   \n",
       "\n",
       "            x_R3      y_R3  \n",
       "499995 -0.008169 -0.001356  \n",
       "499996 -0.009985 -0.003489  \n",
       "499997 -0.008988 -0.002374  \n",
       "499998 -0.002635 -0.001924  \n",
       "499999  0.005370 -0.002114  "
      ]
     },
     "execution_count": 75,
     "metadata": {},
     "output_type": "execute_result"
    }
   ],
   "source": [
    "df_M1.tail()"
   ]
  },
  {
   "cell_type": "code",
   "execution_count": 76,
   "metadata": {},
   "outputs": [
    {
     "data": {
      "text/html": [
       "<div>\n",
       "<style scoped>\n",
       "    .dataframe tbody tr th:only-of-type {\n",
       "        vertical-align: middle;\n",
       "    }\n",
       "\n",
       "    .dataframe tbody tr th {\n",
       "        vertical-align: top;\n",
       "    }\n",
       "\n",
       "    .dataframe thead th {\n",
       "        text-align: right;\n",
       "    }\n",
       "</style>\n",
       "<table border=\"1\" class=\"dataframe\">\n",
       "  <thead>\n",
       "    <tr style=\"text-align: right;\">\n",
       "      <th></th>\n",
       "      <th>timestep</th>\n",
       "      <th>x_motor</th>\n",
       "      <th>y_motor</th>\n",
       "      <th>x_R1</th>\n",
       "      <th>y_R1</th>\n",
       "      <th>x_R2</th>\n",
       "      <th>y_R2</th>\n",
       "      <th>x_R3</th>\n",
       "      <th>y_R3</th>\n",
       "    </tr>\n",
       "  </thead>\n",
       "  <tbody>\n",
       "    <tr>\n",
       "      <th>499995</th>\n",
       "      <td>305389</td>\n",
       "      <td>-0.000443</td>\n",
       "      <td>-0.003477</td>\n",
       "      <td>-0.089984</td>\n",
       "      <td>0.143375</td>\n",
       "      <td>-0.062175</td>\n",
       "      <td>0.167922</td>\n",
       "      <td>-0.035236</td>\n",
       "      <td>0.136420</td>\n",
       "    </tr>\n",
       "    <tr>\n",
       "      <th>499996</th>\n",
       "      <td>305390</td>\n",
       "      <td>0.000436</td>\n",
       "      <td>-0.003478</td>\n",
       "      <td>-0.117221</td>\n",
       "      <td>0.124398</td>\n",
       "      <td>-0.092329</td>\n",
       "      <td>0.152541</td>\n",
       "      <td>-0.063476</td>\n",
       "      <td>0.128004</td>\n",
       "    </tr>\n",
       "    <tr>\n",
       "      <th>499997</th>\n",
       "      <td>305391</td>\n",
       "      <td>0.001287</td>\n",
       "      <td>-0.003260</td>\n",
       "      <td>-0.139224</td>\n",
       "      <td>0.099775</td>\n",
       "      <td>-0.119404</td>\n",
       "      <td>0.132126</td>\n",
       "      <td>-0.089434</td>\n",
       "      <td>0.114408</td>\n",
       "    </tr>\n",
       "    <tr>\n",
       "      <th>499998</th>\n",
       "      <td>305392</td>\n",
       "      <td>0.002057</td>\n",
       "      <td>-0.002838</td>\n",
       "      <td>-0.154973</td>\n",
       "      <td>0.069917</td>\n",
       "      <td>-0.140981</td>\n",
       "      <td>0.106681</td>\n",
       "      <td>-0.111484</td>\n",
       "      <td>0.096384</td>\n",
       "    </tr>\n",
       "    <tr>\n",
       "      <th>499999</th>\n",
       "      <td>305393</td>\n",
       "      <td>0.002698</td>\n",
       "      <td>-0.002237</td>\n",
       "      <td>-0.164134</td>\n",
       "      <td>0.036310</td>\n",
       "      <td>-0.156712</td>\n",
       "      <td>0.076323</td>\n",
       "      <td>-0.129781</td>\n",
       "      <td>0.074644</td>\n",
       "    </tr>\n",
       "  </tbody>\n",
       "</table>\n",
       "</div>"
      ],
      "text/plain": [
       "        timestep   x_motor   y_motor      x_R1      y_R1      x_R2      y_R2  \\\n",
       "499995    305389 -0.000443 -0.003477 -0.089984  0.143375 -0.062175  0.167922   \n",
       "499996    305390  0.000436 -0.003478 -0.117221  0.124398 -0.092329  0.152541   \n",
       "499997    305391  0.001287 -0.003260 -0.139224  0.099775 -0.119404  0.132126   \n",
       "499998    305392  0.002057 -0.002838 -0.154973  0.069917 -0.140981  0.106681   \n",
       "499999    305393  0.002698 -0.002237 -0.164134  0.036310 -0.156712  0.076323   \n",
       "\n",
       "            x_R3      y_R3  \n",
       "499995 -0.035236  0.136420  \n",
       "499996 -0.063476  0.128004  \n",
       "499997 -0.089434  0.114408  \n",
       "499998 -0.111484  0.096384  \n",
       "499999 -0.129781  0.074644  "
      ]
     },
     "execution_count": 76,
     "metadata": {},
     "output_type": "execute_result"
    }
   ],
   "source": [
    "df_M2.tail()"
   ]
  },
  {
   "cell_type": "code",
   "execution_count": null,
   "metadata": {},
   "outputs": [],
   "source": []
  }
 ],
 "metadata": {
  "hide_input": false,
  "kernelspec": {
   "display_name": "Python 3",
   "language": "python",
   "name": "python3"
  },
  "language_info": {
   "codemirror_mode": {
    "name": "ipython",
    "version": 3
   },
   "file_extension": ".py",
   "mimetype": "text/x-python",
   "name": "python",
   "nbconvert_exporter": "python",
   "pygments_lexer": "ipython3",
   "version": "3.7.3"
  },
  "toc": {
   "base_numbering": 1,
   "nav_menu": {},
   "number_sections": true,
   "sideBar": true,
   "skip_h1_title": false,
   "title_cell": "Table of Contents",
   "title_sidebar": "Contents",
   "toc_cell": false,
   "toc_position": {
    "height": "calc(100% - 180px)",
    "left": "10px",
    "top": "150px",
    "width": "426.667px"
   },
   "toc_section_display": true,
   "toc_window_display": true
  },
  "varInspector": {
   "cols": {
    "lenName": 16,
    "lenType": 16,
    "lenVar": 40
   },
   "kernels_config": {
    "python": {
     "delete_cmd_postfix": "",
     "delete_cmd_prefix": "del ",
     "library": "var_list.py",
     "varRefreshCmd": "print(var_dic_list())"
    },
    "r": {
     "delete_cmd_postfix": ") ",
     "delete_cmd_prefix": "rm(",
     "library": "var_list.r",
     "varRefreshCmd": "cat(var_dic_list()) "
    }
   },
   "types_to_exclude": [
    "module",
    "function",
    "builtin_function_or_method",
    "instance",
    "_Feature"
   ],
   "window_display": false
  }
 },
 "nbformat": 4,
 "nbformat_minor": 2
}
