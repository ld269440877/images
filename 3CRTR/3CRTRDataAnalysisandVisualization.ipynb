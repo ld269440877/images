{
 "cells": [
  {
   "cell_type": "markdown",
   "metadata": {},
   "source": [
    "## RTR"
   ]
  },
  {
   "cell_type": "markdown",
   "metadata": {},
   "source": [
    "### python matplotlib 画图刻度、图例等字体、字体大小、刻度密度、线条样式设置 - Taylover-Cam的博客 - CSDN博客\n",
    "https://blog.csdn.net/u010358304/article/details/78906768\n",
    "（原）python中matplotlib的颜色及线条控制 - darkknightzh - 博客园\n",
    "http://www.cnblogs.com/darkknightzh/p/6117528.html\n",
    "-----装了seaborn扩展的话，在字典seaborn.xkcd_rgb中包含所有的xkcd crowdsourced color names。如下：\n",
    "plt.plot([1,2], lw=4, c=seaborn.xkcd_rgb['baby poop green'])"
   ]
  },
  {
   "cell_type": "code",
   "execution_count": 63,
   "metadata": {
    "ExecuteTime": {
     "end_time": "2019-07-18T02:41:11.034740Z",
     "start_time": "2019-07-18T02:41:10.640740Z"
    },
    "scrolled": false
   },
   "outputs": [
    {
     "name": "stdout",
     "output_type": "stream",
     "text": [
      "Using matplotlib backend: Qt5Agg\n",
      "Populating the interactive namespace from numpy and matplotlib\n"
     ]
    },
    {
     "name": "stderr",
     "output_type": "stream",
     "text": [
      "C:\\ProgramData\\Anaconda3\\lib\\site-packages\\IPython\\core\\magics\\pylab.py:160: UserWarning: pylab import has clobbered these variables: ['figsize', 'e']\n",
      "`%matplotlib` prevents importing * from pylab and numpy\n",
      "  \"\\n`%matplotlib` prevents importing * from pylab and numpy\"\n"
     ]
    }
   ],
   "source": [
    "import pandas  as pd\n",
    "import numpy as np \n",
    "from pandas import DataFrame,Series\n",
    "import os   #检验文件是否存在，避免重复写入\n",
    "import matplotlib.pyplot as plt\n",
    "from mpl_toolkits.mplot3d import Axes3D\n",
    "import re\n",
    "%pylab\n",
    "# import matplotlib mpl\n",
    "plt.rcParams['font.sans-serif']=['SimHei'] #用来正常显示中文标签\n",
    "plt.rcParams['axes.unicode_minus']=False #用来正常显示负号\n",
    "# matplotlib.pyplot.colors?"
   ]
  },
  {
   "cell_type": "code",
   "execution_count": 64,
   "metadata": {
    "ExecuteTime": {
     "end_time": "2019-07-18T02:41:11.072743Z",
     "start_time": "2019-07-18T02:41:11.056741Z"
    }
   },
   "outputs": [],
   "source": [
    "#———设置字体样式，分别是字体，颜色，宽度，大小\n",
    "font1 ={\"family\" : \"TimesNew Roman\",\n",
    "         \n",
    "        \"weight\" : \"normal\",\n",
    "        \"size\"   : \"22\",\n",
    "        }\n",
    "\n",
    "font2 ={\"family\" : \"TimesNew Roman\",\n",
    "         \"color\" : \"red\",\n",
    "        \"weight\" : \"normal\",\n",
    "        \"size\"   : \"16\",\n",
    "        }\n",
    "font3 ={\"family\" : \"serif\",\n",
    "         \"color\" : \"black\",\n",
    "        \"weight\" : \"bold\",\n",
    "        \"size\"   : \"24\",\n",
    "       }"
   ]
  },
  {
   "cell_type": "markdown",
   "metadata": {},
   "source": [
    "#  [固定目录] （F:_python\\python_module）"
   ]
  },
  {
   "cell_type": "code",
   "execution_count": 65,
   "metadata": {
    "ExecuteTime": {
     "end_time": "2019-07-18T02:41:11.104742Z",
     "start_time": "2019-07-18T02:41:11.077742Z"
    }
   },
   "outputs": [
    {
     "data": {
      "text/plain": [
       "'F:\\\\_python\\\\python_module'"
      ]
     },
     "execution_count": 65,
     "metadata": {},
     "output_type": "execute_result"
    }
   ],
   "source": [
    "os.chdir((r\"F:\\_python\\python_module\").replace(r\"\\\\\",r\"\\\\\\\\\"))\n",
    "catalog_0 = os.getcwd()\n",
    "catalog_0"
   ]
  },
  {
   "cell_type": "markdown",
   "metadata": {},
   "source": [
    "#  [可变目录] （F:_python\\20190516）"
   ]
  },
  {
   "cell_type": "code",
   "execution_count": 66,
   "metadata": {
    "ExecuteTime": {
     "end_time": "2019-07-18T02:41:51.089702Z",
     "start_time": "2019-07-18T02:41:11.493741Z"
    }
   },
   "outputs": [
    {
     "name": "stdout",
     "output_type": "stream",
     "text": [
      "输入处理文件的windows路径：F:\\_python\\20190710\\M55S1010-55-1010-1515-2020\n"
     ]
    },
    {
     "data": {
      "text/plain": [
       "'F:\\\\_python\\\\20190710\\\\M55S1010-55-1010-1515-2020'"
      ]
     },
     "execution_count": 66,
     "metadata": {},
     "output_type": "execute_result"
    }
   ],
   "source": [
    "temp = input(\"输入处理文件的windows路径：\")\n",
    "# temp = r\"F:\\_python\\20190515\\M1S170-55-55-55-55\"\n",
    "catalog_1_input = (temp).replace(r\"\\\\\",r\"\\\\\\\\\")\n",
    "os.chdir(catalog_1_input)\n",
    "catalog_1 = os.getcwd()  #:获得绝对路径\n",
    "path = catalog_1   \n",
    "catalog_1 "
   ]
  },
  {
   "cell_type": "markdown",
   "metadata": {},
   "source": [
    "# 电机和转子"
   ]
  },
  {
   "cell_type": "code",
   "execution_count": 67,
   "metadata": {
    "ExecuteTime": {
     "end_time": "2019-07-18T02:41:51.112704Z",
     "start_time": "2019-07-18T02:41:51.097702Z"
    }
   },
   "outputs": [],
   "source": [
    "mr = catalog_1.split(\"\\\\\")[-1].split(\"-\")\n",
    "# mr_temp = 'M1111S280-1111-1111-1111-1111'\n",
    "# mr = mr_temp.split('-')"
   ]
  },
  {
   "cell_type": "code",
   "execution_count": 68,
   "metadata": {},
   "outputs": [
    {
     "data": {
      "text/plain": [
       "['M55S1010', '55', '1010', '1515', '2020']"
      ]
     },
     "execution_count": 68,
     "metadata": {},
     "output_type": "execute_result"
    }
   ],
   "source": [
    "mr"
   ]
  },
  {
   "cell_type": "code",
   "execution_count": 69,
   "metadata": {
    "ExecuteTime": {
     "end_time": "2019-07-18T02:41:51.168705Z",
     "start_time": "2019-07-18T02:41:51.135708Z"
    }
   },
   "outputs": [
    {
     "data": {
      "text/plain": [
       "(str, 'M55S1010', '2020', ['M55S1010', '55', '1010', '1515', '2020'])"
      ]
     },
     "execution_count": 69,
     "metadata": {},
     "output_type": "execute_result"
    }
   ],
   "source": [
    "# python创建顺序变量名（将字符串转换成变量）\n",
    "for i in range(0,len(mr)):\n",
    "    b = 'mr_' + str(i)\n",
    "    exec(b + '= %r' % mr[i])\n",
    "    \n",
    "mr = [mr_0,mr_1,mr_2,mr_3,mr_4]\n",
    "type(mr_1),mr_0,mr_4,mr"
   ]
  },
  {
   "cell_type": "code",
   "execution_count": 70,
   "metadata": {},
   "outputs": [],
   "source": [
    "# mr[4] = mr[1]\n",
    "# mr_4"
   ]
  },
  {
   "cell_type": "code",
   "execution_count": 71,
   "metadata": {},
   "outputs": [],
   "source": [
    "# mr_1,mr_2,mr_3,mr_4 = mr[1:]\n",
    "# mr_1,mr_2,mr_3,mr_4"
   ]
  },
  {
   "cell_type": "code",
   "execution_count": 72,
   "metadata": {
    "ExecuteTime": {
     "end_time": "2019-07-18T02:41:51.211707Z",
     "start_time": "2019-07-18T02:41:51.178704Z"
    }
   },
   "outputs": [],
   "source": [
    "def Mmr(mr_x):\n",
    "    if len(mr_x) is 2:\n",
    "        mr_x = '(' + mr_x[0] + ',' + mr_x[1] + ')'\n",
    "        return(mr_x)\n",
    "    elif len(mr_x) is 3 :\n",
    "        mr_x = '(' + mr_x[:2] + ',' + mr_x[-1] + ')'\n",
    "        return(mr_x)\n",
    "    elif len(mr_x) is 4 :\n",
    "        mr_x = '(' + mr_x[:2] + ',' + mr_x[2:] + ')'\n",
    "        return(mr_x)\n",
    "    else :\n",
    "        print(\"\\033[1;31;43mError\\033[0m\")"
   ]
  },
  {
   "cell_type": "code",
   "execution_count": 73,
   "metadata": {
    "ExecuteTime": {
     "end_time": "2019-07-18T02:41:51.244707Z",
     "start_time": "2019-07-18T02:41:51.222705Z"
    }
   },
   "outputs": [
    {
     "data": {
      "text/plain": [
       "0.407"
      ]
     },
     "execution_count": 73,
     "metadata": {},
     "output_type": "execute_result"
    }
   ],
   "source": [
    "0.746-0.339"
   ]
  },
  {
   "cell_type": "code",
   "execution_count": 74,
   "metadata": {
    "ExecuteTime": {
     "end_time": "2019-07-18T02:41:51.260707Z",
     "start_time": "2019-07-18T02:41:51.252709Z"
    }
   },
   "outputs": [],
   "source": [
    "mr_1 = \"%-7s\"%Mmr(mr_1)\n",
    "mr_2 = \"%-7s\"%Mmr(mr_2)\n",
    "mr_3 = \"%-7s\"%Mmr(mr_3)\n",
    "mr_4 = \"%-7s\"%Mmr(mr_4)"
   ]
  },
  {
   "cell_type": "code",
   "execution_count": 75,
   "metadata": {},
   "outputs": [],
   "source": [
    "mr_4 = mr_3"
   ]
  },
  {
   "cell_type": "markdown",
   "metadata": {},
   "source": [
    "# 定子"
   ]
  },
  {
   "cell_type": "code",
   "execution_count": 76,
   "metadata": {
    "ExecuteTime": {
     "end_time": "2019-07-18T02:41:58.635602Z",
     "start_time": "2019-07-18T02:41:51.268710Z"
    }
   },
   "outputs": [
    {
     "name": "stdout",
     "output_type": "stream",
     "text": [
      "转子123的定子分别为:S--%%--%%--%%S-1515-2020-2525\n"
     ]
    }
   ],
   "source": [
    "temp_0 = input(\"转子123的定子分别为:S--%%--%%--%%\")"
   ]
  },
  {
   "cell_type": "code",
   "execution_count": 77,
   "metadata": {
    "ExecuteTime": {
     "end_time": "2019-07-18T02:41:58.660603Z",
     "start_time": "2019-07-18T02:41:58.651607Z"
    },
    "scrolled": true
   },
   "outputs": [
    {
     "data": {
      "text/plain": [
       "['S', '1515', '2020', '2525']"
      ]
     },
     "execution_count": 77,
     "metadata": {},
     "output_type": "execute_result"
    }
   ],
   "source": [
    "temp_1 = temp_0.split(\"-\")\n",
    "temp_1"
   ]
  },
  {
   "cell_type": "code",
   "execution_count": 78,
   "metadata": {
    "ExecuteTime": {
     "end_time": "2019-07-18T02:41:58.709603Z",
     "start_time": "2019-07-18T02:41:58.669607Z"
    }
   },
   "outputs": [
    {
     "data": {
      "text/plain": [
       "(str, '1515', '2525', ['1515', '2020', '2525'])"
      ]
     },
     "execution_count": 78,
     "metadata": {},
     "output_type": "execute_result"
    }
   ],
   "source": [
    "# python创建顺序变量名（将字符串转换成变量）\n",
    "for i in range(1,len(temp_1)):\n",
    "    b = 'stator_' + str(i)\n",
    "    exec(b + '= %r' % temp_1[i])\n",
    "    \n",
    "stators = [stator_1,stator_2,stator_3]\n",
    "type(stator_1),stator_1,stator_3,stators"
   ]
  },
  {
   "cell_type": "code",
   "execution_count": 79,
   "metadata": {
    "ExecuteTime": {
     "end_time": "2019-07-18T02:41:58.723606Z",
     "start_time": "2019-07-18T02:41:58.715607Z"
    }
   },
   "outputs": [],
   "source": [
    "stator_1 = \"%-7s\"%Mmr(stator_1)\n",
    "stator_2 = \"%-7s\"%Mmr(stator_2)\n",
    "stator_3 = \"%-7s\"%Mmr(stator_3)"
   ]
  },
  {
   "cell_type": "code",
   "execution_count": 80,
   "metadata": {
    "ExecuteTime": {
     "end_time": "2019-07-18T02:41:58.747608Z",
     "start_time": "2019-07-18T02:41:58.728608Z"
    }
   },
   "outputs": [
    {
     "data": {
      "text/plain": [
       "'(15,15)'"
      ]
     },
     "execution_count": 80,
     "metadata": {},
     "output_type": "execute_result"
    }
   ],
   "source": [
    "stator_1"
   ]
  },
  {
   "cell_type": "code",
   "execution_count": 81,
   "metadata": {
    "ExecuteTime": {
     "end_time": "2019-07-18T02:41:58.789605Z",
     "start_time": "2019-07-18T02:41:58.756602Z"
    },
    "scrolled": true
   },
   "outputs": [
    {
     "data": {
      "text/plain": [
       "['data.M55S1010-55-1010-1515-2020',\n",
       " 'documentM55S1010-55-1010-1515-2020.txt',\n",
       " 'dump_minimize.xtc',\n",
       " 'dump_NveTemp.xtc',\n",
       " 'dump_per2000_2million.xtc',\n",
       " 'in.M55S1010-55-1010-1515-2020',\n",
       " 'lsf.M55S1010-55-1010-1515-2020',\n",
       " 'M55S1010-55-1010-1515-2020.19900000.restart',\n",
       " 'M55S1010-55-1010-1515-2020.gro',\n",
       " 'M55S1010-55-1010-1515-2020_mcenter.vector',\n",
       " 'M55S1010-55-1010-1515-2020_omiga.vector',\n",
       " 'MC.csv',\n",
       " 'MC_MR123Z.png',\n",
       " 'MC_upX--downY.png',\n",
       " 'MC_xy.csv',\n",
       " 'mr1.c',\n",
       " 'r1r2.c',\n",
       " 'r2r3.c',\n",
       " 'rm_cp_bsub2019923',\n",
       " 'rs_1.c',\n",
       " 'rs_2.c',\n",
       " 'rs_3.c',\n",
       " 'RTR.csv',\n",
       " 'RTR.png',\n",
       " 'xdrfile.h']"
      ]
     },
     "execution_count": 81,
     "metadata": {},
     "output_type": "execute_result"
    }
   ],
   "source": [
    "files = os.listdir()\n",
    "files"
   ]
  },
  {
   "cell_type": "code",
   "execution_count": 82,
   "metadata": {
    "ExecuteTime": {
     "end_time": "2019-07-18T02:41:58.803607Z",
     "start_time": "2019-07-18T02:41:58.794604Z"
    }
   },
   "outputs": [],
   "source": [
    "#先编译正则表达式\n",
    "p = re.compile('omiga')\n",
    "for e in files :\n",
    "#     调用_sre.SRE_Pattern对象的search ()方法\n",
    "    if p.search(e) :\n",
    "        omiga_file = e"
   ]
  },
  {
   "cell_type": "code",
   "execution_count": 83,
   "metadata": {
    "ExecuteTime": {
     "end_time": "2019-07-18T02:41:58.822604Z",
     "start_time": "2019-07-18T02:41:58.810604Z"
    }
   },
   "outputs": [],
   "source": [
    "# 直接用正则表达式匹配目标字符串\n",
    "for e in files :\n",
    "    if re.search('mcenter',e):\n",
    "        mcenter_file = e"
   ]
  },
  {
   "cell_type": "code",
   "execution_count": 84,
   "metadata": {
    "ExecuteTime": {
     "end_time": "2019-07-18T02:41:58.849606Z",
     "start_time": "2019-07-18T02:41:58.829607Z"
    }
   },
   "outputs": [],
   "source": [
    "\n",
    "col_num = 3  #  z列  取所有原子类型的第三列  \n",
    "# atom_type = list(np.r_[1:4,7:9,12])\n",
    "# 1,2,3,4 电机、转子1,2,3\n",
    "atom_type = list(np.r_[1:5])   #vector文件的第一列是 原子序号  ### 选择需要读取的列"
   ]
  },
  {
   "cell_type": "code",
   "execution_count": 85,
   "metadata": {
    "ExecuteTime": {
     "end_time": "2019-07-18T02:41:58.865604Z",
     "start_time": "2019-07-18T02:41:58.855604Z"
    }
   },
   "outputs": [],
   "source": [
    "xyz_atom_type = list(range(1,9))"
   ]
  },
  {
   "cell_type": "code",
   "execution_count": 86,
   "metadata": {
    "ExecuteTime": {
     "end_time": "2019-07-18T02:41:58.880606Z",
     "start_time": "2019-07-18T02:41:58.870606Z"
    }
   },
   "outputs": [],
   "source": [
    "def read_infile(infile):\n",
    "    with open(infile, encoding='UTF-8') as f:\n",
    "        rows = f.readlines()\n",
    "    rows = rows[3:]  #vector文件  跳过前三行\n",
    "#     rows[:3]\n",
    "    return rows"
   ]
  },
  {
   "cell_type": "code",
   "execution_count": 87,
   "metadata": {
    "ExecuteTime": {
     "end_time": "2019-07-18T02:42:12.897332Z",
     "start_time": "2019-07-18T02:41:58.884607Z"
    }
   },
   "outputs": [],
   "source": [
    "omiga = read_infile(omiga_file)\n",
    "mcenter =  read_infile(mcenter_file)"
   ]
  },
  {
   "cell_type": "code",
   "execution_count": 88,
   "metadata": {
    "ExecuteTime": {
     "end_time": "2019-07-18T02:42:13.142562Z",
     "start_time": "2019-07-18T02:42:13.016561Z"
    }
   },
   "outputs": [],
   "source": [
    "def deal_data(rows):\n",
    "    chunksize = int(rows[0].split()[-1]) + 1    # 取type 类型  总数 + 1\n",
    "#     motor_Zvector = float(rows[:3][1].split()[-1])\n",
    "    data = []\n",
    "    for i in range(0,len(rows), chunksize):\n",
    "        chunk = rows[i:i+chunksize]    # 每个type总数  取一次  \n",
    "        timestep = i/chunksize    #添加列      timestep\n",
    "        temp = [chunk[e] for e in atom_type]    #  按 chunksize 放到列表\n",
    "        entry = [str(int(timestep))] + [row.split()[col_num] for row in temp]   #取所有原子类型的第三列   放入   entry\n",
    "        data.append(entry)\n",
    "    return data #,motor_Zvector"
   ]
  },
  {
   "cell_type": "markdown",
   "metadata": {},
   "source": [
    "# 质心xy"
   ]
  },
  {
   "cell_type": "code",
   "execution_count": 89,
   "metadata": {
    "ExecuteTime": {
     "end_time": "2019-07-18T02:42:13.175564Z",
     "start_time": "2019-07-18T02:42:13.152562Z"
    }
   },
   "outputs": [],
   "source": [
    "def deal_mcenter(rows):\n",
    "    chunksize = int(rows[0].split()[-1]) + 1    # 取type 类型  总数 + 1\n",
    "#     motor_Zvector = float(rows[:3][1].split()[-1])\n",
    "    data = []\n",
    "    for i in range(0,len(rows), chunksize):\n",
    "        chunk = rows[i:i+chunksize]    # 每个type总数  取一次  \n",
    "        timestep = i/chunksize    #添加列      timestep\n",
    "        temp = [chunk[e] for e in atom_type]    #  按 chunksize 放到列表\n",
    "        entry = [str(int(timestep))] + [row.split()[1] for row in temp]+[row.split()[2] for row in temp]  #取所有原子类型的第1,2列(x,y)   放入   entry\n",
    "        data.append(entry)\n",
    "    return data #,motor_Zvector"
   ]
  },
  {
   "cell_type": "code",
   "execution_count": 90,
   "metadata": {
    "ExecuteTime": {
     "end_time": "2019-07-18T02:42:20.576678Z",
     "start_time": "2019-07-18T02:42:13.186568Z"
    },
    "scrolled": false
   },
   "outputs": [
    {
     "data": {
      "text/html": [
       "<div>\n",
       "<style scoped>\n",
       "    .dataframe tbody tr th:only-of-type {\n",
       "        vertical-align: middle;\n",
       "    }\n",
       "\n",
       "    .dataframe tbody tr th {\n",
       "        vertical-align: top;\n",
       "    }\n",
       "\n",
       "    .dataframe thead th {\n",
       "        text-align: right;\n",
       "    }\n",
       "</style>\n",
       "<table border=\"1\" class=\"dataframe\">\n",
       "  <thead>\n",
       "    <tr style=\"text-align: right;\">\n",
       "      <th></th>\n",
       "      <th>0</th>\n",
       "      <th>1</th>\n",
       "      <th>2</th>\n",
       "      <th>3</th>\n",
       "      <th>4</th>\n",
       "      <th>5</th>\n",
       "      <th>6</th>\n",
       "      <th>7</th>\n",
       "      <th>8</th>\n",
       "    </tr>\n",
       "  </thead>\n",
       "  <tbody>\n",
       "    <tr>\n",
       "      <th>0</th>\n",
       "      <td>0</td>\n",
       "      <td>0.0134089</td>\n",
       "      <td>0.0126896</td>\n",
       "      <td>-0.0223376</td>\n",
       "      <td>0.00451506</td>\n",
       "      <td>0.0182879</td>\n",
       "      <td>0.0244572</td>\n",
       "      <td>-0.0256618</td>\n",
       "      <td>-0.00458233</td>\n",
       "    </tr>\n",
       "    <tr>\n",
       "      <th>1</th>\n",
       "      <td>1</td>\n",
       "      <td>-0.0215974</td>\n",
       "      <td>-0.0109186</td>\n",
       "      <td>0.0208086</td>\n",
       "      <td>-0.0139528</td>\n",
       "      <td>-0.00691369</td>\n",
       "      <td>-0.0386036</td>\n",
       "      <td>-0.00803972</td>\n",
       "      <td>-0.0112965</td>\n",
       "    </tr>\n",
       "    <tr>\n",
       "      <th>2</th>\n",
       "      <td>2</td>\n",
       "      <td>0.0215364</td>\n",
       "      <td>0.0129946</td>\n",
       "      <td>-0.00468805</td>\n",
       "      <td>0.00241461</td>\n",
       "      <td>-0.00710132</td>\n",
       "      <td>0.0363048</td>\n",
       "      <td>0.0167624</td>\n",
       "      <td>-0.00499579</td>\n",
       "    </tr>\n",
       "    <tr>\n",
       "      <th>3</th>\n",
       "      <td>3</td>\n",
       "      <td>-0.0132493</td>\n",
       "      <td>-0.00933753</td>\n",
       "      <td>-0.019299</td>\n",
       "      <td>-0.013992</td>\n",
       "      <td>0.0184039</td>\n",
       "      <td>-0.0367715</td>\n",
       "      <td>-0.0181322</td>\n",
       "      <td>0.00963618</td>\n",
       "    </tr>\n",
       "    <tr>\n",
       "      <th>4</th>\n",
       "      <td>4</td>\n",
       "      <td>-9.86439e-05</td>\n",
       "      <td>0.00933648</td>\n",
       "      <td>0.0208276</td>\n",
       "      <td>-0.012636</td>\n",
       "      <td>-0.0226768</td>\n",
       "      <td>0.0286082</td>\n",
       "      <td>0.00467991</td>\n",
       "      <td>0.0219482</td>\n",
       "    </tr>\n",
       "  </tbody>\n",
       "</table>\n",
       "</div>"
      ],
      "text/plain": [
       "   0             1            2            3           4            5  \\\n",
       "0  0     0.0134089    0.0126896   -0.0223376  0.00451506    0.0182879   \n",
       "1  1    -0.0215974   -0.0109186    0.0208086  -0.0139528  -0.00691369   \n",
       "2  2     0.0215364    0.0129946  -0.00468805  0.00241461  -0.00710132   \n",
       "3  3    -0.0132493  -0.00933753    -0.019299   -0.013992    0.0184039   \n",
       "4  4  -9.86439e-05   0.00933648    0.0208276   -0.012636   -0.0226768   \n",
       "\n",
       "            6            7            8  \n",
       "0   0.0244572   -0.0256618  -0.00458233  \n",
       "1  -0.0386036  -0.00803972   -0.0112965  \n",
       "2   0.0363048    0.0167624  -0.00499579  \n",
       "3  -0.0367715   -0.0181322   0.00963618  \n",
       "4   0.0286082   0.00467991    0.0219482  "
      ]
     },
     "execution_count": 90,
     "metadata": {},
     "output_type": "execute_result"
    }
   ],
   "source": [
    "xyz_mcenter_df = pd.DataFrame(deal_mcenter(mcenter))\n",
    "xyz_mcenter_df.head()"
   ]
  },
  {
   "cell_type": "code",
   "execution_count": 91,
   "metadata": {
    "ExecuteTime": {
     "end_time": "2019-07-18T02:42:21.245719Z",
     "start_time": "2019-07-18T02:42:20.602676Z"
    }
   },
   "outputs": [],
   "source": [
    "xyz_mcenter_df[xyz_atom_type] = xyz_mcenter_df[xyz_atom_type].astype(float)"
   ]
  },
  {
   "cell_type": "code",
   "execution_count": 92,
   "metadata": {
    "ExecuteTime": {
     "end_time": "2019-07-18T02:42:21.260697Z",
     "start_time": "2019-07-18T02:42:21.249673Z"
    }
   },
   "outputs": [],
   "source": [
    "xyz_mcenter_df.columns = [\"timestep\",\n",
    "                          \"x_M_mcenter\", \"x_R1_mcenter\",\"x_R2_mcenter\",\"x_R3_mcenter\",\n",
    "                          \"y_M_mcenter\",\n",
    "                         \"y_R1_mcenter\",\n",
    "                          \"y_R2_mcenter\",\n",
    "                          \"y_R3_mcenter\"]"
   ]
  },
  {
   "cell_type": "code",
   "execution_count": 93,
   "metadata": {
    "ExecuteTime": {
     "end_time": "2019-07-18T02:42:21.445674Z",
     "start_time": "2019-07-18T02:42:21.268679Z"
    }
   },
   "outputs": [],
   "source": [
    "xyz_MC = xyz_mcenter_df.eval(\"\"\"\n",
    "                                 x_motor = x_M_mcenter/10\n",
    "                                 y_motor = y_M_mcenter/10\n",
    "                                 x_R1    = x_R1_mcenter/10\n",
    "                                 y_R1    = y_R1_mcenter/10\n",
    "                                 x_R2    = x_R2_mcenter/10\n",
    "                                 y_R2    = y_R2_mcenter/10\n",
    "                                 x_R3    = x_R3_mcenter/10\n",
    "                                 y_R3    = y_R3_mcenter/10\n",
    "\n",
    "                                    \"\"\")"
   ]
  },
  {
   "cell_type": "code",
   "execution_count": 94,
   "metadata": {
    "ExecuteTime": {
     "end_time": "2019-07-18T02:42:21.575210Z",
     "start_time": "2019-07-18T02:42:21.501676Z"
    }
   },
   "outputs": [],
   "source": [
    "MC_xy = xyz_MC[[\"timestep\",\"x_motor\",\"y_motor\",\"x_R1\",\"y_R1\",\"x_R2\",\"y_R2\",\"x_R3\",\"y_R3\"]]"
   ]
  },
  {
   "cell_type": "code",
   "execution_count": 95,
   "metadata": {
    "ExecuteTime": {
     "end_time": "2019-07-18T02:42:21.636215Z",
     "start_time": "2019-07-18T02:42:21.589214Z"
    }
   },
   "outputs": [
    {
     "data": {
      "text/plain": [
       "0    5.763552e-11\n",
       "1    2.590341e-10\n",
       "2    2.210866e-10\n",
       "3    2.071679e-10\n",
       "4    8.201095e-11\n",
       "dtype: float64"
      ]
     },
     "execution_count": 95,
     "metadata": {},
     "output_type": "execute_result"
    }
   ],
   "source": [
    "((MC_xy.x_R1**2+MC_xy.y_R1**2)**2).head()"
   ]
  },
  {
   "cell_type": "code",
   "execution_count": 96,
   "metadata": {
    "ExecuteTime": {
     "end_time": "2019-07-18T02:42:21.672215Z",
     "start_time": "2019-07-18T02:42:21.641212Z"
    },
    "scrolled": true
   },
   "outputs": [
    {
     "data": {
      "text/plain": [
       "0    1.339798e-10\n",
       "1    2.476405e-11\n",
       "2    9.178226e-12\n",
       "3    4.917208e-11\n",
       "4    2.076538e-11\n",
       "dtype: float64"
      ]
     },
     "execution_count": 96,
     "metadata": {},
     "output_type": "execute_result"
    }
   ],
   "source": [
    "((MC_xy.x_R2**2+MC_xy.y_R2**2)**2).head()"
   ]
  },
  {
   "cell_type": "code",
   "execution_count": 97,
   "metadata": {
    "ExecuteTime": {
     "end_time": "2019-07-18T02:42:21.708215Z",
     "start_time": "2019-07-18T02:42:21.677214Z"
    },
    "scrolled": true
   },
   "outputs": [
    {
     "data": {
      "text/plain": [
       "9995    6.825959e-13\n",
       "9996    1.507522e-12\n",
       "9997    5.985326e-15\n",
       "9998    3.148718e-13\n",
       "9999    4.057673e-14\n",
       "dtype: float64"
      ]
     },
     "execution_count": 97,
     "metadata": {},
     "output_type": "execute_result"
    }
   ],
   "source": [
    "((MC_xy.x_R3**2+MC_xy.y_R3**2)**2).tail()"
   ]
  },
  {
   "cell_type": "markdown",
   "metadata": {},
   "source": [
    "# omiga_df to RTR"
   ]
  },
  {
   "cell_type": "code",
   "execution_count": 98,
   "metadata": {
    "ExecuteTime": {
     "end_time": "2019-07-18T02:42:24.361941Z",
     "start_time": "2019-07-18T02:42:21.713217Z"
    },
    "scrolled": true
   },
   "outputs": [],
   "source": [
    "omiga_df = pd.DataFrame(deal_data(omiga))"
   ]
  },
  {
   "cell_type": "code",
   "execution_count": 99,
   "metadata": {
    "ExecuteTime": {
     "end_time": "2019-07-18T02:42:24.685937Z",
     "start_time": "2019-07-18T02:42:24.366941Z"
    }
   },
   "outputs": [],
   "source": [
    "omiga_df[atom_type] =  omiga_df[atom_type].astype(float)"
   ]
  },
  {
   "cell_type": "code",
   "execution_count": 100,
   "metadata": {
    "ExecuteTime": {
     "end_time": "2019-07-18T02:42:24.703937Z",
     "start_time": "2019-07-18T02:42:24.689940Z"
    }
   },
   "outputs": [],
   "source": [
    "omiga_df.columns = [\"timestep\",\"M_omiga\",\"R1_omiga\",\"R2_omiga\",\"R3_omiga\"]\n",
    "# omiga_df.head()"
   ]
  },
  {
   "cell_type": "code",
   "execution_count": 101,
   "metadata": {
    "ExecuteTime": {
     "end_time": "2019-07-18T02:42:24.800938Z",
     "start_time": "2019-07-18T02:42:24.711940Z"
    }
   },
   "outputs": [],
   "source": [
    "omiga_RTR = omiga_df.eval(\"\"\"RTR_1 = R1_omiga/M_omiga\n",
    "                             RTR_2 = R2_omiga/M_omiga\n",
    "                             RTR_3 = R3_omiga/M_omiga\n",
    "                             \"\"\")  #,inplace = True"
   ]
  },
  {
   "cell_type": "code",
   "execution_count": 102,
   "metadata": {
    "ExecuteTime": {
     "end_time": "2019-07-18T02:42:24.881937Z",
     "start_time": "2019-07-18T02:42:24.808938Z"
    },
    "scrolled": false
   },
   "outputs": [
    {
     "data": {
      "text/html": [
       "<div>\n",
       "<style scoped>\n",
       "    .dataframe tbody tr th:only-of-type {\n",
       "        vertical-align: middle;\n",
       "    }\n",
       "\n",
       "    .dataframe tbody tr th {\n",
       "        vertical-align: top;\n",
       "    }\n",
       "\n",
       "    .dataframe thead th {\n",
       "        text-align: right;\n",
       "    }\n",
       "</style>\n",
       "<table border=\"1\" class=\"dataframe\">\n",
       "  <thead>\n",
       "    <tr style=\"text-align: right;\">\n",
       "      <th></th>\n",
       "      <th>timestep</th>\n",
       "      <th>RTR_1</th>\n",
       "      <th>RTR_2</th>\n",
       "      <th>RTR_3</th>\n",
       "    </tr>\n",
       "  </thead>\n",
       "  <tbody>\n",
       "    <tr>\n",
       "      <th>9995</th>\n",
       "      <td>9995</td>\n",
       "      <td>0.030225</td>\n",
       "      <td>-0.005166</td>\n",
       "      <td>0.003341</td>\n",
       "    </tr>\n",
       "    <tr>\n",
       "      <th>9996</th>\n",
       "      <td>9996</td>\n",
       "      <td>0.028272</td>\n",
       "      <td>-0.005429</td>\n",
       "      <td>0.003296</td>\n",
       "    </tr>\n",
       "    <tr>\n",
       "      <th>9997</th>\n",
       "      <td>9997</td>\n",
       "      <td>0.026036</td>\n",
       "      <td>-0.008111</td>\n",
       "      <td>0.002114</td>\n",
       "    </tr>\n",
       "    <tr>\n",
       "      <th>9998</th>\n",
       "      <td>9998</td>\n",
       "      <td>0.025729</td>\n",
       "      <td>-0.010119</td>\n",
       "      <td>0.000193</td>\n",
       "    </tr>\n",
       "    <tr>\n",
       "      <th>9999</th>\n",
       "      <td>9999</td>\n",
       "      <td>0.025329</td>\n",
       "      <td>-0.009462</td>\n",
       "      <td>-0.003844</td>\n",
       "    </tr>\n",
       "  </tbody>\n",
       "</table>\n",
       "</div>"
      ],
      "text/plain": [
       "     timestep     RTR_1     RTR_2     RTR_3\n",
       "9995     9995  0.030225 -0.005166  0.003341\n",
       "9996     9996  0.028272 -0.005429  0.003296\n",
       "9997     9997  0.026036 -0.008111  0.002114\n",
       "9998     9998  0.025729 -0.010119  0.000193\n",
       "9999     9999  0.025329 -0.009462 -0.003844"
      ]
     },
     "execution_count": 102,
     "metadata": {},
     "output_type": "execute_result"
    }
   ],
   "source": [
    "RTR = omiga_RTR[[\"timestep\",\"RTR_1\",\"RTR_2\",\"RTR_3\"]]\n",
    "RTR.tail()"
   ]
  },
  {
   "cell_type": "markdown",
   "metadata": {},
   "source": [
    "# mcenter_df to mcenter"
   ]
  },
  {
   "cell_type": "code",
   "execution_count": 103,
   "metadata": {
    "ExecuteTime": {
     "end_time": "2019-07-18T02:42:26.374964Z",
     "start_time": "2019-07-18T02:42:24.886938Z"
    }
   },
   "outputs": [],
   "source": [
    "mcenter_df = pd.DataFrame(deal_data(mcenter))"
   ]
  },
  {
   "cell_type": "code",
   "execution_count": 104,
   "metadata": {
    "ExecuteTime": {
     "end_time": "2019-07-18T02:42:26.702934Z",
     "start_time": "2019-07-18T02:42:26.379944Z"
    }
   },
   "outputs": [],
   "source": [
    "mcenter_df[atom_type] =  mcenter_df[atom_type].astype(float)"
   ]
  },
  {
   "cell_type": "code",
   "execution_count": 105,
   "metadata": {
    "ExecuteTime": {
     "end_time": "2019-07-18T02:42:26.715939Z",
     "start_time": "2019-07-18T02:42:26.707939Z"
    }
   },
   "outputs": [],
   "source": [
    "mcenter_df.columns = [\"timestep\",\"M_mcenter\",\"R1_mcenter\",\"R2_mcenter\",\"R3_mcenter\"]\n",
    "# mcenter_df.head()"
   ]
  },
  {
   "cell_type": "code",
   "execution_count": 106,
   "metadata": {
    "ExecuteTime": {
     "end_time": "2019-07-18T02:42:26.799946Z",
     "start_time": "2019-07-18T02:42:26.722937Z"
    }
   },
   "outputs": [],
   "source": [
    "mcenter_MC = mcenter_df.eval(\"\"\"MC_1 = R1_mcenter/10\n",
    "                                MC_2 = R2_mcenter/10\n",
    "                                MC_3 = R3_mcenter/10\n",
    "                                     \"\"\")"
   ]
  },
  {
   "cell_type": "code",
   "execution_count": 107,
   "metadata": {
    "ExecuteTime": {
     "end_time": "2019-07-18T02:42:27.316980Z",
     "start_time": "2019-07-18T02:42:26.807942Z"
    }
   },
   "outputs": [],
   "source": [
    "MC = mcenter_MC[[\"timestep\",\"MC_1\",\"MC_2\",\"MC_3\"]]\n",
    "# MC .head()"
   ]
  },
  {
   "cell_type": "code",
   "execution_count": 108,
   "metadata": {
    "ExecuteTime": {
     "end_time": "2019-07-18T02:42:27.341935Z",
     "start_time": "2019-07-18T02:42:27.319945Z"
    }
   },
   "outputs": [
    {
     "data": {
      "text/html": [
       "<div>\n",
       "<style scoped>\n",
       "    .dataframe tbody tr th:only-of-type {\n",
       "        vertical-align: middle;\n",
       "    }\n",
       "\n",
       "    .dataframe tbody tr th {\n",
       "        vertical-align: top;\n",
       "    }\n",
       "\n",
       "    .dataframe thead th {\n",
       "        text-align: right;\n",
       "    }\n",
       "</style>\n",
       "<table border=\"1\" class=\"dataframe\">\n",
       "  <thead>\n",
       "    <tr style=\"text-align: right;\">\n",
       "      <th></th>\n",
       "      <th>timestep</th>\n",
       "      <th>MC_1</th>\n",
       "      <th>MC_2</th>\n",
       "      <th>MC_3</th>\n",
       "    </tr>\n",
       "  </thead>\n",
       "  <tbody>\n",
       "    <tr>\n",
       "      <th>0</th>\n",
       "      <td>0</td>\n",
       "      <td>7.35147</td>\n",
       "      <td>15.7768</td>\n",
       "      <td>24.1367</td>\n",
       "    </tr>\n",
       "    <tr>\n",
       "      <th>1</th>\n",
       "      <td>1</td>\n",
       "      <td>7.28867</td>\n",
       "      <td>15.7312</td>\n",
       "      <td>23.9827</td>\n",
       "    </tr>\n",
       "    <tr>\n",
       "      <th>2</th>\n",
       "      <td>2</td>\n",
       "      <td>7.26784</td>\n",
       "      <td>15.7643</td>\n",
       "      <td>23.7861</td>\n",
       "    </tr>\n",
       "    <tr>\n",
       "      <th>3</th>\n",
       "      <td>3</td>\n",
       "      <td>7.29475</td>\n",
       "      <td>15.8508</td>\n",
       "      <td>23.7782</td>\n",
       "    </tr>\n",
       "    <tr>\n",
       "      <th>4</th>\n",
       "      <td>4</td>\n",
       "      <td>7.35110</td>\n",
       "      <td>15.9083</td>\n",
       "      <td>23.9431</td>\n",
       "    </tr>\n",
       "  </tbody>\n",
       "</table>\n",
       "</div>"
      ],
      "text/plain": [
       "  timestep     MC_1     MC_2     MC_3\n",
       "0        0  7.35147  15.7768  24.1367\n",
       "1        1  7.28867  15.7312  23.9827\n",
       "2        2  7.26784  15.7643  23.7861\n",
       "3        3  7.29475  15.8508  23.7782\n",
       "4        4  7.35110  15.9083  23.9431"
      ]
     },
     "execution_count": 108,
     "metadata": {},
     "output_type": "execute_result"
    }
   ],
   "source": [
    "MC.head()"
   ]
  },
  {
   "cell_type": "code",
   "execution_count": 109,
   "metadata": {
    "ExecuteTime": {
     "end_time": "2019-07-18T02:42:27.380941Z",
     "start_time": "2019-07-18T02:42:27.350943Z"
    },
    "scrolled": false
   },
   "outputs": [
    {
     "data": {
      "text/html": [
       "<div>\n",
       "<style scoped>\n",
       "    .dataframe tbody tr th:only-of-type {\n",
       "        vertical-align: middle;\n",
       "    }\n",
       "\n",
       "    .dataframe tbody tr th {\n",
       "        vertical-align: top;\n",
       "    }\n",
       "\n",
       "    .dataframe thead th {\n",
       "        text-align: right;\n",
       "    }\n",
       "</style>\n",
       "<table border=\"1\" class=\"dataframe\">\n",
       "  <thead>\n",
       "    <tr style=\"text-align: right;\">\n",
       "      <th></th>\n",
       "      <th>timestep</th>\n",
       "      <th>MC_1</th>\n",
       "      <th>MC_2</th>\n",
       "      <th>MC_3</th>\n",
       "    </tr>\n",
       "  </thead>\n",
       "  <tbody>\n",
       "    <tr>\n",
       "      <th>9995</th>\n",
       "      <td>9995</td>\n",
       "      <td>7.62038</td>\n",
       "      <td>15.7804</td>\n",
       "      <td>23.7755</td>\n",
       "    </tr>\n",
       "    <tr>\n",
       "      <th>9996</th>\n",
       "      <td>9996</td>\n",
       "      <td>7.59220</td>\n",
       "      <td>15.8025</td>\n",
       "      <td>23.7718</td>\n",
       "    </tr>\n",
       "    <tr>\n",
       "      <th>9997</th>\n",
       "      <td>9997</td>\n",
       "      <td>7.56634</td>\n",
       "      <td>15.8118</td>\n",
       "      <td>23.7699</td>\n",
       "    </tr>\n",
       "    <tr>\n",
       "      <th>9998</th>\n",
       "      <td>9998</td>\n",
       "      <td>7.55443</td>\n",
       "      <td>15.7944</td>\n",
       "      <td>23.7769</td>\n",
       "    </tr>\n",
       "    <tr>\n",
       "      <th>9999</th>\n",
       "      <td>9999</td>\n",
       "      <td>7.56286</td>\n",
       "      <td>15.7765</td>\n",
       "      <td>23.7685</td>\n",
       "    </tr>\n",
       "  </tbody>\n",
       "</table>\n",
       "</div>"
      ],
      "text/plain": [
       "     timestep     MC_1     MC_2     MC_3\n",
       "9995     9995  7.62038  15.7804  23.7755\n",
       "9996     9996  7.59220  15.8025  23.7718\n",
       "9997     9997  7.56634  15.8118  23.7699\n",
       "9998     9998  7.55443  15.7944  23.7769\n",
       "9999     9999  7.56286  15.7765  23.7685"
      ]
     },
     "execution_count": 109,
     "metadata": {},
     "output_type": "execute_result"
    }
   ],
   "source": [
    "MC.tail()"
   ]
  },
  {
   "cell_type": "markdown",
   "metadata": {},
   "source": [
    "# 可视化"
   ]
  },
  {
   "cell_type": "code",
   "execution_count": null,
   "metadata": {},
   "outputs": [],
   "source": []
  },
  {
   "cell_type": "code",
   "execution_count": null,
   "metadata": {},
   "outputs": [],
   "source": []
  },
  {
   "cell_type": "code",
   "execution_count": 110,
   "metadata": {
    "ExecuteTime": {
     "end_time": "2019-07-18T02:42:27.452942Z",
     "start_time": "2019-07-18T02:42:27.389942Z"
    }
   },
   "outputs": [],
   "source": [
    "#设置坐标的端点值lim     设置坐标标签的间隔点 ticks  颜色   字体大小\n",
    "def lim_ticks():\n",
    "    y_start = -0.1\n",
    "    y_end = 1.2\n",
    "    x_start = -5000\n",
    "    x_end = 205000\n",
    "    global labelsize\n",
    "    labelsize=23 \n",
    "    plt.xticks([])  #去掉横坐标值\n",
    "    plt.yticks([])  #去掉纵坐标值\n",
    "    plt.ylim(y_start,y_end)\n",
    "    plt.xlim(x_start,x_end)\n",
    "    # 设置坐标轴刻度的字体大小\n",
    "    matplotlib.axes.Axes.tick_params\n",
    "    ax.tick_params(axis='y',labelsize=labelsize,colors='k')# y轴\n",
    "    ax.tick_params(axis='x',labelsize=labelsize, colors='k')\n",
    "    \n",
    "    # ax.tick_params(axis='x',labelsize=6, colors='b', labeltop=True, labelbottom=False) # x轴\n",
    "         # 设置轴记号\n",
    "    \n",
    "    \n",
    "    RTR_x = list(range(0,len(RTR) + 25000,25000))\n",
    "    \n",
    "    xticks(RTR_x,\n",
    "    [r'${}$'.format(x) for x in RTR_x])\n",
    "    # 在指定标记点  标记 y 坐标 的标记（值）\n",
    "    yticks([0,0.25,0.5,0.75,1],\n",
    "           [r'$0$',r'$0.25$',r'$0.5$',r'$0.75$',r'$1.0$']) \n",
    "    ax.set_xticklabels(list(range(0,len(RTR_x)*5,5)),font1)\n",
    "    ax.set_yticklabels([\"0\",\"\",\"0.5\",\"\",\"1.0\"],font1)\n",
    "    \n",
    "    ax.tick_params(left= True, bottom= True)\n",
    "#     ax.tick_params(right= True,top= True,left= True, bottom= True)\n",
    "\n",
    "    plt.grid(True)   #  显示标尺\n",
    "# 添加 文字text   M1:(5,5)/(5,5)/(5,5)\n",
    "import matplotlib.pyplot as plt\n",
    "from matplotlib import transforms  \n",
    "def rainbow_text(x,y,ls,lc,**kw):\n",
    "    \"\"\"\n",
    "    Take a list of strings ``ls`` and colors ``lc`` and place them next to each\n",
    "    other, with text ls[i] being shown in color lc[i].\n",
    "    This example shows how to do both vertical and horizontal text, and will\n",
    "    pass all keyword arguments to plt.text, so you can set the font size,\n",
    "    family, etc.\n",
    "    \"\"\"\n",
    "    t = plt.gca().transData\n",
    "    fig = plt.gcf()\n",
    "    plt.show()\n",
    "    #horizontal version\n",
    "    for s,c in zip(ls,lc):\n",
    "        text = plt.text(x,y,\" \"+s+\" \",color=c, transform=t, **kw)\n",
    "        text.draw(fig.canvas.get_renderer())\n",
    "        ex = text.get_window_extent()\n",
    "        t = transforms.offset_copy(text._transform, x=ex.width-25, units='dots')   # x=ex.width-8  调整字符串间的x轴方向距离16\n",
    "    #vertical version\n",
    "#     for s,c in zip(ls,lc):\n",
    "#         text = plt.text(x,y,\" \"+s+\" \",color=c, transform=t,\n",
    "#                 rotation=90,va='bottom',ha='center',**kw)\n",
    "#         text.draw(fig.canvas.get_renderer())\n",
    "#         ex = text.get_window_extent()\n",
    "#         t = transforms.offset_copy(text._transform, y=ex.height, units='dots')\n",
    "# plt.figure()\n",
    "# rainbow_text(0,0.2,\"all:unicorns/poop/rainbows/!/!/!\".split(\"p\"), \n",
    "#         ['red', 'orange', 'brown', 'green', 'blue', 'purple', 'black'],\n",
    "#         size=15)\n",
    "# rainbow_text(0,0.2,[\"M1:\",\"(5,5)\",\"/(5,5)/\",\"(5,5)\"], \n",
    "#         ['red', 'orange', 'brown', 'green', 'blue', 'purple', 'black'],\n",
    "#         size=15)"
   ]
  },
  {
   "cell_type": "markdown",
   "metadata": {},
   "source": [
    "## model_str 图片text 模型格式"
   ]
  },
  {
   "cell_type": "code",
   "execution_count": 111,
   "metadata": {
    "ExecuteTime": {
     "end_time": "2019-07-18T02:42:27.491944Z",
     "start_time": "2019-07-18T02:42:27.464937Z"
    },
    "scrolled": true
   },
   "outputs": [
    {
     "data": {
      "text/plain": [
       "'M55S1010:(5,5)-(10,10)/(15,15)-(15,15)/(20,20)-(15,15)/(25,25)'"
      ]
     },
     "execution_count": 111,
     "metadata": {},
     "output_type": "execute_result"
    }
   ],
   "source": [
    "model_str =mr_0 + \":\"\n",
    "space_symbol_1 = \"-\"\n",
    "space_symbol_2 = \"/\"\n",
    "model_str + mr_1.strip() + space_symbol_1 + mr_2.strip() + space_symbol_2 + stator_1.strip() + space_symbol_1 + \\\n",
    "                                            mr_3.strip() + space_symbol_2 +stator_2.strip()  + space_symbol_1 + \\\n",
    "                                            mr_4.strip() + space_symbol_2 +stator_3.strip()"
   ]
  },
  {
   "cell_type": "code",
   "execution_count": 112,
   "metadata": {
    "ExecuteTime": {
     "end_time": "2019-07-18T02:42:27.515936Z",
     "start_time": "2019-07-18T02:42:27.497937Z"
    }
   },
   "outputs": [
    {
     "data": {
      "text/html": [
       "<div>\n",
       "<style scoped>\n",
       "    .dataframe tbody tr th:only-of-type {\n",
       "        vertical-align: middle;\n",
       "    }\n",
       "\n",
       "    .dataframe tbody tr th {\n",
       "        vertical-align: top;\n",
       "    }\n",
       "\n",
       "    .dataframe thead th {\n",
       "        text-align: right;\n",
       "    }\n",
       "</style>\n",
       "<table border=\"1\" class=\"dataframe\">\n",
       "  <thead>\n",
       "    <tr style=\"text-align: right;\">\n",
       "      <th></th>\n",
       "      <th>timestep</th>\n",
       "      <th>RTR_1</th>\n",
       "      <th>RTR_2</th>\n",
       "      <th>RTR_3</th>\n",
       "    </tr>\n",
       "  </thead>\n",
       "  <tbody>\n",
       "    <tr>\n",
       "      <th>9995</th>\n",
       "      <td>9995</td>\n",
       "      <td>0.030225</td>\n",
       "      <td>-0.005166</td>\n",
       "      <td>0.003341</td>\n",
       "    </tr>\n",
       "    <tr>\n",
       "      <th>9996</th>\n",
       "      <td>9996</td>\n",
       "      <td>0.028272</td>\n",
       "      <td>-0.005429</td>\n",
       "      <td>0.003296</td>\n",
       "    </tr>\n",
       "    <tr>\n",
       "      <th>9997</th>\n",
       "      <td>9997</td>\n",
       "      <td>0.026036</td>\n",
       "      <td>-0.008111</td>\n",
       "      <td>0.002114</td>\n",
       "    </tr>\n",
       "    <tr>\n",
       "      <th>9998</th>\n",
       "      <td>9998</td>\n",
       "      <td>0.025729</td>\n",
       "      <td>-0.010119</td>\n",
       "      <td>0.000193</td>\n",
       "    </tr>\n",
       "    <tr>\n",
       "      <th>9999</th>\n",
       "      <td>9999</td>\n",
       "      <td>0.025329</td>\n",
       "      <td>-0.009462</td>\n",
       "      <td>-0.003844</td>\n",
       "    </tr>\n",
       "  </tbody>\n",
       "</table>\n",
       "</div>"
      ],
      "text/plain": [
       "     timestep     RTR_1     RTR_2     RTR_3\n",
       "9995     9995  0.030225 -0.005166  0.003341\n",
       "9996     9996  0.028272 -0.005429  0.003296\n",
       "9997     9997  0.026036 -0.008111  0.002114\n",
       "9998     9998  0.025729 -0.010119  0.000193\n",
       "9999     9999  0.025329 -0.009462 -0.003844"
      ]
     },
     "execution_count": 112,
     "metadata": {},
     "output_type": "execute_result"
    }
   ],
   "source": [
    "RTR.tail()"
   ]
  },
  {
   "cell_type": "markdown",
   "metadata": {},
   "source": [
    "## RTR"
   ]
  },
  {
   "cell_type": "code",
   "execution_count": 113,
   "metadata": {},
   "outputs": [
    {
     "data": {
      "text/plain": [
       "(10000, 4)"
      ]
     },
     "execution_count": 113,
     "metadata": {},
     "output_type": "execute_result"
    }
   ],
   "source": [
    "RTR.shape"
   ]
  },
  {
   "cell_type": "code",
   "execution_count": 114,
   "metadata": {
    "ExecuteTime": {
     "end_time": "2019-07-18T02:42:29.725603Z",
     "start_time": "2019-07-18T02:42:27.520936Z"
    },
    "scrolled": true
   },
   "outputs": [],
   "source": [
    "arange_end  = RTR.shape[0] \n",
    "figsize=11,9    #设置输出的图片大小\n",
    "fig = plt.figure(figsize=figsize)\n",
    "# ax = fig.add_subplot((111), projection='3d')\n",
    "# ax = fig.add_subplot(3,3,4)\n",
    "\n",
    "picture  = 1\n",
    "x = np.arange(0,arange_end)\n",
    "# add_subplot\n",
    "nrows = 1  #图形的  行数\n",
    "ncols = 1   #图形的  列数\n",
    "figure_num = 1 #图形  编号\n",
    "line_width = 0.1  #图像线条宽度\n",
    "\n",
    "# motor_color = \"black\"\n",
    "motor_color = \"red\"\n",
    "rotor1_color = \"#1F77B4\"   #蓝\n",
    "rotor2_color = \"#FF871F\"  #黄 orange\n",
    "rotor3_color = \"#2CA02C\"   #绿\n",
    "black_color  = \"black\"\n",
    "stator_color = \"silver\"     # silver   gray\n",
    "# motor_color = \"orange\"\n",
    "# rotor1_color = \"red\"  \n",
    "# rotor2_color = \"black\"\n",
    "# rotor3_color = \"blue\" \n",
    "text_x = -4000\n",
    "text_y = 1.0\n",
    "text_fontsize =labelsize = 22\n",
    "\n",
    "ax = fig.add_subplot(nrows,ncols,figure_num)\n",
    "ax.scatter(x,RTR.RTR_1,picture,linewidth = line_width,color= rotor1_color )\n",
    "# ax = fig.add_subplot(nrows,ncols,c)\n",
    "ax.scatter(x,RTR.RTR_2,picture,linewidth = line_width,color= rotor2_color)\n",
    "# ax = fig.add_subplot(nrows,ncols,c)\n",
    "ax.scatter(x,RTR.RTR_3,picture,linewidth = line_width,color= rotor3_color)\n",
    "ax= plt.gca() \n",
    "\n",
    "# 调用设置xy坐标起终值、坐标值字体大小、轴记号  函数  lim_ticks()\n",
    "lim_ticks( )\n",
    "\n",
    "# plt.table\n",
    "\n",
    "data_models = [mr+stators]\n",
    "# columns = (\"models\",\"motor\",\"Rotor1\",\"Rotor2\",\"Rotor3\",\"L-/R-Stator1\",\"L-/R-Stator2\",\"L-/R-Stator3\")\n",
    "# rows = [\"CNTS\"]\n",
    "\n",
    "\n",
    "# models \n",
    "rainbow_text(text_x,text_y+0.05,[model_str,mr_1.strip(),space_symbol_1,\n",
    "                                mr_2.strip(),space_symbol_2,stator_1.strip(),space_symbol_1,\n",
    "                                mr_3.strip(),space_symbol_2,stator_2.strip(),space_symbol_1,\n",
    "                                mr_4.strip(),space_symbol_2,stator_3.strip()],\n",
    "             [black_color,motor_color,black_color,\n",
    "              rotor1_color,black_color,stator_color,black_color,\n",
    "              rotor2_color,black_color,stator_color,black_color,\n",
    "              rotor3_color,black_color,stator_color\n",
    "              ],size=text_fontsize) \n",
    "\n",
    "# RTR 值\n",
    "rainbow_text(text_x,text_y+0.3,\n",
    "             [\"%.3f\" % RTR.RTR_1[arange_end-1],\"%.3f\" % RTR.RTR_2[arange_end-1],\"%.3f\" % RTR.RTR_3[arange_end-1]],\n",
    "             [rotor1_color,rotor2_color,rotor3_color],size=text_fontsize)    \n",
    "models =  mr+stators\n",
    "\n",
    "\n",
    "ticks_fontsize = labelsize\n",
    "# 设置刻度字体大小\n",
    "plt.xticks(fontsize=ticks_fontsize)\n",
    "plt.yticks(fontsize=ticks_fontsize)\n",
    "\n",
    "label_fontsize = labelsize + 7 # labelsize + 7 = 30\n",
    "# 设置x轴的标签\n",
    "plt.xlabel('Time(ns)',fontsize=label_fontsize)\n",
    "\n",
    "# 设置y轴的标签\n",
    "plt.ylabel('Rotation Transmission Ratios',fontsize=label_fontsize)\n",
    "\n",
    "# ax.scatter(x,RTR.RTR_4,picture )\n",
    "# 图中图   画质心\n",
    "#新增区域ax1,嵌套在ax内      add_axes\n",
    "# left, bottom, width, height = 0.45, 0.2, 0.4, 0.3\n",
    "# ax1 = fig.add_axes([left, bottom, width, height])\n",
    "# ax1.plot(x,MC.MC_1)\n",
    "# ax1.plot(x,MC.MC_2)\n",
    "# ax1.plot(x,MC.MC_3)\n",
    "# ax1.plot(x,MC.MC_4)\n",
    "plt.savefig(catalog_1 + \"\\\\RTR.png\")\n",
    "plt.show()\n",
    "# plt.close()"
   ]
  },
  {
   "cell_type": "code",
   "execution_count": 115,
   "metadata": {
    "ExecuteTime": {
     "end_time": "2019-07-18T02:42:29.744606Z",
     "start_time": "2019-07-18T02:42:29.730605Z"
    }
   },
   "outputs": [
    {
     "data": {
      "text/plain": [
       "'0.025'"
      ]
     },
     "execution_count": 115,
     "metadata": {},
     "output_type": "execute_result"
    }
   ],
   "source": [
    "\"%.3f\" % RTR.RTR_1[arange_end-1]"
   ]
  },
  {
   "cell_type": "markdown",
   "metadata": {},
   "source": [
    "# MC"
   ]
  },
  {
   "cell_type": "raw",
   "metadata": {},
   "source": [
    "### 可以画四张图-一张整体的空白提图（按照文献计算好坐标刻度、画ticks、labels）\n",
    "                分别画三张质心图在各自所在的尺寸范围内以相同的0.2间隔分别保存\n",
    "                最后根据需要将三张图截图放在整体空白图所在的对应位置上"
   ]
  },
  {
   "cell_type": "raw",
   "metadata": {},
   "source": [
    "## 空白整体图"
   ]
  },
  {
   "cell_type": "markdown",
   "metadata": {},
   "source": [
    "## MC_z"
   ]
  },
  {
   "cell_type": "markdown",
   "metadata": {},
   "source": [
    "## 设置x轴的标签   Time(ns)"
   ]
  },
  {
   "cell_type": "code",
   "execution_count": null,
   "metadata": {},
   "outputs": [],
   "source": []
  },
  {
   "cell_type": "code",
   "execution_count": null,
   "metadata": {},
   "outputs": [],
   "source": []
  },
  {
   "cell_type": "code",
   "execution_count": 116,
   "metadata": {
    "ExecuteTime": {
     "end_time": "2019-07-18T03:04:40.228231Z",
     "start_time": "2019-07-18T03:04:39.589241Z"
    }
   },
   "outputs": [],
   "source": [
    "#  Z\n",
    "# figsize = 22,18\n",
    "# fig = plt.figure(figsize=figsize)\n",
    "fig = plt.figure()\n",
    "# x = np.arange(0,len(MC.MC_1)+1)\n",
    "x = np.arange(0,len(MC.MC_1))\n",
    "rows = 3\n",
    "columns = 1\n",
    "\n",
    "y_dy = 0.2\n",
    "x_start = -5000\n",
    "x_end = 205000\n",
    "\n",
    "\n",
    "def xylim():\n",
    "    #         labelsize=  labelsize\n",
    "    plt.xticks([])  #去掉横坐标值\n",
    "#     plt.yticks([])  #去掉纵坐标值\n",
    "#     plt.ylim( y_start,y_end)\n",
    "    plt.xlim(x_start,x_end)\n",
    "    # 设置轴记号\n",
    "#     yticks([-0.2, -0.1 , 0, 0.1, 0.2],\n",
    "#         [r'$-0.2$', r'$-0.1$', r'$0$', r'$0.1$', r'$0.2$'])\n",
    "    # 在指定标记点  标记 y 坐标 的标记（值）\n",
    "#     xticks([0,25000 , 50000, 75000, 100000],\n",
    "#             [r'$0$', r'$5$', r'$10$', r'$15$', r'$20$'])\n",
    "#     xticks([0,25000 , 50000, 75000, 100000,125000,150000,175000,199999],\n",
    "#     [r'$0$', r'$5$', r'$10$', r'$15$', r'$20$', r'$25$', r'$30$', r'$35$', r'$40$'])\n",
    "    \n",
    "    RTR_x = list(range(0,len(RTR) + 25000,25000))\n",
    "    \n",
    "    xticks(RTR_x,\n",
    "    [r'${}$'.format(x) for x in RTR_x])\n",
    "    ax.set_xticklabels(list(range(0,len(RTR_x)*5,5)),font1)\n",
    "    \n",
    "    plt.grid(True)   #  显示标尺\n",
    "\n",
    "ax = fig.add_subplot(rows,columns,3)\n",
    "ax.scatter(x,MC.MC_1,picture,linewidth = line_width,color= rotor1_color )\n",
    "xylim()\n",
    "y_start = min(MC.MC_1) - y_dy\n",
    "y_end = max(MC.MC_1) + y_dy\n",
    "plt.ylim( y_start ,y_end ,y_dy/2)\n",
    "\n",
    "\n",
    "# 设置x轴的标签\n",
    "plt.xlabel('Time(ns)',fontsize=label_fontsize)\n",
    "\n",
    "ax.tick_params(axis='y',labelsize=ticks_fontsize)# y轴\n",
    "ax.tick_params(axis='x',labelsize=ticks_fontsize)# x轴\n",
    "#隐藏图三的top spinehttp://localhost:8888/notebooks/_python/python_module/read_vector_20190905_40ns.ipynb#%E8%AE%BE%E7%BD%AEy%E8%BD%B4%E7%9A%84%E6%A0%87%E7%AD%BE--Mass-Centers-(nm)\n",
    "ax.spines['top'].set_color('none')"
   ]
  },
  {
   "cell_type": "markdown",
   "metadata": {},
   "source": [
    "## 设置y轴的标签  Mass Centers (nm)"
   ]
  },
  {
   "cell_type": "code",
   "execution_count": 117,
   "metadata": {
    "ExecuteTime": {
     "end_time": "2019-07-18T03:04:41.832229Z",
     "start_time": "2019-07-18T03:04:40.291228Z"
    }
   },
   "outputs": [
    {
     "name": "stderr",
     "output_type": "stream",
     "text": [
      "C:\\ProgramData\\Anaconda3\\lib\\site-packages\\matplotlib\\font_manager.py:1241: UserWarning: findfont: Font family ['TimesNew Roman'] not found. Falling back to DejaVu Sans.\n",
      "  (prop.get_family(), self.defaultFamily[fontext]))\n"
     ]
    }
   ],
   "source": [
    "ax = fig.add_subplot(rows,columns,2)\n",
    "ax.scatter(x,MC.MC_2,picture,linewidth = line_width,color= rotor2_color )\n",
    "xylim()\n",
    "y_start = min(MC.MC_2) - y_dy\n",
    "y_end = max(MC.MC_2) + y_dy\n",
    "plt.ylim( y_start,y_end,y_dy)\n",
    "\n",
    "# 隐藏坐标轴ticks\n",
    "ax.tick_params(axis='y',labelsize=ticks_fontsize)# y轴\n",
    "ax.tick_params(axis='x',labelsize=0,colors='w')# x轴\n",
    "ax.spines['top'].set_color('none')\n",
    "ax.spines['bottom'].set_color('none')\n",
    "# 设置y轴的标签\n",
    "plt.ylabel('Mass Centers (nm)',fontsize=label_fontsize)\n",
    "\n",
    "ax = fig.add_subplot(rows,columns,1)\n",
    "ax.scatter(x,MC.MC_3,picture,linewidth = line_width,color= rotor3_color ) \n",
    "xylim()\n",
    "y_start = min(MC.MC_3) - y_dy\n",
    "y_end = max(MC.MC_3) + y_dy\n",
    "plt.ylim( y_start,y_end,y_dy)\n",
    "\n",
    "# 隐藏坐标轴ticks\n",
    "ax.tick_params(axis='y',labelsize=ticks_fontsize)# y轴\n",
    "ax.tick_params(axis='x',labelsize=0,colors='w')# x轴\n",
    "# ax.spines['top'].set_color('none')\n",
    "ax.spines['bottom'].set_color('none')\n",
    "\n",
    "\n",
    "\n",
    "### 调整axes边距 九宫格  紧凑\n",
    "plt.subplots_adjust(wspace =0, hspace =0)\n",
    "plt.grid(True)   #  显示标尺\n",
    "\n",
    "plt.savefig(catalog_1 + \"\\\\MC_MR123Z.png\")\n",
    "# plt.close()"
   ]
  },
  {
   "cell_type": "code",
   "execution_count": 118,
   "metadata": {
    "ExecuteTime": {
     "end_time": "2019-07-18T03:04:41.845234Z",
     "start_time": "2019-07-18T03:04:41.839233Z"
    }
   },
   "outputs": [],
   "source": [
    "# 取10个时刻0,2，4,6，8,10，12,14，16,18,20ns的xy平面内在，xy质心的变化图示"
   ]
  },
  {
   "cell_type": "markdown",
   "metadata": {},
   "source": [
    "## MC_xy"
   ]
  },
  {
   "cell_type": "code",
   "execution_count": 119,
   "metadata": {
    "ExecuteTime": {
     "end_time": "2019-07-18T05:40:16.575487Z",
     "start_time": "2019-07-18T05:40:11.247721Z"
    }
   },
   "outputs": [],
   "source": [
    "#  X ----  Y  motor rotor123\n",
    "# figsize = 22,18\n",
    "fig = plt.figure(figsize=figsize)\n",
    "# fig = plt.figure()\n",
    "# x = np.arange(0,arange_end)\n",
    "x = np.arange(0,len(MC_xy.x_R2))\n",
    "rows = 2\n",
    "columns = 3\n",
    "\n",
    "xy_y_dy = 0.025\n",
    "y_start = min(MC_xy.y_R2) - xy_y_dy\n",
    "y_end = max(MC_xy.y_R2) + xy_y_dy\n",
    "x_start = -5000\n",
    "x_end = 205000\n",
    "\n",
    "\n",
    "def xylim():\n",
    "    #         labelsize=  labelsize\n",
    "    plt.xticks([])  #去掉横坐标值\n",
    "    plt.yticks([])  #去掉纵坐标值\n",
    "    plt.ylim( y_start,y_end,xy_y_dy)\n",
    "    plt.xlim(x_start,x_end)\n",
    "    # 设置轴记号\n",
    "    yticks([-0.4, -0.025 , 0, 0.025, 0.4],\n",
    "        [r'$-0.4$', r'$-0.025$', r'$0$', r'$0.025$', r'$0.4$'])\n",
    "    # 在指定标记点  标记 y 坐标 的标记（值）\n",
    "    xticks([0,25000 , 50000, 75000, 100000,125000,150000,175000,199999],\n",
    "    [r'$0$', r'$5$', r'$10$', r'$15$', r'$20$', r'$25$', r'$30$', r'$35$', r'$40$'])\n",
    "    plt.grid(True)   #  显示标尺\n",
    "    \n",
    "\n",
    "#电机\n",
    "\n",
    "# ax = fig.add_subplot(rows,columns,1)\n",
    "# ax.scatter(x,MC_xy.x_motor,picture,linewidth = line_width*100,color= \"red\")\n",
    "# xylim()\n",
    "# # 隐藏坐标轴ticks\n",
    "# # ax.tick_params(axis='y',labelsize=0,colors='w')# y轴\n",
    "# ax.tick_params(axis='x',labelsize=0,colors='w')# x轴\n",
    "# # 隐藏坐标轴spines\n",
    "# # ax.spines['top'].set_color('none')\n",
    "# ax.spines['bottom'].set_color('none')\n",
    "\n",
    "# ax = fig.add_subplot(rows,columns,5)\n",
    "# ax.scatter(x,MC_xy.y_motor,picture,linewidth = line_width*100,color= \"red\")\n",
    "# xylim()    \n",
    "   \n",
    "    \n",
    "\n",
    "#转子1\n",
    "\n",
    "\n",
    "ax = fig.add_subplot(rows,columns,1)\n",
    "ax.scatter(x,MC_xy.x_R1,picture,linewidth = line_width,color= rotor1_color )\n",
    "xylim()\n",
    "# 隐藏坐标轴ticks\n",
    "ax.tick_params(axis='y',labelsize=ticks_fontsize)# y轴\n",
    "ax.tick_params(axis='x',labelsize=0,colors='w')# x轴\n",
    "# 隐藏坐标轴spines\n",
    "# ax.spines['top'].set_color('none')\n",
    "ax.spines['bottom'].set_color('none')\n",
    "########################################################################################\n",
    "\n",
    "ax = fig.add_subplot(rows,columns,4)\n",
    "ax.scatter(x,MC_xy.y_R1,picture,linewidth = line_width,color= rotor1_color )\n",
    "xylim()\n",
    "# 隐藏坐标轴ticks\n",
    "ax.tick_params(axis='y',labelsize=ticks_fontsize)# y轴\n",
    "ax.tick_params(axis='x',labelsize=ticks_fontsize)# x轴\n",
    "# 隐藏坐标轴spines\n",
    "# ax.spines['top'].set_color('none')\n",
    "# ax.spines['bottom'].set_color('none')\n",
    "########################################################################################\n",
    "\n",
    "#转子2\n",
    "\n",
    "ax = fig.add_subplot(rows,columns,2)\n",
    "ax.scatter(x,MC_xy.x_R2,picture,linewidth = line_width,color= rotor2_color )\n",
    "xylim()\n",
    "# 隐藏坐标轴ticks\n",
    "ax.tick_params(axis='y',labelsize=0,colors='w')# y轴\n",
    "ax.tick_params(axis='x',labelsize=0,colors='w')# x轴\n",
    "# 隐藏坐标轴spines\n",
    "# ax.spines['top'].set_color('none')\n",
    "ax.spines['bottom'].set_color('none')\n",
    "########################################################################################\n",
    "ax = fig.add_subplot(rows,columns,5)\n",
    "ax.scatter(x,MC_xy.y_R2,picture,linewidth = line_width,color= rotor2_color )\n",
    "xylim()\n",
    "# 隐藏坐标轴ticks\n",
    "ax.tick_params(axis='y',labelsize=0,colors='w')# y轴\n",
    "ax.tick_params(axis='x',labelsize=ticks_fontsize)# x轴\n",
    "# 隐藏坐标轴spines\n",
    "# ax.spines['top'].set_color('none')\n",
    "# ax.spines['bottom'].set_color('none')\n",
    "########################################################################################\n",
    "#转子3\n",
    "\n",
    "ax = fig.add_subplot(rows,columns,3)\n",
    "ax.scatter(x,MC_xy.x_R3,picture,linewidth = line_width,color= rotor3_color )\n",
    "xylim()\n",
    "# 隐藏坐标轴ticks\n",
    "ax.tick_params(axis='y',labelsize=0,colors='w')# y轴\n",
    "ax.tick_params(axis='x',labelsize=0,colors='w')# x轴\n",
    "# 隐藏坐标轴spines\n",
    "# ax.spines['top'].set_color('none')\n",
    "ax.spines['bottom'].set_color('none')\n",
    "########################################################################################\n",
    "ax = fig.add_subplot(rows,columns,6)\n",
    "ax.scatter(x,MC_xy.y_R3,picture,linewidth = line_width,color= rotor3_color )\n",
    "xylim()\n",
    "# 隐藏坐标轴ticks\n",
    "ax.tick_params(axis='y',labelsize=0,colors='w')# y轴\n",
    "ax.tick_params(axis='x',labelsize=ticks_fontsize)# x轴\n",
    "# 隐藏坐标轴spines\n",
    "# ax.spines['top'].set_color('none')\n",
    "# ax.spines['bottom'].set_color('none')\n",
    "########################################################################################\n",
    "\n",
    "\n",
    "\n",
    "### 调整axes边距 九宫格  紧凑\n",
    "plt.subplots_adjust(wspace =0, hspace =0)\n",
    "plt.grid(True)   #  显示标尺\n",
    "\n",
    "plt.savefig(catalog_1 + \"\\\\MC_upX--downY.png\")\n",
    "plt.close()"
   ]
  },
  {
   "cell_type": "markdown",
   "metadata": {},
   "source": [
    "# 输出到CSV文件 "
   ]
  },
  {
   "cell_type": "markdown",
   "metadata": {},
   "source": [
    "## RTR to CSV"
   ]
  },
  {
   "cell_type": "code",
   "execution_count": 120,
   "metadata": {
    "ExecuteTime": {
     "end_time": "2019-07-18T02:42:35.902081Z",
     "start_time": "2019-07-18T02:42:35.852069Z"
    }
   },
   "outputs": [
    {
     "name": "stdout",
     "output_type": "stream",
     "text": [
      "RTR.csv已存在\n",
      "###############   ALL  DONE   ###############\n"
     ]
    }
   ],
   "source": [
    "outfile = \"RTR.csv\"\n",
    "if os.path.isfile(outfile):\n",
    "    print(outfile+\"已存在\")\n",
    "else:\n",
    "    RTR.to_csv(outfile,index=False)\n",
    "\n",
    "print(\"#\"*15+\"   ALL  DONE   \"+\"#\"*15)"
   ]
  },
  {
   "cell_type": "markdown",
   "metadata": {},
   "source": [
    "## MC_z  to CSV"
   ]
  },
  {
   "cell_type": "code",
   "execution_count": 121,
   "metadata": {
    "ExecuteTime": {
     "end_time": "2019-07-18T02:42:35.970071Z",
     "start_time": "2019-07-18T02:42:35.909071Z"
    }
   },
   "outputs": [
    {
     "name": "stdout",
     "output_type": "stream",
     "text": [
      "MC.csv已存在\n",
      "###############   ALL  DONE   ###############\n"
     ]
    }
   ],
   "source": [
    "outfile = \"MC.csv\"\n",
    "if os.path.isfile(outfile):\n",
    "    print(outfile+\"已存在\")\n",
    "else:\n",
    "    MC.to_csv(outfile,index=False)\n",
    "\n",
    "print(\"#\"*15+\"   ALL  DONE   \"+\"#\"*15)"
   ]
  },
  {
   "cell_type": "markdown",
   "metadata": {},
   "source": [
    "## MC_xy to CSV"
   ]
  },
  {
   "cell_type": "code",
   "execution_count": 122,
   "metadata": {
    "ExecuteTime": {
     "end_time": "2019-07-18T02:42:40.164248Z",
     "start_time": "2019-07-18T02:42:35.976070Z"
    }
   },
   "outputs": [
    {
     "name": "stdout",
     "output_type": "stream",
     "text": [
      "MC_xy.csv已存在\n",
      "###############   ALL  DONE   ###############\n"
     ]
    }
   ],
   "source": [
    "outfile = \"MC_xy.csv\"\n",
    "if os.path.isfile(outfile):\n",
    "    print(outfile+\"已存在\")\n",
    "else:\n",
    "    MC_xy.to_csv(outfile,index=False)\n",
    "\n",
    "print(\"#\"*15+\"   ALL  DONE   \"+\"#\"*15)\n"
   ]
  },
  {
   "cell_type": "code",
   "execution_count": 123,
   "metadata": {
    "ExecuteTime": {
     "end_time": "2019-07-18T02:42:40.192285Z",
     "start_time": "2019-07-18T02:42:40.171245Z"
    }
   },
   "outputs": [
    {
     "data": {
      "text/plain": [
       "'F:\\\\_python\\\\20190710\\\\M55S1010-55-1010-1515-2020'"
      ]
     },
     "execution_count": 123,
     "metadata": {},
     "output_type": "execute_result"
    }
   ],
   "source": [
    "os.getcwd()"
   ]
  },
  {
   "cell_type": "code",
   "execution_count": 124,
   "metadata": {
    "ExecuteTime": {
     "end_time": "2019-07-18T02:42:40.212247Z",
     "start_time": "2019-07-18T02:42:40.199243Z"
    }
   },
   "outputs": [
    {
     "data": {
      "text/plain": [
       "'F:\\\\_python\\\\python_module'"
      ]
     },
     "execution_count": 124,
     "metadata": {},
     "output_type": "execute_result"
    }
   ],
   "source": [
    "os.chdir(catalog_0)\n",
    "os.getcwd()"
   ]
  }
 ],
 "metadata": {
  "hide_input": false,
  "kernelspec": {
   "display_name": "Python 3",
   "language": "python",
   "name": "python3"
  },
  "language_info": {
   "codemirror_mode": {
    "name": "ipython",
    "version": 3
   },
   "file_extension": ".py",
   "mimetype": "text/x-python",
   "name": "python",
   "nbconvert_exporter": "python",
   "pygments_lexer": "ipython3",
   "version": "3.7.3"
  },
  "toc": {
   "base_numbering": 1,
   "nav_menu": {},
   "number_sections": true,
   "sideBar": true,
   "skip_h1_title": false,
   "title_cell": "Table of Contents",
   "title_sidebar": "Contents",
   "toc_cell": false,
   "toc_position": {
    "height": "calc(100% - 180px)",
    "left": "10px",
    "top": "150px",
    "width": "348.969px"
   },
   "toc_section_display": true,
   "toc_window_display": true
  },
  "varInspector": {
   "cols": {
    "lenName": 16,
    "lenType": 16,
    "lenVar": 40
   },
   "kernels_config": {
    "python": {
     "delete_cmd_postfix": "",
     "delete_cmd_prefix": "del ",
     "library": "var_list.py",
     "varRefreshCmd": "print(var_dic_list())"
    },
    "r": {
     "delete_cmd_postfix": ") ",
     "delete_cmd_prefix": "rm(",
     "library": "var_list.r",
     "varRefreshCmd": "cat(var_dic_list()) "
    }
   },
   "types_to_exclude": [
    "module",
    "function",
    "builtin_function_or_method",
    "instance",
    "_Feature"
   ],
   "window_display": false
  }
 },
 "nbformat": 4,
 "nbformat_minor": 2
}
